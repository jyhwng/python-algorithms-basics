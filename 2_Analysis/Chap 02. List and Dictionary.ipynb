{
 "cells": [
  {
   "cell_type": "markdown",
   "metadata": {
    "slideshow": {
     "slide_type": "slide"
    }
   },
   "source": [
    "# 2.5. Performance of Python Data Structures\n",
    "- Big-O performance for the operations on Python lists and dictionaries.\n",
    "- timing experiments that illustrate the costs and benefits of using certain operations on each data structure.\n",
    "- efficiency of these Python data structures because they are the building blocks we will use as we implement other data structures in the remainder of the book."
   ]
  },
  {
   "cell_type": "markdown",
   "metadata": {
    "slideshow": {
     "slide_type": "slide"
    }
   },
   "source": [
    "# 2.6. Lists\n",
    "> Two common operations are indexing and assigning to an index position. Both of these operations take the same amount of time no matter how large the list becomes. When an operation like this is independent of the size of the list they are $O(1)$.\n",
    "\n",
    "> Another very common programming task is to grow a list. There are two ways to create a longer list. You can use the append method or the concatenation operator. The append method is $O(1)$. However, the concatenation operator is $O(k)$. where $k$ is the size of the list that is being concatenated. This is important for you to know because it can help you make your own programs more efficient by choosing the right tool for the job.\n",
    "\n"
   ]
  },
  {
   "cell_type": "code",
   "execution_count": null,
   "metadata": {
    "collapsed": true,
    "slideshow": {
     "slide_type": "subslide"
    }
   },
   "outputs": [],
   "source": [
    "import timeit\n",
    " \n",
    " \n",
    "def test1():\n",
    "    l = []\n",
    "    for i in range(1000):\n",
    "        l = l + [i]\n",
    " \n",
    "def test2():\n",
    "    l = []\n",
    "    for i in range(1000):\n",
    "        l.append(i)\n",
    " \n",
    "def test3():\n",
    "    l = [i for i in range(1000)]\n",
    " \n",
    "def test4():\n",
    "    l = list(range(1000)) \n",
    " \n",
    "t1 = timeit.Timer(\"test1()\", \"from __main__ import test1\")\n",
    "print(\"concat \",t1.timeit(number=1000), \"milliseconds\")\n",
    "t2 = timeit.Timer(\"test2()\", \"from __main__ import test2\")\n",
    "print(\"append \",t2.timeit(number=1000), \"milliseconds\")\n",
    "t3 = timeit.Timer(\"test3()\", \"from __main__ import test3\")\n",
    "print(\"comprehension \",t3.timeit(number=1000), \"milliseconds\")\n",
    "t4 = timeit.Timer(\"test4()\", \"from __main__ import test4\")\n",
    "print(\"list range \",t4.timeit(number=1000), \"milliseconds\")"
   ]
  },
  {
   "cell_type": "markdown",
   "metadata": {
    "slideshow": {
     "slide_type": "subslide"
    }
   },
   "source": [
    "reference: https://docs.python.org/3.4/library/timeit.html#\n",
    "\n",
    "The profiler shows that with respect to speed, the forth method is the fastest, followed by the third (using generator).\n",
    "append is much more efficient than 'extend'. The former is O(1) while the latter is O(n)."
   ]
  },
  {
   "cell_type": "code",
   "execution_count": null,
   "metadata": {
    "collapsed": true,
    "slideshow": {
     "slide_type": "subslide"
    }
   },
   "outputs": [],
   "source": [
    "popzero = timeit.Timer(\"x.pop(0)\",\n",
    "                       \"from __main__ import x\")\n",
    "popend = timeit.Timer(\"x.pop()\",\n",
    "                      \"from __main__ import x\")\n",
    "\n",
    "x = list(range(2000000))\n",
    "print (popzero.timeit(number=1000))\n",
    "\n",
    "x = list(range(2000000))\n",
    "print (popend.timeit(number=1000))"
   ]
  },
  {
   "cell_type": "markdown",
   "metadata": {
    "slideshow": {
     "slide_type": "subslide"
    }
   },
   "source": [
    "> Python's list implementation uses a dynamically resized C array under the hood, removing elements usually requires you to move elements following after up to prevent gaps.\n",
    "list.pop() with no arguments removes the last element. Accessing that element can be done in constant time. There are no elements following so nothing needs to be shifted.\n",
    "list.pop(0) removes the first element. All remaining elements have to be shifted up one step, so that takes O(n) linear time.\n",
    "\n",
    "reference : https://stackoverflow.com/questions/34633178/why-is-the-big-o-of-pop-different-from-pop0-in-python"
   ]
  },
  {
   "cell_type": "markdown",
   "metadata": {
    "slideshow": {
     "slide_type": "slide"
    }
   },
   "source": [
    "### Operation <-> Big-O Efficiency\n",
    "|Operation|Big-O Efficiency|\n",
    "|-----|-----|\n",
    "|index []|$O(1)$|\n",
    "|index assignment|$O(1)$|\n",
    "|append|$O(1)$|\n",
    "|pop()|$O(1)$|\n",
    "|pop(i)|$O(n)$|\n",
    "|insert(i,item)|$O(n)$|\n",
    "|del operator|$O(n)$|\n",
    "|iteration|$O(n)$|\n",
    "|contains (in)|$O(n)$|\n",
    "|get slice [x:y]|$O(k)$|\n",
    "|del slice|$O(n)$|\n",
    "|set slice|$O(n+k)$|\n",
    "|reverse|$O(n)$|\n",
    "|concatenate|$O(k)$|\n",
    "|sort|$O(n\\log{}n)$|\n",
    "|multiply|$O(nk)|\n",
    "\n",
    "more information : http://pythontutor.com/visualize.html#mode=display"
   ]
  },
  {
   "cell_type": "code",
   "execution_count": null,
   "metadata": {
    "collapsed": true,
    "slideshow": {
     "slide_type": "subslide"
    }
   },
   "outputs": [],
   "source": [
    "popzero = timeit.Timer(\"x.pop(0)\",\n",
    "                \"from __main__ import x\")\n",
    "popend = timeit.Timer(\"x.pop()\",\n",
    "               \"from __main__ import x\")\n",
    "print(\"pop(0)   pop()\")\n",
    "pt_list=[]\n",
    "pz_list=[]\n",
    "for i in range(1000,100001,1000):\n",
    "    x = list(range(i))\n",
    "    pt = popend.timeit(number=10)\n",
    "    pt_list.append(pt)\n",
    "    x = list(range(i))\n",
    "    pz = popzero.timeit(number=10)\n",
    "    pz_list.append(pz)\n",
    "    print(\"%15.5f, %15.5f\" %(pz,pt))"
   ]
  },
  {
   "cell_type": "code",
   "execution_count": null,
   "metadata": {
    "collapsed": true,
    "slideshow": {
     "slide_type": "subslide"
    }
   },
   "outputs": [],
   "source": [
    "%matplotlib inline\n",
    "\n",
    "from matplotlib import pyplot as pl\n",
    "import numpy as np\n",
    "\n",
    "fig = pl.figure()\n",
    "t = range(1000,100001,1000)\n",
    "pl.plot(t, pz_list, 'bo', label=u'pop(0)')\n",
    "pl.plot(t, pt_list, 'r-', label=u'pop( )')\n",
    "\n",
    "pl.xlabel('list size')\n",
    "pl.ylabel('time(sec)')\n",
    "\n",
    "pl.legend(loc='upper left')"
   ]
  },
  {
   "cell_type": "markdown",
   "metadata": {
    "slideshow": {
     "slide_type": "slide"
    }
   },
   "source": [
    "# 2.7. Dictionaries\n",
    "- **As you probably recall, dictionaries differ from lists in that you can access items in a dictionary by a key rather than a position.**\n",
    "- The thing that is most important to notice right now is that the get item and set item operations on a dictionary are $O(1)$.\n",
    "- Another important dictionary operation is the contains operation. => $O(1)$\n",
    "- Checking to see whether a key is in the dictionary or not is also $O(1)$"
   ]
  },
  {
   "cell_type": "markdown",
   "metadata": {
    "slideshow": {
     "slide_type": "subslide"
    }
   },
   "source": [
    "|Operation|Big-O Efficiency|\n",
    "|-----|-----|\n",
    "|copy|$O(1)$|\n",
    "|get item|$O(1)$|\n",
    "|set item|$O(1)$|\n",
    "|delete item|$O(1)$|\n",
    "|contains (in)|$O(1)$|\n",
    "|iteration|$O(n)$|"
   ]
  },
  {
   "cell_type": "code",
   "execution_count": null,
   "metadata": {
    "collapsed": true
   },
   "outputs": [],
   "source": [
    "import random\n",
    "\n",
    "\n",
    "lst_list=[]\n",
    "dic_list=[]\n",
    "\n",
    "for i in range(1000,100001,2000):\n",
    "    t = timeit.Timer(\"random.randrange(%d) in x\"%i,\n",
    "                     \"from __main__ import random,x\")\n",
    "    x = list(range(i))\n",
    "    lst_time = t.timeit(number=10)\n",
    "    lst_list.append(lst_time)\n",
    "    x = {j:None for j in range(i)}\n",
    "    dic_time = t.timeit(number=10)\n",
    "    dic_list.append(dic_time)\n",
    "    print(\"%d,%10.3f,%10.3f\" % (i, lst_time, dic_time))"
   ]
  },
  {
   "cell_type": "code",
   "execution_count": null,
   "metadata": {
    "collapsed": true
   },
   "outputs": [],
   "source": [
    "fig = pl.figure()\n",
    "t = range(1000,100001,2000)\n",
    "pl.plot(t, lst_list, 'bo', label=u'list')\n",
    "pl.plot(t, dic_list, 'r-', label=u'dictionary')\n",
    "\n",
    "\n",
    "pl.xlabel('size')\n",
    "pl.ylabel('time(sec)')\n",
    "\n",
    "pl.legend(loc='upper left')"
   ]
  },
  {
   "cell_type": "markdown",
   "metadata": {
    "slideshow": {
     "slide_type": "slide"
    }
   },
   "source": [
    "# 2.8. Summary\n",
    "- Algorithm analysis is an implementation-independent way of measuring an algorithm.\n",
    "- Big-O notation allows algorithms to be classified by their dominant process with respect to the size of the problem."
   ]
  },
  {
   "cell_type": "markdown",
   "metadata": {},
   "source": [
    "Reference : \n",
    "- http://interactivepython.org/runestone/static/pythonds/AlgorithmAnalysis/toctree.html\n",
    "- https://github.com/physhik/Python-algorithm-study/blob/master/algorithm%20chapter%203%20(%20analysis%20and%20list%20).ipynb"
   ]
  }
 ],
 "metadata": {
  "celltoolbar": "Slideshow",
  "kernelspec": {
   "display_name": "Python 3",
   "language": "python",
   "name": "python3"
  },
  "language_info": {
   "codemirror_mode": {
    "name": "ipython",
    "version": 3
   },
   "file_extension": ".py",
   "mimetype": "text/x-python",
   "name": "python",
   "nbconvert_exporter": "python",
   "pygments_lexer": "ipython3",
   "version": "3.6.1"
  }
 },
 "nbformat": 4,
 "nbformat_minor": 2
}
