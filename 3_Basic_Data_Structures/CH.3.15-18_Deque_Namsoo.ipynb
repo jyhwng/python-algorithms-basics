{
 "cells": [
  {
   "cell_type": "markdown",
   "metadata": {},
   "source": [
    "# 3.15 Deque"
   ]
  },
  {
   "cell_type": "code",
   "execution_count": 98,
   "metadata": {
    "collapsed": false
   },
   "outputs": [],
   "source": [
    "class Deque:\n",
    "    \n",
    "    def __init__(self):\n",
    "        self.items=[]\n",
    "        \n",
    "    def addFront(self, item):\n",
    "        self.items.append(item)\n",
    "    \n",
    "    def addRear(self,item):\n",
    "        self.items.insert(0, item)\n",
    "        \n",
    "    def removeFront(self):\n",
    "        return self.items.pop()\n",
    "        \n",
    "    def removeRear(self):\n",
    "        return self.items.pop(0)\n",
    "        \n",
    "    def isEmpty(self):\n",
    "        return self.items==[]\n",
    "    \n",
    "    def size(self):\n",
    "        return len(self.items)   \n",
    "    "
   ]
  },
  {
   "cell_type": "markdown",
   "metadata": {},
   "source": [
    "### 예시"
   ]
  },
  {
   "cell_type": "code",
   "execution_count": 100,
   "metadata": {
    "collapsed": false
   },
   "outputs": [
    {
     "name": "stdout",
     "output_type": "stream",
     "text": [
      "['icecream', 'apple', 'banana']\n",
      "3\n",
      "icecream\n",
      "['apple', 'banana']\n",
      "banana\n",
      "['apple']\n",
      "False\n",
      "True\n"
     ]
    }
   ],
   "source": [
    "d=Deque()              #                    []         [ <- rear   front->]\n",
    "\n",
    "# add\n",
    "d.addFront('apple')    #                    [] <- 'apple'    \n",
    "d.addFront('banana')   #               ['apple'] <- 'banana'\n",
    "d.addRear('icecream')  # 'icecream' -> ['apple','banana']\n",
    "\n",
    "# size\n",
    "print(d.items)         #         ['coco', 'apple', 'banana']     \n",
    "print(d.size())        #    # of ['coco', 'apple', 'banana']\n",
    "\n",
    "\n",
    "# remove\n",
    "print(d.removeRear())  #  'coco' <- [      ,  'apple', 'banana']\n",
    "print(d.items)         #            ['apple', 'banana']\n",
    "print(d.removeFront()) #            ['apple',         ] -> 'banana'\n",
    "print(d.items)         #            ['apple']\n",
    "\n",
    "\n",
    "# isEmpty\n",
    "print(d.isEmpty())     #               ['apple']  !=  []\n",
    "d.removeFront()        #  ('apple') <- [       ]        값을 리턴하지는 않음 \n",
    "  #cf) print(a.removeFront()) :  'apple'\n",
    "print(d.isEmpty())     #               [] == []"
   ]
  },
  {
   "cell_type": "markdown",
   "metadata": {},
   "source": [
    "# ※ addFront() Vs addRear()\n",
    "  ```\n",
    "  rear--------->[0,1,2,3,4,5,......n-1 ]  <-------front\n",
    "  ```\n",
    " "
   ]
  },
  {
   "cell_type": "code",
   "execution_count": 117,
   "metadata": {
    "collapsed": false,
    "scrolled": true
   },
   "outputs": [
    {
     "name": "stdout",
     "output_type": "stream",
     "text": [
      "1. addFront:  O(1)\n",
      "Wall time: 4 ms\n",
      "2. addRear: O(n)\n",
      "Wall time: 36 ms\n"
     ]
    },
    {
     "data": {
      "text/plain": [
       "{None}"
      ]
     },
     "execution_count": 117,
     "metadata": {},
     "output_type": "execute_result"
    }
   ],
   "source": [
    "d1=Deque()\n",
    "\n",
    "print(\"1. addFront:  O(1)\")\n",
    "%time {d1.addFront(i) for i in range(10000)}     # Wall time: 3 ms\n",
    "\n",
    "##############################################################\n",
    "\n",
    "d2=Deque()\n",
    "print(\"2. addRear: O(n)\")       \n",
    "%time {d2.addRear(i) for i in range(10000)}      # Wall time: 31 ms"
   ]
  },
  {
   "cell_type": "markdown",
   "metadata": {},
   "source": [
    "======================================================================"
   ]
  },
  {
   "cell_type": "markdown",
   "metadata": {},
   "source": [
    "# 3.18 Palindrome-Checker\n",
    "\n",
    "### Palindrome? \n",
    "    `\"in Greek 'palin'='back', 'again' || 'dromos'='direction.'`\n",
    "    ` 거꾸로, 다시`\n",
    "\n",
    "### ex)\n",
    " * \"리효리\"\n",
    " * \"level\"\n",
    " * \"Mom\"\n",
    " * \"Top spot\"\n",
    " * \"No lemon, no melon\"\n",
    " * \"Madam I'm Adam\"\n",
    " * ※ Music: Joseph Haydn's Symphony No. 47 in G\n",
    " * ※ Lychrel number(unsolved problem): ①56 + 65 = 121,    ②57+75 = 132,  132+231 = 363,      ③59+95 = 154, 154+451 = 605, 605+506 = 1111\n",
    "     `https://en.wikipedia.org/wiki/Lychrel_number`"
   ]
  },
  {
   "cell_type": "code",
   "execution_count": 118,
   "metadata": {
    "collapsed": false,
    "scrolled": true
   },
   "outputs": [
    {
     "name": "stdout",
     "output_type": "stream",
     "text": [
      "False\n",
      "True\n"
     ]
    }
   ],
   "source": [
    "# 교재 본문 내용\n",
    "def palchecker(aString):\n",
    "    chardeque = Deque()\n",
    "\n",
    "    for ch in aString:\n",
    "        chardeque.addRear(ch)\n",
    "\n",
    "    stillEqual = True\n",
    "\n",
    "    while chardeque.size() > 1 and stillEqual:\n",
    "        first = chardeque.removeFront()\n",
    "        last = chardeque.removeRear()\n",
    "        if first != last:\n",
    "            stillEqual = False\n",
    "\n",
    "    return stillEqual\n",
    "\n",
    "print(palchecker(\"lsdkjfskf\"))\n",
    "print(palchecker(\"radar\"))"
   ]
  },
  {
   "cell_type": "markdown",
   "metadata": {},
   "source": [
    "===================================================================================="
   ]
  },
  {
   "cell_type": "markdown",
   "metadata": {},
   "source": [
    "## Palindrom-Checker ++\n",
    " * 대소문자 구분   \n",
    " * 문장도 가능하도록\n",
    " ------------------------------------------------\n",
    " * str.upper(),  str.lower()\n",
    " * str.isalpha()"
   ]
  },
  {
   "cell_type": "code",
   "execution_count": 123,
   "metadata": {
    "collapsed": false
   },
   "outputs": [
    {
     "name": "stdout",
     "output_type": "stream",
     "text": [
      "False\n",
      "MADAM I'M ADAM\n",
      "['글', '자', '한', '글', '장', '남', '수', 't', 'e', 'x', 't', 's', 'p', 'a', 'c', 'e', 's', 'p', 'a', 'c', 'e']\n"
     ]
    }
   ],
   "source": [
    "print(\"N\"==\"n\")    # 대문자 != 소문자\n",
    "\n",
    "# str.upper(): 대문자로 전환\n",
    "text=\"Madam I'm Adam\"\n",
    "print(text.upper())\n",
    "\n",
    "#str.isalpha(): 숫자or문자 체크  cf)공백문자, 기호는 X\n",
    "text2=\"글자 한글 장남수, 123592 1'(!@#$%>text space_        _space\"\n",
    "print([ch for ch in text2 if ch.isalpha()])"
   ]
  },
  {
   "cell_type": "code",
   "execution_count": 122,
   "metadata": {
    "collapsed": false,
    "scrolled": false
   },
   "outputs": [
    {
     "name": "stdout",
     "output_type": "stream",
     "text": [
      "Is '리효리' palandrom?: True\n",
      "Is 'LeveL' palandrom?: True\n",
      "Is 'Mom' palandrom?: True\n",
      "Is 'Top spot' palandrom?: True\n",
      "Is 'No lemon, no melon' palandrom?: True\n",
      "Is 'Madam I'm Adam' palandrom?: True\n",
      "Is 'Mr. Owl ate my metal worm' palandrom?: True\n",
      "Is 'I'm superman' palandrom?: False\n",
      "Is '뽀로로' palandrom?: False\n",
      "Is '바나나안바나나' palandrom?: False\n",
      "Is '가가 가가가?' palandrom?: True\n",
      "Is '기러기' palandrom?: True\n"
     ]
    }
   ],
   "source": [
    "# Palindrom-checker++\n",
    "\n",
    "def text_modi(text):\n",
    "    '''\n",
    "    대문자로 통일, 알파벳/한글/숫자만(기호/공백/숫자 제거)\n",
    "    '''\n",
    "    \n",
    "    text_upper=text.upper()    #대문자로\n",
    "    text_modi=''\n",
    "    for char in text_upper:\n",
    "        if char.isalpha():     #알파벳/한글만\n",
    "            text_modi+=char\n",
    "            \n",
    "    return text_modi\n",
    "\n",
    "\n",
    "def palindrom_checker(text):\n",
    "    '''\n",
    "    plindrom 여부 체크\n",
    "    '''\n",
    "    \n",
    "    text=text_modi(text)\n",
    "    d=Deque()\n",
    "    is_palindrom=True\n",
    "    \n",
    "    for char in text:\n",
    "        d.addFront(char)\n",
    "    \n",
    "    while len(d.items)>1 and is_palindrom:\n",
    "        front=d.removeFront()\n",
    "        rear=d.removeRear()\n",
    "        if front != rear:\n",
    "            is_palindrom=False\n",
    "    \n",
    "    return is_palindrom\n",
    "\n",
    "\n",
    "texts=[\"리효리\",\"LeveL\", \"Mom\", \"Top spot\", \"No lemon, no melon\", \"Madam I'm Adam\", \"Mr. Owl ate my metal worm\",\\\n",
    "       \"I'm superman\",\"뽀로로\", \"바나나안바나나\", \"가가 가가가?\", \"기러기\", ]\n",
    "\n",
    "for text in texts:\n",
    "    palindrom_checker(text)\n",
    "    print(\"Is '%s' palandrom?: %s\" %(text, palindrom_checker(text)))\n",
    "\n"
   ]
  },
  {
   "cell_type": "code",
   "execution_count": null,
   "metadata": {
    "collapsed": true
   },
   "outputs": [],
   "source": []
  }
 ],
 "metadata": {
  "anaconda-cloud": {},
  "kernelspec": {
   "display_name": "Python [default]",
   "language": "python",
   "name": "python3"
  },
  "language_info": {
   "codemirror_mode": {
    "name": "ipython",
    "version": 3
   },
   "file_extension": ".py",
   "mimetype": "text/x-python",
   "name": "python",
   "nbconvert_exporter": "python",
   "pygments_lexer": "ipython3",
   "version": "3.5.2"
  }
 },
 "nbformat": 4,
 "nbformat_minor": 1
}
