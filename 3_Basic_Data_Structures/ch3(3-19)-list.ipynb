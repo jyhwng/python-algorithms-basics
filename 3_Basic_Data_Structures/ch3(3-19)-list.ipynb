{
 "cells": [
  {
   "cell_type": "markdown",
   "metadata": {},
   "source": [
    "## 3.19. List\n",
    "\n",
    "1. 자리가 있다 - each item holds a relative position with respect to the others\n",
    "2. the beginning of the list (the first item) or the end of the list (the \n",
    "last item)"
   ]
  },
  {
   "cell_type": "markdown",
   "metadata": {},
   "source": [
    "## 3.20. The Unordered List Abstract Data Type\n",
    "\n",
    "\n",
    "- List()\n",
    "- add(item)\n",
    "- remove(item)\n",
    "- search(item)\n",
    "- isEmpty()\n",
    "- size() \n",
    "- append(item) \n",
    "- index(item)\n",
    "- insert(pos,item)\n",
    "- pop()\n",
    "- pop(pos)\n",
    "\n",
    "~~built-in function 아니고 이런걸 만들거다...~~"
   ]
  },
  {
   "cell_type": "markdown",
   "metadata": {},
   "source": [
    "## 3.21. Implementing an Unordered List: Linked Lists\n",
    "파이썬으로 Linked list 만들기\n",
    "\n",
    "Linked list - [Wikipedia](https://en.wikipedia.org/wiki/Linked_list)\n",
    "\n",
    "1. Linked list 란? \n",
    "    - Linear 한 데이터의 모음\n",
    "    - 인덱스(?)가 부여되어 있지 않음 (그만큼 메모리를 안먹음) \n",
    "        - *파이썬의 리스트는 인덱스가 부여되어 있다! 그래서 중간에 insert 하는건 O(n)\n",
    "    - 대신 pointer라고 하는 애가 다음 데이터를 가리키고 있음\n",
    "        - ~~C 에서 pointer라고 하는게 이건가요?~~\n",
    "    - 물론 첫 데이터는 처음이라는 표시가 있고,\n",
    "    - 마지막 데이터는 포인터를 갖고 있지 않음\n",
    "    - 각각의 데이터를 node 라고 부름\n",
    "    - 이 node 가 모인 것이 sequence \n",
    "    - 즉, 각각의 node 는 데이터와 레퍼런스를 갖고 있는 셈\n",
    "\n",
    "\n",
    "2. Linked list를 구현하는 이유\n",
    "    - 리스트 중간에 아이템을 넣거나 뺄 수 있다.\n",
    "    - 스택과 큐를 만들 수 있다.\n",
    "    - 처음에 사이즈를 지정할 필요가 없다.\n",
    "    \n",
    "    \n",
    "3. Linked list의 단점\n",
    "    - pointer 때문에 array 보다 메모리를 더 먹는다.\n",
    "    - sequence이기 때문에 한 아이템을 찾으려면 진입점부터 하나 하나 체크해야 한다."
   ]
  },
  {
   "cell_type": "code",
   "execution_count": 91,
   "metadata": {
    "collapsed": true
   },
   "outputs": [],
   "source": [
    "# 책에는 getData, setData 따로 썼지만\n",
    "# Pythonic way to define getter/setter/deleter - @property를 쓰세요!\n",
    "# 물론 코드량이 줄지는 않습니다만...재사용이 용이합니다!\n",
    "\n",
    "class Node:\n",
    "    def __init__(self, initdata):\n",
    "        self.data = initdata\n",
    "        self.next = None\n",
    "        # Note in the constructor that a node is initially created with next set to None. Since this is sometimes referred to as “grounding the node,” we will use the standard ground symbol to denote a reference that is referring to None. It is always a good idea to explicitly assign None to your initial next reference values.\n",
    "        \n",
    "    def getData(self):\n",
    "        return self.data\n",
    "\n",
    "    def getNext(self):\n",
    "        return self.next\n",
    "\n",
    "    def setData(self,newdata):\n",
    "        self.data = newdata\n",
    "\n",
    "    def setNext(self,newnext):\n",
    "        self.next = newnext\n",
    "        \n",
    "class PythonicNode:\n",
    "    def __init__(self, initdata):\n",
    "        self.data = initdata\n",
    "        self.next = None\n",
    "    \n",
    "    @property\n",
    "    def x(self):\n",
    "        return self.data\n",
    "\n",
    "    @x.setter\n",
    "    def x(self, newdata):\n",
    "        self.data = newdata\n",
    "    \n",
    "    @x.deleter\n",
    "    def x(self):\n",
    "        del self.data"
   ]
  },
  {
   "cell_type": "code",
   "execution_count": 92,
   "metadata": {},
   "outputs": [
    {
     "data": {
      "text/plain": [
       "93"
      ]
     },
     "execution_count": 92,
     "metadata": {},
     "output_type": "execute_result"
    }
   ],
   "source": [
    "temp = PythonicNode(93)\n",
    "# getter\n",
    "temp.x"
   ]
  },
  {
   "cell_type": "code",
   "execution_count": 93,
   "metadata": {},
   "outputs": [
    {
     "data": {
      "text/plain": [
       "1234"
      ]
     },
     "execution_count": 93,
     "metadata": {},
     "output_type": "execute_result"
    }
   ],
   "source": [
    "# setter\n",
    "temp.x = 1234\n",
    "temp.x"
   ]
  },
  {
   "cell_type": "code",
   "execution_count": 94,
   "metadata": {
    "collapsed": true
   },
   "outputs": [],
   "source": [
    "# deleter\n",
    "del temp.x\n",
    "# temp.x"
   ]
  },
  {
   "cell_type": "markdown",
   "metadata": {},
   "source": [
    "## 3.21.2. The Unordered List Class "
   ]
  },
  {
   "cell_type": "code",
   "execution_count": 166,
   "metadata": {
    "collapsed": true
   },
   "outputs": [],
   "source": [
    "class UnorderedList:\n",
    "    def __init__(self):\n",
    "        self.head = None\n",
    "        \n",
    "    # 이 클래스는 첫 노드에 대한 레퍼런스를 반드시 가져야 한다. (... class must maintain a reference to the first node.)\n",
    "    # 그런데 이 생성자에 head가 none 인 이유는 막 생성된 리스트는 아무 노드도 없기 때문!\n",
    "    \n",
    "    def isEmpty(self):\n",
    "        return self.head == None\n",
    "    # 이 리스트가 있는지 없는지 보려면 head가 있는지 없는지만 보면 됨. 그래서 boolean식으로 알아봄\n",
    "    \n",
    "    def add(self, item):\n",
    "        temp = Node(item)    # temp는 노드 클래스의 인스턴스여야 하고,\n",
    "        temp.setNext(self.head)    # 새로운 temp가 들어오면, 원래 있던 head(None)는 temp의 next가 되고, \n",
    "        self.head = temp    # temp는 새로운 head가 된다! - modify the head of the list to refer to the new node\n",
    "        \n",
    "    # 3,4번째 라인의 순서가 중요하다!\n",
    "    # x.next == None 이면, x 는 이 리스트의 첫 데이터\n",
    "    \n",
    "    def size(self):\n",
    "        current = self.head\n",
    "        count = 0\n",
    "        while current != None:    # head 가 None이 나올때까지, 끝까지 돈다.\n",
    "            count = count + 1     # while loop가 도는 횟수를 센다.\n",
    "            current = current.getNext()\n",
    "            \n",
    "        return count\n",
    "    \n",
    "    def search(self, item):\n",
    "        current = self.head\n",
    "        found = False\n",
    "        while current != None and not found:\n",
    "            if current.getData() == item:\n",
    "                found = True\n",
    "            else:\n",
    "                current = current.getNext()\n",
    "                \n",
    "        return found\n",
    "    \n",
    "    # head부터 차근차근 찾아나간다. 일치하지 않으면 found가 False를, 일치하면 True를 뱉어냄.\n",
    "    \n",
    "    def print_all(self):\n",
    "        current = self.head\n",
    "        while current != None:\n",
    "            print(current.getData())\n",
    "            current = current.getNext()\n",
    "    \n",
    "    def remove(self, item):    # 제거하고 싶은 노드의 앞,뒤 링크를 끊어주면 된다.\n",
    "        current = self.head\n",
    "        previous = None\n",
    "        found = False\n",
    "        while not found:\n",
    "            if current.getData() == item:\n",
    "                found = True\n",
    "            else:\n",
    "                previous = current\n",
    "                current = current.getNext()\n",
    "                \n",
    "        if previous == None:\n",
    "            self.head = current.getNext()\n",
    "        else:\n",
    "            previous.setNext(current.getNext())\n",
    "            \n",
    "        # 순서는 바꿨는데, node 인스턴스는 그대로 남아있잖아? (size는 그대로 아닌가?)\n",
    "        \n",
    "        \n",
    "    # 함께 풀어봅시다!!    \n",
    "    def append(self, item):    # item이 last가 되려면? 처음 들어온 아이템까지 가서 그 next에 item을 붙인다.\n",
    "        temp = Node(item)\n",
    "        current = self.head\n",
    "        \n",
    "        while current.getNext() != None:\n",
    "            current = current.getNext()\n",
    "        current.setNext(temp)"
   ]
  },
  {
   "cell_type": "code",
   "execution_count": 167,
   "metadata": {
    "collapsed": true
   },
   "outputs": [],
   "source": [
    "mylist = UnorderedList()"
   ]
  },
  {
   "cell_type": "code",
   "execution_count": 168,
   "metadata": {},
   "outputs": [
    {
     "name": "stdout",
     "output_type": "stream",
     "text": [
      "None\n"
     ]
    }
   ],
   "source": [
    "print(mylist.head)"
   ]
  },
  {
   "cell_type": "code",
   "execution_count": 169,
   "metadata": {},
   "outputs": [
    {
     "name": "stdout",
     "output_type": "stream",
     "text": [
      "<__main__.Node object at 0x1045acf28>\n"
     ]
    }
   ],
   "source": [
    "mylist.add(31)\n",
    "mylist.add(77)\n",
    "mylist.add(17)\n",
    "mylist.add(93)\n",
    "mylist.add(26)\n",
    "mylist.add(54)\n",
    "print(mylist.head)"
   ]
  },
  {
   "cell_type": "code",
   "execution_count": 170,
   "metadata": {},
   "outputs": [
    {
     "data": {
      "text/plain": [
       "6"
      ]
     },
     "execution_count": 170,
     "metadata": {},
     "output_type": "execute_result"
    }
   ],
   "source": [
    "mylist.size()"
   ]
  },
  {
   "cell_type": "code",
   "execution_count": 171,
   "metadata": {},
   "outputs": [
    {
     "name": "stdout",
     "output_type": "stream",
     "text": [
      "54\n",
      "26\n",
      "93\n",
      "17\n",
      "77\n",
      "31\n"
     ]
    }
   ],
   "source": [
    "mylist.print_all()"
   ]
  },
  {
   "cell_type": "code",
   "execution_count": 172,
   "metadata": {},
   "outputs": [
    {
     "data": {
      "text/plain": [
       "True"
      ]
     },
     "execution_count": 172,
     "metadata": {},
     "output_type": "execute_result"
    }
   ],
   "source": [
    "mylist.search(17)"
   ]
  },
  {
   "cell_type": "code",
   "execution_count": 173,
   "metadata": {
    "collapsed": true
   },
   "outputs": [],
   "source": [
    "mylist.remove(17)"
   ]
  },
  {
   "cell_type": "code",
   "execution_count": 174,
   "metadata": {
    "scrolled": true
   },
   "outputs": [
    {
     "name": "stdout",
     "output_type": "stream",
     "text": [
      "54\n",
      "26\n",
      "93\n",
      "77\n",
      "31\n"
     ]
    }
   ],
   "source": [
    "mylist.print_all()"
   ]
  },
  {
   "cell_type": "code",
   "execution_count": 175,
   "metadata": {},
   "outputs": [
    {
     "name": "stdout",
     "output_type": "stream",
     "text": [
      "54\n",
      "26\n",
      "93\n",
      "77\n",
      "31\n",
      "14923\n"
     ]
    }
   ],
   "source": [
    "mylist.append(14923)\n",
    "mylist.print_all()"
   ]
  },
  {
   "cell_type": "markdown",
   "metadata": {},
   "source": [
    "## 3.22. The Ordered List Abstract Data Type\n",
    "- OrderedList()\n",
    "- add(item)\n",
    "- remove(item)\n",
    "- search(item)\n",
    "- isEmpty()\n",
    "- size() \n",
    "- ~~append(item)~~\n",
    "- index(item)\n",
    "- ~~insert(pos,item)~~\n",
    "- pop()\n",
    "- pop(pos)\n",
    "\n",
    "append, insert가 안됨"
   ]
  },
  {
   "cell_type": "markdown",
   "metadata": {},
   "source": [
    "## 3.23. Implementing an Ordered List"
   ]
  },
  {
   "cell_type": "code",
   "execution_count": 176,
   "metadata": {
    "collapsed": true
   },
   "outputs": [],
   "source": [
    "# class OrderedList(UnorderedList):\n",
    "class OrderedList:\n",
    "    def __init__(self):\n",
    "        self.head = None\n",
    "        \n",
    "    def search(self, item):    # 크기의 순서가 있기 때문에 끝까지 돌지 않아도 된다.\n",
    "        current = self.head\n",
    "        found = False\n",
    "        stop = False\n",
    "        while current != None and not found and not stop:\n",
    "            if current.getData() == item:\n",
    "                found = True\n",
    "            else:\n",
    "                if current.getData() > item:    # 찾는 데이터보다 큰곳까지 왔는데도 없다면, 여긴 없다는 뜻. iteration을 stop 해도 된다.\n",
    "                    stop = True\n",
    "                else:\n",
    "                    current = current.getNext()\n",
    "                    \n",
    "        return found\n",
    "    \n",
    "    def add(self,item):   # unordered랑 다르게, 아무데나 들어가선 안되고, 크기에 맞게 들어가야한다.\n",
    "        current = self.head\n",
    "        previous = None\n",
    "        stop = False\n",
    "        while current != None and not stop:\n",
    "            if current.getData() > item:\n",
    "                stop = True\n",
    "            else:\n",
    "                previous = current\n",
    "                current = current.getNext()\n",
    "\n",
    "        temp = Node(item)    # 인스턴스 생성해주고,\n",
    "        if previous == None:\n",
    "            temp.setNext(self.head)\n",
    "            self.head = temp\n",
    "        else:\n",
    "            temp.setNext(current)    # item 보다 큰 current 는 item 뒤에 넣어주고\n",
    "            previous.setNext(temp)    # item보다 작은 previous의 next 에 item을 넣어준다.\n",
    "            \n",
    "    def print_all(self):\n",
    "        current = self.head\n",
    "        while current != None:\n",
    "            print(current.getData())\n",
    "            current = current.getNext()"
   ]
  },
  {
   "cell_type": "code",
   "execution_count": 177,
   "metadata": {
    "collapsed": true
   },
   "outputs": [],
   "source": [
    "mylist = OrderedList()\n",
    "mylist.add(31)\n",
    "mylist.add(77)\n",
    "mylist.add(17)\n",
    "mylist.add(93)\n",
    "mylist.add(26)\n",
    "mylist.add(54)"
   ]
  },
  {
   "cell_type": "code",
   "execution_count": 178,
   "metadata": {
    "scrolled": false
   },
   "outputs": [
    {
     "name": "stdout",
     "output_type": "stream",
     "text": [
      "17\n",
      "26\n",
      "31\n",
      "54\n",
      "77\n",
      "93\n"
     ]
    }
   ],
   "source": [
    "mylist.print_all()"
   ]
  },
  {
   "cell_type": "markdown",
   "metadata": {},
   "source": [
    "## 3.23.1. Analysis of Linked Lists\n",
    "\n",
    "Big-O notation을 알아봅시다!\n",
    "\n",
    "1. UnorderedList 의 isEmpty\n",
    "1. UnorderedList 의 size\n",
    "1. UnorderedList 의 search\n",
    "1. UnorderedList 의 remove\n",
    "1. OrderedList의 add\n",
    "1. UnorderedList 의 add\n",
    "\n",
    "** 파이썬에서 list를 구현하는 방식은 Linked list와 매우 다름. 오히려 Array와 비슷함. 이 내용은 Chapter 8장에서! **"
   ]
  },
  {
   "cell_type": "markdown",
   "metadata": {},
   "source": [
    "## 3.27. Programming Exercises\n",
    "\n",
    "1. Implement the append method for UnorderedList. What is the time complexity of the method you created?\n",
    "\n",
    "\n",
    "13. To implement the `length` method, we counted the number of nodes in the list. An alternative strategy would be to store the number of nodes in the list as an additional piece of data in the head of the list. Modify the `UnorderedList` class to include this information and rewrite the `length` method.\n",
    "\n",
    "\n",
    "21. Consider the relationship between Unordered and Ordered lists. Is it possible that inheritance could be used to build a more efficient implementation? Implement this inheritance hierarchy.\n",
    "\n",
    "\n",
    "24. Implement a deque using linked lists.\n"
   ]
  }
 ],
 "metadata": {
  "kernelspec": {
   "display_name": "Python 3",
   "language": "python",
   "name": "python3"
  },
  "language_info": {
   "codemirror_mode": {
    "name": "ipython",
    "version": 3
   },
   "file_extension": ".py",
   "mimetype": "text/x-python",
   "name": "python",
   "nbconvert_exporter": "python",
   "pygments_lexer": "ipython3",
   "version": "3.6.1"
  }
 },
 "nbformat": 4,
 "nbformat_minor": 2
}
