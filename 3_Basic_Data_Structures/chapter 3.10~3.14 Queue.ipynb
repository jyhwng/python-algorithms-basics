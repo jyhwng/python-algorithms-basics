{
 "cells": [
  {
   "cell_type": "markdown",
   "metadata": {},
   "source": [
    "### 3.10 what is a Queue"
   ]
  },
  {
   "cell_type": "markdown",
   "metadata": {},
   "source": [
    "A queue is an ordered collection of items where the addition of new items happens at one end, called the “rear,” and the removal of existing items occurs at the other end, commonly called the “front.” As an element enters the queue it starts at the rear and makes its way toward the front, waiting until that time when it is the next element to be removed.\n",
    "\n",
    "The most recently added item in the queue must wait at the end of the collection. The item that has been in the collection the longest is at the front. This ordering principle is sometimes called FIFO, first-in first-out. It is also known as “first-come first-served.”\n",
    "\n",
    "The simplest example of a queue is the typical line that we all participate in from time to time. We wait in a line for a movie, we wait in the check-out line at a grocery store, and we wait in the cafeteria line (so that we can pop the tray stack). Well-behaved lines, or queues, are very restrictive in that they have only one way in and only one way out. There is no jumping in the middle and no leaving before you have waited the necessary amount of time to get to the front. Figure 1 shows a simple queue of Python data objects."
   ]
  },
  {
   "cell_type": "code",
   "execution_count": 10,
   "metadata": {
    "collapsed": true
   },
   "outputs": [],
   "source": [
    "#First in First out"
   ]
  },
  {
   "cell_type": "code",
   "execution_count": 11,
   "metadata": {
    "collapsed": true
   },
   "outputs": [],
   "source": [
    "import queue #queue module\n",
    "q = queue.Queue()\n",
    "q.put(\"apple\") #put을 통해 queue에 데이터 삽입\n",
    "q.put(\"banana\")\n",
    "q.put(20)"
   ]
  },
  {
   "cell_type": "code",
   "execution_count": 12,
   "metadata": {
    "collapsed": false
   },
   "outputs": [
    {
     "data": {
      "text/plain": [
       "3"
      ]
     },
     "execution_count": 12,
     "metadata": {},
     "output_type": "execute_result"
    }
   ],
   "source": [
    "q.qsize() #queue에 저장된 데이터 갯수"
   ]
  },
  {
   "cell_type": "code",
   "execution_count": 13,
   "metadata": {
    "collapsed": false
   },
   "outputs": [
    {
     "data": {
      "text/plain": [
       "'apple'"
      ]
     },
     "execution_count": 13,
     "metadata": {},
     "output_type": "execute_result"
    }
   ],
   "source": [
    "q.get() #queue에 저장된 데이터 출력 \n",
    "#first in first out 이므로 처응에 저장된 apple이 출력"
   ]
  },
  {
   "cell_type": "code",
   "execution_count": 14,
   "metadata": {
    "collapsed": false
   },
   "outputs": [
    {
     "data": {
      "text/plain": [
       "'banana'"
      ]
     },
     "execution_count": 14,
     "metadata": {},
     "output_type": "execute_result"
    }
   ],
   "source": [
    "q.get() #apple 다음에 저장된 banana가 출력"
   ]
  },
  {
   "cell_type": "code",
   "execution_count": 15,
   "metadata": {
    "collapsed": false
   },
   "outputs": [
    {
     "data": {
      "text/plain": [
       "1"
      ]
     },
     "execution_count": 15,
     "metadata": {},
     "output_type": "execute_result"
    }
   ],
   "source": [
    "q.qsize() #3개중에서 2개를 출력했으므로 1개만 queue에 저장된다."
   ]
  },
  {
   "cell_type": "markdown",
   "metadata": {},
   "source": [
    "### 3.11. The Queue Abstract Data Type"
   ]
  },
  {
   "cell_type": "markdown",
   "metadata": {},
   "source": [
    "The queue abstract data type is defined by the following structure and operations. A queue is structured, as described above, as an ordered collection of items which are added at one end, called the “rear,” and removed from the other end, called the “front.” Queues maintain a FIFO ordering property. The queue operations are given below."
   ]
  },
  {
   "cell_type": "markdown",
   "metadata": {},
   "source": [
    "Queue() creates a new queue that is empty. It needs no parameters and returns an empty queue.\n",
    "\n",
    "enqueue(item) adds a new item to the rear of the queue. It needs the item and returns nothing.\n",
    "\n",
    "dequeue() removes the front item from the queue. It needs no parameters and returns the item. The queue is modified.\n",
    "\n",
    "isEmpty() tests to see whether the queue is empty. It needs no parameters and returns a boolean value.\n",
    "\n",
    "size() returns the number of items in the queue. It needs no parameters and returns an integer."
   ]
  },
  {
   "cell_type": "markdown",
   "metadata": {},
   "source": [
    "### 3.12. Implementing a Queue in Python"
   ]
  },
  {
   "cell_type": "code",
   "execution_count": 16,
   "metadata": {
    "collapsed": true
   },
   "outputs": [],
   "source": [
    "class Queue:\n",
    "    def __init__(self):\n",
    "        self.items = []\n",
    "\n",
    "    def isEmpty(self):\n",
    "        return self.items == []\n",
    "\n",
    "    def enqueue(self, item):\n",
    "        self.items.insert(0,item)\n",
    "\n",
    "    def dequeue(self):\n",
    "        return self.items.pop()\n",
    "\n",
    "    def size(self):\n",
    "        return len(self.items)"
   ]
  },
  {
   "cell_type": "code",
   "execution_count": 17,
   "metadata": {
    "collapsed": true
   },
   "outputs": [],
   "source": [
    "#example of 3.11\n",
    "q = Queue()"
   ]
  },
  {
   "cell_type": "code",
   "execution_count": 18,
   "metadata": {
    "collapsed": false
   },
   "outputs": [
    {
     "data": {
      "text/plain": [
       "True"
      ]
     },
     "execution_count": 18,
     "metadata": {},
     "output_type": "execute_result"
    }
   ],
   "source": [
    "q.isEmpty()"
   ]
  },
  {
   "cell_type": "code",
   "execution_count": 19,
   "metadata": {
    "collapsed": true
   },
   "outputs": [],
   "source": [
    "q.enqueue(4)"
   ]
  },
  {
   "cell_type": "code",
   "execution_count": 20,
   "metadata": {
    "collapsed": true
   },
   "outputs": [],
   "source": [
    "q.enqueue(\"dog\")\n",
    "q.enqueue(True)"
   ]
  },
  {
   "cell_type": "code",
   "execution_count": 21,
   "metadata": {
    "collapsed": false
   },
   "outputs": [
    {
     "data": {
      "text/plain": [
       "3"
      ]
     },
     "execution_count": 21,
     "metadata": {},
     "output_type": "execute_result"
    }
   ],
   "source": [
    "q.size() #4,dog,True가 Queue라는 객체에 삽입"
   ]
  },
  {
   "cell_type": "code",
   "execution_count": 22,
   "metadata": {
    "collapsed": false
   },
   "outputs": [
    {
     "data": {
      "text/plain": [
       "False"
      ]
     },
     "execution_count": 22,
     "metadata": {},
     "output_type": "execute_result"
    }
   ],
   "source": [
    "q.isEmpty()"
   ]
  },
  {
   "cell_type": "code",
   "execution_count": 23,
   "metadata": {
    "collapsed": true
   },
   "outputs": [],
   "source": [
    "q.enqueue(8.4)"
   ]
  },
  {
   "cell_type": "code",
   "execution_count": 24,
   "metadata": {
    "collapsed": false
   },
   "outputs": [
    {
     "data": {
      "text/plain": [
       "4"
      ]
     },
     "execution_count": 24,
     "metadata": {},
     "output_type": "execute_result"
    }
   ],
   "source": [
    "q.dequeue()"
   ]
  },
  {
   "cell_type": "code",
   "execution_count": 25,
   "metadata": {
    "collapsed": false
   },
   "outputs": [
    {
     "data": {
      "text/plain": [
       "'dog'"
      ]
     },
     "execution_count": 25,
     "metadata": {},
     "output_type": "execute_result"
    }
   ],
   "source": [
    "q.dequeue()"
   ]
  },
  {
   "cell_type": "code",
   "execution_count": 26,
   "metadata": {
    "collapsed": false
   },
   "outputs": [
    {
     "data": {
      "text/plain": [
       "2"
      ]
     },
     "execution_count": 26,
     "metadata": {},
     "output_type": "execute_result"
    }
   ],
   "source": [
    "q.size()"
   ]
  },
  {
   "cell_type": "markdown",
   "metadata": {},
   "source": [
    "###  3.13. Simulation: Hot Potato"
   ]
  },
  {
   "cell_type": "markdown",
   "metadata": {},
   "source": [
    "One of the typical applications for showing a queue in action is to simulate a real situation that requires data to be managed in a FIFO manner. To begin, let’s consider the children’s game Hot Potato. In this game (see Figure 2) children line up in a circle and pass an item from neighbor to neighbor as fast as they can. At a certain point in the game, the action is stopped and the child who has the item (the potato) is removed from the circle. Play continues until only one child is left."
   ]
  },
  {
   "cell_type": "markdown",
   "metadata": {},
   "source": [
    "We will implement a general simulation of Hot Potato. Our program will input a list of names and a constant, call it “num,” to be used for counting. It will return the name of the last person remaining after repetitive counting by num"
   ]
  },
  {
   "cell_type": "code",
   "execution_count": 27,
   "metadata": {
    "collapsed": false
   },
   "outputs": [
    {
     "name": "stdout",
     "output_type": "stream",
     "text": [
      "Susan\n"
     ]
    }
   ],
   "source": [
    "def hotPotato(namelist, num):\n",
    "    simqueue = Queue()\n",
    "    for name in namelist: #list형태로 입력\n",
    "        simqueue.enqueue(name) #name을 enqueue로 하나씩 입력\n",
    "        \n",
    "    while simqueue.size() > 1: #while문을 이용하여 1 이하이면 break!!\n",
    "        #이름이 하나만 남을 때까지 while문을 이용하여 수행한다.\n",
    "        for i in range(num): #num 값으로 iteration 수행. \n",
    "            simqueue.enqueue(simqueue.dequeue())\n",
    "\n",
    "        simqueue.dequeue()\n",
    "\n",
    "    return simqueue.dequeue()\n",
    "\n",
    "print(hotPotato([\"Bill\",\"David\",\"Susan\",\"Jane\",\"Kent\",\"Brad\"],7))"
   ]
  },
  {
   "cell_type": "code",
   "execution_count": 28,
   "metadata": {
    "collapsed": false
   },
   "outputs": [
    {
     "name": "stdout",
     "output_type": "stream",
     "text": [
      "Bill\n"
     ]
    }
   ],
   "source": [
    "print(hotPotato([\"Bill\",\"David\",\"Susan\",\"Jane\",\"Kent\",\"Brad\"],2))"
   ]
  },
  {
   "cell_type": "code",
   "execution_count": 30,
   "metadata": {
    "collapsed": false
   },
   "outputs": [
    {
     "name": "stdout",
     "output_type": "stream",
     "text": [
      "['Susan', 5]\n",
      "['Jane', 4]\n",
      "['Kent', 3]\n",
      "['Brad', 2]\n",
      "['Bill', 1]\n"
     ]
    }
   ],
   "source": [
    "#위의 hotPotato 함수를 분해해보겠다.\n",
    "\n",
    "nameList= [\"Bill\",\"David\",\"Susan\",\"Jane\",\"Kent\",\"Brad\"]\n",
    "q = Queue()\n",
    "for name in nameList:\n",
    "    q.enqueue(name) #nameList의 이름 순서대로 큐에 삽입\n",
    "\n",
    "#for문 안에 구조\n",
    "for i in range(2):\n",
    "    q.enqueue((q.dequeue())) #Bill이 빠지고 다시 삽입!\n",
    "                             #그 다음 David 빠지고 다시 삽입!\n",
    "        \n",
    "#while문 안에 구조 \n",
    "print([q.dequeue(),q.size()]) #David 다음의 Susan이 출력\n",
    "print([q.dequeue(),q.size()])\n",
    "print([q.dequeue(),q.size()])\n",
    "print([q.dequeue(),q.size()])\n",
    "print([q.dequeue(),q.size()]) #최종적으로 bill이 출력\n",
    "                              #큐안에는 David가 남아있다."
   ]
  },
  {
   "cell_type": "code",
   "execution_count": 39,
   "metadata": {
    "collapsed": false
   },
   "outputs": [
    {
     "name": "stdout",
     "output_type": "stream",
     "text": [
      "Susan\n"
     ]
    }
   ],
   "source": [
    "def game(name,num):\n",
    "    qr = Queue()\n",
    "    for i in name:\n",
    "        qr.enqueue(i)\n",
    "    while qr.size()!=0: #size가 0이 아닐때까지 \n",
    "        i = 0\n",
    "        try:\n",
    "            while i != num: #i가 num과 같아지지 않을때까지\n",
    "                #for문이랑 동일한 역할 \n",
    "                qr.enqueue(qr.dequeue())\n",
    "                i+=1\n",
    "            \n",
    "        except ValueError:\n",
    "            print(\"error\")\n",
    "        qr.dequeue()\n",
    "        if qr.size() == 1:\n",
    "            return qr.dequeue()\n",
    "\n",
    "print(game([\"Bill\",\"David\",\"Susan\",\"Jane\",\"Kent\",\"Brad\"],7))"
   ]
  },
  {
   "cell_type": "markdown",
   "metadata": {},
   "source": [
    "### 3.14. Simulation: Printing Tasks"
   ]
  },
  {
   "cell_type": "markdown",
   "metadata": {},
   "source": [
    "We could decide by building a simulation that models the laboratory. We will need to construct representations for students, printing tasks, and the printer (Figure 4). As students submit printing tasks, we will add them to a waiting list, a queue of print tasks attached to the printer. When the printer completes a task, it will look at the queue to see if there are any remaining tasks to process. Of interest for us is the average amount of time students will wait for their papers to be printed. This is equal to the average amount of time a task waits in the queue."
   ]
  },
  {
   "cell_type": "markdown",
   "metadata": {},
   "source": [
    "To model this situation we need to use some probabilities. For example, students may print a paper from 1 to 20 pages in length. If each length from 1 to 20 is equally likely, the actual length for a print task can be simulated by using a random number between 1 and 20 inclusive. This means that there is equal chance of any length from 1 to 20 appearing."
   ]
  },
  {
   "cell_type": "markdown",
   "metadata": {},
   "source": [
    "##### Python Implmentation"
   ]
  },
  {
   "cell_type": "markdown",
   "metadata": {},
   "source": [
    "1.인쇄 작업 대기열을 만든다(큐 생성) -> 각각의 task에 timestamp를 갖는다.\n",
    "\n",
    "2.매초마다 새로운 인쇄 작업이 생성된다면, currentSecond를 시간으로 큐에 추가\n",
    "  프린터가 사용 중이 아니거나, 작업이 대기중이면 프린트 큐에서 다음 태스크를 제거 후\n",
    "  인쇄 대기열에서 프린터에 새로 할당\n",
    "  타임스탬프에서 currentSecond를 빼서 태스크를 기다리는 시간 계산\n",
    "  나중에 처리할 수 있는 일에 대해 해당 작업의 대기시간을 추가\n",
    "  페이지의 장수에 기반하여, 얼마나 시간이 필요한지 알아낸다.\n",
    "  프린터에서 인쇄는 1초씩 진행되며, 해당 작업에 필요한 시간에서 1초를 뺴준다.\n",
    "  작업이 완료된 경우, 필요한 시간이 0에 도달하면 프린터는 더 이상 사용되지 않는다.\n",
    "\n",
    "3.시뮬레이션이 완료된 후 대기 시간 목록에서 평균 대기 시간을 계산"
   ]
  },
  {
   "cell_type": "code",
   "execution_count": null,
   "metadata": {
    "collapsed": true
   },
   "outputs": [],
   "source": [
    "#Printer class -> 현재 태스크가 있는지 여부를 확인시켜준다.\n",
    "\n",
    "class Printer:\n",
    "    def __init__(self, ppm):\n",
    "        self.pagerate = ppm\n",
    "        self.currentTask = None\n",
    "        self.timeRemaining = 0 \n",
    "\n",
    "    def tick(self): #내부 타이머를 줄이고, 작업이 완료되면 프린터를 휴식상태로\n",
    "        if self.currentTask != None:\n",
    "            self.timeRemaining = self.timeRemaining - 1\n",
    "            #해당 작업 시간에 필요한 시간에서 1초를 제거 \n",
    "            if self.timeRemaining <= 0: #0이하이면 currenTask = None\n",
    "                self.currentTask = None\n",
    "\n",
    "    def busy(self): #위의 currentTask에 대해서 바쁜지 안 바쁜지 \n",
    "        if self.currentTask != None:\n",
    "            return True\n",
    "        else:\n",
    "            return False\n",
    "\n",
    "    def startNext(self,newtask):\n",
    "        self.currentTask = newtask\n",
    "        self.timeRemaining = newtask.getPages() * 60/self.pagerate\n",
    "        #남은 시간을 계산 "
   ]
  },
  {
   "cell_type": "code",
   "execution_count": null,
   "metadata": {
    "collapsed": true
   },
   "outputs": [],
   "source": [
    "#Task class -> single printing task \n",
    "#각각의 태스크는 시간을 계산하기 위한 타임스탬프가 필요\n",
    "#타임스탬프는 태스크가 프린터 큐에 발생하고 위치하는 시간을 나타내준다.\n",
    "\n",
    "import random\n",
    "class Task:\n",
    "    def __init__(self,time):\n",
    "        self.timestamp = time\n",
    "        self.pages = random.randrange(1,21)\n",
    "        #1 to 20 random number\n",
    "    def getStamp(self):\n",
    "        return self.timestamp\n",
    "\n",
    "    def getPages(self):\n",
    "        return self.pages\n",
    "\n",
    "    def waitTime(self, currenttime): #프린트가 시작되기전에 큐에서 사용된 시간표현\n",
    "        return currenttime - self.timestamp"
   ]
  },
  {
   "cell_type": "code",
   "execution_count": null,
   "metadata": {
    "collapsed": false
   },
   "outputs": [],
   "source": [
    "def newPrintTask():\n",
    "    num = random.randrange(1,181)\n",
    "    if num == 180:\n",
    "        return True\n",
    "    else:\n",
    "        return False\n",
    "\n",
    "def simulation(numSeconds, pagesPerMinute):\n",
    "\n",
    "    labprinter = Printer(pagesPerMinute)\n",
    "    printQueue = Queue() #queue 생성\n",
    "    waitingtimes = [] #빈 list 생성\n",
    "\n",
    "    for currentSecond in range(numSeconds):\n",
    "\n",
    "        if newPrintTask(): #새로운 프린트 태스크가 만들어졌는지에 대해 결정 \n",
    "            #randrange(1,181)에서 난수 생성\n",
    "            task = Task(currentSecond)\n",
    "            printQueue.enqueue(task)\n",
    "\n",
    "        if (not labprinter.busy()) and (not printQueue.isEmpty()):\n",
    "            nexttask = printQueue.dequeue()\n",
    "            waitingtimes.append(nexttask.waitTime(currentSecond))\n",
    "            labprinter.startNext(nexttask)\n",
    "\n",
    "        labprinter.tick()\n",
    "\n",
    "    averageWait=sum(waitingtimes)/len(waitingtimes) #평균시간 \n",
    "    print(\"Average Wait %6.2f secs %3d tasks remaining.\"%(averageWait,printQueue.size()))\n",
    "    \n",
    "for i in range(10):\n",
    "    simulation(3600,5)"
   ]
  },
  {
   "cell_type": "markdown",
   "metadata": {},
   "source": [
    "### Discussion"
   ]
  },
  {
   "cell_type": "markdown",
   "metadata": {},
   "source": [
    "이러한 유형의 시뮬레이션 분석을 통해 우리는 흔히 \"what if\"질문으로 알려진 많은 질문에 답할 수 있습니다. 우리가해야 할 일은 시뮬레이션에 사용 된 매개 변수를 다양하게하는 것 뿐이며 여러 가지 흥미로운 동작을 시뮬레이션 할 수 있습니다. 예를 들어,\n",
    "\n",
    "등록이 늘어나고 평균 학생 수가 20 명이 증가하면 어떻게됩니까?\n",
    "토요일이고 학생들이 수업을들을 필요가 없다면 어떨까요? 기다릴 여력이 있습니까?\n",
    "파이썬이 매우 강력한 언어이고 프로그램이 훨씬 짧은 경향이 있기 때문에 평균 인쇄 작업의 크기가 줄어들면 어떻습니까?\n",
    "이 질문들은 위 시뮬레이션을 수정하여 모두 대답 할 수 있습니다. 그러나 시뮬레이션은 시뮬레이션을 구축하는 데 사용 된 가정만큼 좋음을 기억하는 것이 중요합니다. 견고한 시뮬레이션을 구축하려면 시간당 인쇄 작업 수와 시간당 학생 수에 대한 실제 데이터가 필요했습니다."
   ]
  },
  {
   "cell_type": "markdown",
   "metadata": {},
   "source": [
    "### Python module queue"
   ]
  },
  {
   "cell_type": "markdown",
   "metadata": {},
   "source": [
    "Queue : 큐 / PriorityQueue : 우선순위 큐 / LifoQueue : 스택 큐"
   ]
  },
  {
   "cell_type": "code",
   "execution_count": null,
   "metadata": {
    "collapsed": true
   },
   "outputs": [],
   "source": [
    "#queue.Queue(maxsize)\n",
    "#선입선출(FIFO First-In, First-Out)큐 객체를 생성\n",
    "#queue.LifoQueue(maxsize)\n",
    "#일반적으로 스택(Stack)이라 불리는 후입선출(LIFO Last-In, First-Out)큐 객체를 생성\n",
    "#queue.PriorityQueue(maxsize)\n",
    "#우선순위 큐 객체를 생성 입력되는 아이템의 형식은 (순위, 아이템)의 튜플로 입력되며,\n",
    "#우선순위는 숫자가 작을수록 높은 순위를 갖는다"
   ]
  },
  {
   "cell_type": "markdown",
   "metadata": {},
   "source": [
    "##### 각 객체의 정렬방식 비교"
   ]
  },
  {
   "cell_type": "code",
   "execution_count": null,
   "metadata": {
    "collapsed": true
   },
   "outputs": [],
   "source": [
    "def GetitemList(q):\n",
    "    list_ = []\n",
    "    n=q.qsize()\n",
    "    while n > 0:\n",
    "        list_.append(q.get())\n",
    "        n -= 1\n",
    "    return list_"
   ]
  },
  {
   "cell_type": "code",
   "execution_count": null,
   "metadata": {
    "collapsed": true
   },
   "outputs": [],
   "source": [
    "fruit = \"apple,banana,orange,grape,lemon\""
   ]
  },
  {
   "cell_type": "code",
   "execution_count": null,
   "metadata": {
    "collapsed": true
   },
   "outputs": [],
   "source": [
    "q=queue.Queue()\n",
    "for item in fruit.split(\",\"):\n",
    "    q.put(item)"
   ]
  },
  {
   "cell_type": "code",
   "execution_count": null,
   "metadata": {
    "collapsed": false
   },
   "outputs": [],
   "source": [
    "GetitemList(q) #Queue 객체는 먼저 입력된 데이터가 먼저 출력되는 구조\n",
    "               #First-In-First-Out"
   ]
  },
  {
   "cell_type": "code",
   "execution_count": null,
   "metadata": {
    "collapsed": false
   },
   "outputs": [],
   "source": [
    "#LifoQueue : Last-In-First-Out (Stack)\n",
    "s=queue.LifoQueue()\n",
    "for item in fruit.split(\",\"):\n",
    "    s.put(item)\n",
    "GetitemList(s) #Stack 구조처럼 나중에 들어온 데이터를 먼저 출력"
   ]
  },
  {
   "cell_type": "code",
   "execution_count": null,
   "metadata": {
    "collapsed": true
   },
   "outputs": [],
   "source": [
    "#PriorityQueue : 입력되는 순서와 상관없이 데이터자체에 우선순위에 대한 정보!\n",
    "#데이터를 입력할 때, 우선 순위에 대한 정보를(순위, 아이템)의 \"튜플형태\"로 입력\n",
    "#입력된 아이템의 순위가 높은 순서대로 출력"
   ]
  },
  {
   "cell_type": "code",
   "execution_count": null,
   "metadata": {
    "collapsed": false
   },
   "outputs": [],
   "source": [
    "import random\n",
    "p=queue.PriorityQueue()\n",
    "for item in fruit.split(\",\"):\n",
    "    p.put((random.gauss(0,1),item))\n",
    "#random.gauss(0,1) : N(0,1) 난수 생성\n",
    "#random.random() : 0<=X<1 사이 임의의 float 숫자\n",
    "#random.randrange(1,4) : 1~3 사이 숫자 랜덤하게(중복 가능)"
   ]
  },
  {
   "cell_type": "code",
   "execution_count": null,
   "metadata": {
    "collapsed": false
   },
   "outputs": [],
   "source": [
    "GetitemList(p)"
   ]
  },
  {
   "cell_type": "markdown",
   "metadata": {},
   "source": [
    "pyt_nowait()와 get_nowait() 메서드"
   ]
  },
  {
   "cell_type": "code",
   "execution_count": null,
   "metadata": {
    "collapsed": true
   },
   "outputs": [],
   "source": [
    "#큐 객체 생성시 저장할수 있는 아이템 크기를 명시적으로 지정할수 있다.\n",
    "#이러한 경우 큐 객체에 저장된 아이템이 없는 상태에서 get()이 호출되거나, \n",
    "#반대로 아이템이 저장할수 있는 사이즈를 꽉 채운상태에서 put()이 호출되는 경우, \n",
    "#큐 객체는 블록킹(Blocking)된다."
   ]
  },
  {
   "cell_type": "code",
   "execution_count": null,
   "metadata": {
    "collapsed": true
   },
   "outputs": [],
   "source": [
    "#무한대기하는 상태를 피하고자 put_nowait()과 get_nowait()메서드를 지원한다.\n",
    "#이 두 메서드는 큐 객체의 상태에 상관없이 블록킹되지 않고 즉시 결과를 반환한다.\n",
    "#큐 객체가 꽉 찬 경우에는 queue.Full, 큐 객체가 빈 경우에는 queue.Empty \n",
    "#예외를 발생하기 때문에 해당상태에 맞추어서 적절한 처리를 할수 있다."
   ]
  },
  {
   "cell_type": "code",
   "execution_count": null,
   "metadata": {
    "collapsed": false
   },
   "outputs": [],
   "source": [
    "import queue\n",
    "test_q = queue.Queue(2)\n",
    "test_q.put(\"a\")\n",
    "test_q.put(\"b\") #queue의 저장 한계\n",
    "#test_q.put(\"c\") 돌리면 무한대기... 돌리지 마세요!!"
   ]
  },
  {
   "cell_type": "code",
   "execution_count": null,
   "metadata": {
    "collapsed": false
   },
   "outputs": [],
   "source": [
    "test_q.put_nowait(\"c\") #Full 이라고 오류반환"
   ]
  },
  {
   "cell_type": "code",
   "execution_count": null,
   "metadata": {
    "collapsed": false
   },
   "outputs": [],
   "source": [
    "test_q.get_nowait()"
   ]
  },
  {
   "cell_type": "code",
   "execution_count": null,
   "metadata": {
    "collapsed": false
   },
   "outputs": [],
   "source": [
    "test_q.get_nowait()"
   ]
  },
  {
   "cell_type": "code",
   "execution_count": null,
   "metadata": {
    "collapsed": false
   },
   "outputs": [],
   "source": [
    "test_q.get_nowait() #Empty라고 오류 반환"
   ]
  },
  {
   "cell_type": "code",
   "execution_count": null,
   "metadata": {
    "collapsed": true
   },
   "outputs": [],
   "source": [
    "#http://bigbigdata.tistory.com/84\n",
    "#stack, queue, priority queue 사용방식"
   ]
  },
  {
   "cell_type": "markdown",
   "metadata": {},
   "source": [
    "### Practice"
   ]
  },
  {
   "cell_type": "markdown",
   "metadata": {},
   "source": [
    "Modify the Hot Potato simulation to allow for a randomly chosen counting value so that each pass is not predictable from the previous one."
   ]
  },
  {
   "cell_type": "code",
   "execution_count": null,
   "metadata": {
    "collapsed": false
   },
   "outputs": [],
   "source": [
    "import random\n",
    "\n",
    "def hotPotato(players):\n",
    "    if players is None or len(players) <= 1:\n",
    "        return players\n",
    "\n",
    "    simQ = Queue()\n",
    "    plsize = len(players)\n",
    "    for p in players:\n",
    "        simQ.enqueue(p)\n",
    "\n",
    "    while simQ.size() > 1:\n",
    "        r = random.randint(plsize, plsize*2)\n",
    "        for i in range(r):\n",
    "            simQ.enqueue(simQ.dequeue())\n",
    "        simQ.dequeue()\n",
    "    return simQ.dequeue()\n",
    "\n",
    "\n",
    "def readInput():\n",
    "    print (\"Enter player names, comma separated\")\n",
    "    names = input()\n",
    "#    while True:\n",
    "#        num = input(\"Enter count: \")\n",
    "#        if num.isdigit():\n",
    "#            num = int(num)\n",
    "#            break\n",
    "#        else:\n",
    "#            print (\"Bad Input. Please try again.\")\n",
    "    name_list = names.split(\",\")\n",
    "    name_list = [n.strip() for n in name_list]\n",
    "    return (name_list)\n",
    "\n",
    "\n",
    "def main():\n",
    "    players = readInput()\n",
    "    winner = hotPotato(players)\n",
    "    print (\"Winner is: \", winner)\n"
   ]
  },
  {
   "cell_type": "code",
   "execution_count": null,
   "metadata": {
    "collapsed": true
   },
   "outputs": [],
   "source": []
  }
 ],
 "metadata": {
  "anaconda-cloud": {},
  "kernelspec": {
   "display_name": "Python [default]",
   "language": "python",
   "name": "python3"
  },
  "language_info": {
   "codemirror_mode": {
    "name": "ipython",
    "version": 3
   },
   "file_extension": ".py",
   "mimetype": "text/x-python",
   "name": "python",
   "nbconvert_exporter": "python",
   "pygments_lexer": "ipython3",
   "version": "3.5.2"
  }
 },
 "nbformat": 4,
 "nbformat_minor": 1
}
