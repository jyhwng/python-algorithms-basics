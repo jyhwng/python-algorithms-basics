{
 "cells": [
  {
   "cell_type": "markdown",
   "metadata": {},
   "source": [
    "# 3.1. Objectives\n",
    "\n",
    "- To understand the abstract data types stack, queue, deque, and list.\n",
    "- To be able to implement the ADTs stack, queue, and deque using Python lists.\n",
    "- To understand the performance of the implementations of basic linear data structures.\n",
    "- To understand prefix, infix, and postfix expression formats.\n",
    "- To use stacks to evaluate postfix expressions.\n",
    "- To use stacks to convert expressions from infix to postfix.\n",
    "- To use queues for basic timing simulations.\n",
    "- To be able to recognize problem properties where stacks, queues, and deques are appropriate data structures.\n",
    "- To be able to implement the abstract data type list as a linked list using the node and reference pattern.\n",
    "- To be able to compare the performance of our linked list implementation with Python’s list implementation."
   ]
  },
  {
   "cell_type": "markdown",
   "metadata": {},
   "source": [
    "# 3.2. What Are Linear Structures?\n",
    "![](http://ingridsundberg.com/wp-content/uploads/2013/06/non-linear-structure.jpg)\n",
    "\n",
    "- Examples\n",
    "  - Stacks\n",
    "  - Queues\n",
    "  - Deques\n",
    "  - Lists\n",
    "- Having two ends\n",
    "- Items are added and removed differently\n",
    "- Give rise to some of the most useful data structures"
   ]
  },
  {
   "cell_type": "markdown",
   "metadata": {},
   "source": [
    "# 3.3. What is a Stack?\n",
    "\n",
    "![](http://interactivepython.org/runestone/static/pythonds/_images/simplereversal.png)\n",
    "\n",
    "- Last added item = **top** / The end opposite the top = **base**\n",
    "- **LIFO**, last-in first-out.\n",
    "![wbb stack](https://image.ibb.co/nQfSNF/wbb.gif)\n",
    "- Examples\n",
    "  - A back button of web browser\n",
    "  - Ctrl + Z"
   ]
  },
  {
   "cell_type": "markdown",
   "metadata": {},
   "source": [
    "# 3.4. The Stack Abstract Data Type\n",
    "\n",
    "When we give an abstract data type a physical implementation we refer to the implementation as a data structure\n",
    "\n",
    "|    Operations    |             Do what              | Parameters | Returns | Modifies stack |\n",
    "| :--------------: | :------------------------------: | :--------: | :-----: | :------------: |\n",
    "|  **`Stack()`**   |    Creates a new empty stack     |            |  Stack  |       X        |\n",
    "| **`push(item)`** |      Adds a item to the top      |    Item    |         |       O        |\n",
    "|   **`pop()`**    |       Removes the top item       |            |  Item   |       O        |\n",
    "|   **`peek()`**   |       Returns the top item       |            |  Item   |       X        |\n",
    "| **`isEmpty()`**  | Tests whether the stack is empty |            | Boolean |       X        |\n",
    "|   **`size()`**   |   Returns the number of items    |            | Integer |       X        |\n"
   ]
  },
  {
   "cell_type": "markdown",
   "metadata": {},
   "source": [
    "# 3.5. Implementing a Stack in Python\n",
    "\n",
    "It makes sense to utilize the power and simplicity of the primitive collection provided by Python, List"
   ]
  },
  {
   "cell_type": "code",
   "execution_count": 1,
   "metadata": {
    "collapsed": true
   },
   "outputs": [],
   "source": [
    "class Stack:\n",
    "    def __init__(self):\n",
    "        self.items = []\n",
    "\n",
    "    def isEmpty(self):\n",
    "        return self.items == []\n",
    "\n",
    "    def push(self, item):\n",
    "        self.items.append(item)\n",
    "\n",
    "    def pop(self):\n",
    "        return self.items.pop()\n",
    "\n",
    "    def peek(self):\n",
    "        return self.items[len(self.items)-1]\n",
    "\n",
    "    def size(self):\n",
    "        return len(self.items)\n",
    "    \n",
    "    def __repr__(self):\n",
    "        return repr(self.items)"
   ]
  },
  {
   "cell_type": "code",
   "execution_count": 2,
   "metadata": {},
   "outputs": [
    {
     "name": "stdout",
     "output_type": "stream",
     "text": [
      "Third\n",
      "Second\n",
      "First\n"
     ]
    }
   ],
   "source": [
    "s = Stack()\n",
    "s.push('First')\n",
    "s.push('Second')\n",
    "s.push('Third')\n",
    "\n",
    "while not s.isEmpty():\n",
    "    print(s.pop())"
   ]
  },
  {
   "cell_type": "markdown",
   "metadata": {},
   "source": [
    "# 3.6. Simple Balanced Parentheses\n",
    "\n",
    "Balanced parentheses means that each opening symbol has a corresponding closing symbol and the pairs of parentheses are properly nested\n",
    "\n",
    "```\n",
    "(()()()())\n",
    "(((())))\n",
    "(()((())()))\n",
    "```\n",
    "\n",
    "### How to decide whether the symbols are balanced\n",
    "![](http://interactivepython.org/runestone/static/pythonds/_images/simpleparcheck.png)\n",
    "- Process symbols from left to right\n",
    "- The most recent opening parenthesis must match the next closing symbol\n",
    "- The first opening symbol processed may have to wait until the very last symbol for its match\n",
    "- Closing symbols match opening symbols in the reverse order of their appearance"
   ]
  },
  {
   "cell_type": "code",
   "execution_count": 3,
   "metadata": {},
   "outputs": [
    {
     "name": "stdout",
     "output_type": "stream",
     "text": [
      "True\n",
      "False\n"
     ]
    }
   ],
   "source": [
    "def parChecker(symbolString):\n",
    "    s = Stack()\n",
    "    balanced = True\n",
    "    index = 0\n",
    "    while index < len(symbolString) and balanced:\n",
    "        symbol = symbolString[index]\n",
    "        if symbol == \"(\":\n",
    "            s.push(symbol)\n",
    "        else:\n",
    "            if s.isEmpty():\n",
    "                balanced = False\n",
    "            else:\n",
    "                s.pop()\n",
    "\n",
    "        index = index + 1\n",
    "\n",
    "    if balanced and s.isEmpty():\n",
    "        return True\n",
    "    else:\n",
    "        return False\n",
    "\n",
    "print(parChecker('((()))'))\n",
    "print(parChecker('(()'))"
   ]
  },
  {
   "cell_type": "markdown",
   "metadata": {},
   "source": [
    "# 3.7. Balanced Symbols (A General Case)\n",
    "```\n",
    "{ ( [ ] [ ] ) } ( ) }\n",
    "[ [ { { ( ( ) ) } } ] ]\n",
    "[ ] [ ] [ ] ( ) { }\n",
    "```\n",
    "The only difference is that we must check to be sure that it correctly matches the type of the opening symbol on top of the stack"
   ]
  },
  {
   "cell_type": "code",
   "execution_count": 4,
   "metadata": {},
   "outputs": [
    {
     "name": "stdout",
     "output_type": "stream",
     "text": [
      "True\n",
      "False\n"
     ]
    }
   ],
   "source": [
    "def parChecker(symbolString):\n",
    "    s = Stack()\n",
    "    balanced = True\n",
    "    index = 0\n",
    "    while index < len(symbolString) and balanced:\n",
    "        symbol = symbolString[index]\n",
    "        if symbol in \"([{\": # Difference\n",
    "            s.push(symbol)\n",
    "        else:\n",
    "            if s.isEmpty():\n",
    "                balanced = False\n",
    "            else:\n",
    "                top = s.pop()\n",
    "                if not matches(top,symbol): # Difference\n",
    "                    balanced = False\n",
    "        index = index + 1\n",
    "    if balanced and s.isEmpty():\n",
    "        return True\n",
    "    else:\n",
    "        return False\n",
    "\n",
    "def matches(open,close):\n",
    "    opens = \"([{\"\n",
    "    closers = \")]}\"\n",
    "    return opens.index(open) == closers.index(close)\n",
    "\n",
    "print(parChecker('{{([][])}()}'))\n",
    "print(parChecker('[{()]'))"
   ]
  },
  {
   "cell_type": "markdown",
   "metadata": {},
   "source": [
    "# 3.8. Converting Decimal Numbers to Binary Numbers\n",
    "\n",
    "233<sub>10</sub> = 2×10<sup>2</sup> + 3×10<sup>1</sup> + 3×10<sup>0</sup>  \n",
    "= 11101001<sub>2</sub> = 1×2<sup>7</sup> + 1×2<sup>6</sup> + 1×2<sup>5</sup> + 0×2<sup>4</sup> + 1×2<sup>3</sup> + 0×2<sup>2</sup> + 0×2<sup>1</sup> + 1×2<sup>0</sup>\n",
    "\n",
    "But how can we easily convert integer values into binary numbers? The answer is an algorithm called “Divide by 2” that uses a stack to keep track of the digits for the binary result\n",
    "\n",
    "![]](http://interactivepython.org/runestone/static/pythonds/_images/dectobin.png)"
   ]
  },
  {
   "cell_type": "code",
   "execution_count": 5,
   "metadata": {},
   "outputs": [
    {
     "name": "stdout",
     "output_type": "stream",
     "text": [
      "decNumber = 42\trem=0\n",
      "decNumber = 21\trem=1\n",
      "decNumber = 10\trem=0\n",
      "decNumber = 5\trem=1\n",
      "decNumber = 2\trem=0\n",
      "decNumber = 1\trem=1\n",
      "101010\n"
     ]
    }
   ],
   "source": [
    "def divideBy2(decNumber):\n",
    "    remstack = Stack()\n",
    "\n",
    "    while decNumber > 0:\n",
    "        rem = decNumber % 2\n",
    "        remstack.push(rem)\n",
    "        print('decNumber = {}\\trem={}'.format(decNumber, rem))\n",
    "        decNumber = decNumber // 2\n",
    "\n",
    "    binString = \"\"\n",
    "    while not remstack.isEmpty():\n",
    "        binString = binString + str(remstack.pop())\n",
    "\n",
    "    return binString\n",
    "\n",
    "print(divideBy2(42))"
   ]
  },
  {
   "cell_type": "markdown",
   "metadata": {},
   "source": [
    "# 3.9. Infix, Prefix and Postfix Expressions\n",
    "\n",
    "Infix expression = `3 + 2 * 24`\n",
    "- All this may be obvious to you\n",
    "  - Each operator has a precedence level ( * > + )\n",
    "  - Operators of higher precedence are used before operators of lower precedence\n",
    "  - The only thing that can change that order is the presence of parentheses\n",
    "  - If two operators of equal precedence appear, then a left-to-right ordering or associativity is used\n",
    "- But computers need to know exactly what operators to perform and in what order\n",
    "- There are three ways\n",
    " \n",
    "|   Infix   | Fully Parenthesized | Prefix  |  Postfix  |\n",
    "| :-------: | :-----------------: | :-----: | :-------: |\n",
    "|   A + B   |       (A + B)       |  + A B  |   A B +   |\n",
    "| A + B * C |    (A + (B * C))    | + A * B C | A B C * + |\n",
    "The operators are now no longer ambiguous with respect to the operands that they work on\n",
    "\n",
    "Fully parenthesized: Uses one pair of parentheses for each operator  \n",
    "Prefix expression: Requires that all operators precede the two operands that they work on  \n",
    "Postfix expression: Requires that its operators come after the corresponding operands  "
   ]
  },
  {
   "cell_type": "markdown",
   "metadata": {},
   "source": [
    "# 3.9.1. Conversion of Infix Expressions to Prefix and Postfix\n",
    "\n",
    "There are algorithmic ways to perform the conversion that allow any expression of any complexity to be correctly transformed. In fully parenthesized expression, each parenthesis pair also denotes the beginning and the end of an operand pair with the corresponding operator in the middle.\n",
    "\n",
    "#### Example of Postfix Conversion\n",
    "![](http://interactivepython.org/runestone/static/pythonds/_images/moveright.png)\n",
    "<hr/>\n",
    "#### Example of Prefix Conversion\n",
    "![](http://interactivepython.org/runestone/static/pythonds/_images/moveleft.png)\n",
    "<hr/>\n",
    "![](http://interactivepython.org/runestone/static/pythonds/_images/complexmove.png)"
   ]
  },
  {
   "cell_type": "markdown",
   "metadata": {},
   "source": [
    "# 3.9.2. General Infix-to-Postfix Conversion\n",
    "\n",
    "The operands A, B, and C stay in their relative positions. It is only the operators that change position. So as we process the expression, the operators have to be saved somewhere since their corresponding right operands are not seen yet. Also, the order of these saved operators may need to be reversed.\n",
    "\n",
    "\n",
    "1. Create an empty stack called **`opstack`** for keeping operators. Create an empty list for output.\n",
    "2. Convert the input infix string to a list by using the string method **`split()`**.\n",
    "3. Scan the token list from left to right.\n",
    "  - If the token is an operand, append it to the end of the output list.\n",
    "  - If the token is a left parenthesis, push it on the **`opstack`**.\n",
    "  - If the token is a right parenthesis, pop the **`opstack`** until the corresponding left parenthesis is removed. Append each operator to the end of the output list.\n",
    "  - If the token is an operator, \\*, /, +, or -, push it on the **`opstack`**. However, first remove any operators already on the **`opstack`** that have higher or equal precedence and append them to the output list.\n",
    "4. When the input expression has been completely processed, check the **`opstack`**. Any operators still on the stack can be removed and appended to the end of the output list.\n",
    "![](http://interactivepython.org/runestone/static/pythonds/_images/intopost.png)"
   ]
  },
  {
   "cell_type": "code",
   "execution_count": 6,
   "metadata": {},
   "outputs": [
    {
     "name": "stdout",
     "output_type": "stream",
     "text": [
      "token: A\topStack: []\tpostfixList: ['A']\n",
      "token: *\topStack: ['*']\tpostfixList: ['A']\n",
      "token: B\topStack: ['*']\tpostfixList: ['A', 'B']\n",
      "token: +\topStack: ['+']\tpostfixList: ['A', 'B', '*']\n",
      "token: C\topStack: ['+']\tpostfixList: ['A', 'B', '*', 'C']\n",
      "token: *\topStack: ['+', '*']\tpostfixList: ['A', 'B', '*', 'C']\n",
      "token: D\topStack: ['+', '*']\tpostfixList: ['A', 'B', '*', 'C', 'D']\n",
      "A B * C D * +\n",
      "\n",
      "token: (\topStack: ['(']\tpostfixList: []\n",
      "token: A\topStack: ['(']\tpostfixList: ['A']\n",
      "token: +\topStack: ['(', '+']\tpostfixList: ['A']\n",
      "token: B\topStack: ['(', '+']\tpostfixList: ['A', 'B']\n",
      "token: )\topStack: []\tpostfixList: ['A', 'B', '+']\n",
      "token: *\topStack: ['*']\tpostfixList: ['A', 'B', '+']\n",
      "token: C\topStack: ['*']\tpostfixList: ['A', 'B', '+', 'C']\n",
      "A B + C *\n",
      "\n",
      "token: (\topStack: ['(']\tpostfixList: []\n",
      "token: A\topStack: ['(']\tpostfixList: ['A']\n",
      "token: +\topStack: ['(', '+']\tpostfixList: ['A']\n",
      "token: B\topStack: ['(', '+']\tpostfixList: ['A', 'B']\n",
      "token: )\topStack: []\tpostfixList: ['A', 'B', '+']\n",
      "token: *\topStack: ['*']\tpostfixList: ['A', 'B', '+']\n",
      "token: C\topStack: ['*']\tpostfixList: ['A', 'B', '+', 'C']\n",
      "token: -\topStack: ['-']\tpostfixList: ['A', 'B', '+', 'C', '*']\n",
      "token: (\topStack: ['-', '(']\tpostfixList: ['A', 'B', '+', 'C', '*']\n",
      "token: D\topStack: ['-', '(']\tpostfixList: ['A', 'B', '+', 'C', '*', 'D']\n",
      "token: -\topStack: ['-', '(', '-']\tpostfixList: ['A', 'B', '+', 'C', '*', 'D']\n",
      "token: E\topStack: ['-', '(', '-']\tpostfixList: ['A', 'B', '+', 'C', '*', 'D', 'E']\n",
      "token: )\topStack: ['-']\tpostfixList: ['A', 'B', '+', 'C', '*', 'D', 'E', '-']\n",
      "token: *\topStack: ['-', '*']\tpostfixList: ['A', 'B', '+', 'C', '*', 'D', 'E', '-']\n",
      "token: (\topStack: ['-', '*', '(']\tpostfixList: ['A', 'B', '+', 'C', '*', 'D', 'E', '-']\n",
      "token: F\topStack: ['-', '*', '(']\tpostfixList: ['A', 'B', '+', 'C', '*', 'D', 'E', '-', 'F']\n",
      "token: +\topStack: ['-', '*', '(', '+']\tpostfixList: ['A', 'B', '+', 'C', '*', 'D', 'E', '-', 'F']\n",
      "token: G\topStack: ['-', '*', '(', '+']\tpostfixList: ['A', 'B', '+', 'C', '*', 'D', 'E', '-', 'F', 'G']\n",
      "token: )\topStack: ['-', '*']\tpostfixList: ['A', 'B', '+', 'C', '*', 'D', 'E', '-', 'F', 'G', '+']\n",
      "A B + C * D E - F G + * -\n"
     ]
    }
   ],
   "source": [
    "def infixToPostfix(infixexpr):\n",
    "    prec = {}\n",
    "    prec[\"*\"] = 3\n",
    "    prec[\"/\"] = 3\n",
    "    prec[\"+\"] = 2\n",
    "    prec[\"-\"] = 2\n",
    "    prec[\"(\"] = 1\n",
    "    opStack = Stack()\n",
    "    postfixList = []\n",
    "    tokenList = infixexpr.split()\n",
    "\n",
    "    for token in tokenList:\n",
    "        if token in \"ABCDEFGHIJKLMNOPQRSTUVWXYZ\" or token in \"0123456789\":\n",
    "            postfixList.append(token)\n",
    "        elif token == '(':\n",
    "            opStack.push(token)\n",
    "        elif token == ')':\n",
    "            topToken = opStack.pop()\n",
    "            while topToken != '(':\n",
    "                postfixList.append(topToken)\n",
    "                topToken = opStack.pop()\n",
    "        else:\n",
    "            while (not opStack.isEmpty()) and (prec[opStack.peek()] >= prec[token]):\n",
    "                  postfixList.append(opStack.pop())\n",
    "            opStack.push(token)\n",
    "        print('token: {}\\topStack: {}\\tpostfixList: {}'.format(token, opStack, postfixList))\n",
    "\n",
    "    while not opStack.isEmpty():\n",
    "        postfixList.append(opStack.pop())\n",
    "    return \" \".join(postfixList)\n",
    "\n",
    "print(infixToPostfix(\"A * B + C * D\"))\n",
    "print()\n",
    "print(infixToPostfix(\"( A + B ) * C\"))\n",
    "print()\n",
    "print(infixToPostfix(\"( A + B ) * C - ( D - E ) * ( F + G )\"))"
   ]
  },
  {
   "cell_type": "markdown",
   "metadata": {},
   "source": [
    "# 3.9.3. Postfix Evaluation\n",
    "\n",
    "[`4 5 6 * +`] == [`4 + 5 * 6`]\n",
    "![](http://interactivepython.org/runestone/static/pythonds/_images/evalpostfix1.png)\n",
    "**Important: When the operands for the division are popped from the stack, they are reversed.**\n",
    "![](http://interactivepython.org/runestone/static/pythonds/_images/evalpostfix2.png)\n",
    "\n",
    "\n",
    "1. Create an empty stack called **`operandStack`**.\n",
    "2. Convert the string to a list by using the string method **`split()`**.\n",
    "3. Scan the token list from left to right.\n",
    "  - If the token is an operand, convert it from a string to an integer and push the value onto the **`operandStack`**.\n",
    "  - If the token is an operator, \\*, /, +, or -, it will need two operands. Pop the **`operandStack`** twice. The first pop is the second operand and the second pop is the first operand. Perform the arithmetic operation. Push the result back on the ** `operandStack` **.\n",
    "4. When the input expression has been completely processed, the result is on the stack. Pop the **`operandStack`** and return the value.\n"
   ]
  },
  {
   "cell_type": "code",
   "execution_count": 7,
   "metadata": {},
   "outputs": [
    {
     "name": "stdout",
     "output_type": "stream",
     "text": [
      "token: 7\toperandStack: [7]\n",
      "token: 8\toperandStack: [7, 8]\n",
      "token: +\toperandStack: [15]\n",
      "token: 3\toperandStack: [15, 3]\n",
      "token: 2\toperandStack: [15, 3, 2]\n",
      "token: +\toperandStack: [15, 5]\n",
      "token: /\toperandStack: [3.0]\n",
      "3.0\n"
     ]
    }
   ],
   "source": [
    "def postfixEval(postfixExpr):\n",
    "    operandStack = Stack()\n",
    "    tokenList = postfixExpr.split()\n",
    "\n",
    "    for token in tokenList:\n",
    "        if token in \"0123456789\":\n",
    "            operandStack.push(int(token))\n",
    "        else:\n",
    "            operand2 = operandStack.pop()\n",
    "            operand1 = operandStack.pop()\n",
    "            result = doMath(token,operand1,operand2)\n",
    "            operandStack.push(result)\n",
    "            \n",
    "        print('token: {}\\toperandStack: {}'.format(token, operandStack))\n",
    "    return operandStack.pop()\n",
    "\n",
    "def doMath(op, op1, op2):\n",
    "    if op == \"*\":\n",
    "        return op1 * op2\n",
    "    elif op == \"/\":\n",
    "        return op1 / op2\n",
    "    elif op == \"+\":\n",
    "        return op1 + op2\n",
    "    else:\n",
    "        return op1 - op2\n",
    "\n",
    "print(postfixEval('7 8 + 3 2 + /'))"
   ]
  },
  {
   "cell_type": "markdown",
   "metadata": {},
   "source": [
    "# Exercise\n",
    "\n",
    "Another example of the parentheses matching problem comes from hypertext markup language (HTML). In HTML, tags exist in both opening and closing forms and must be balanced to properly describe a web document. This very simple HTML document:\n",
    "``` html\n",
    "<html>\n",
    "   <head>\n",
    "      <title>\n",
    "         Example\n",
    "      </title>\n",
    "   </head>\n",
    "\n",
    "   <body>\n",
    "      <h1>Hello, world</h1>\n",
    "   </body>\n",
    "</html>\n",
    "```\n",
    "Reference: <a href=\"#3.7.-Balanced-Symbols-(A-General-Case)\">3.7.-Balanced-Symbols-(A-General-Case)</a>"
   ]
  },
  {
   "cell_type": "code",
   "execution_count": 8,
   "metadata": {},
   "outputs": [
    {
     "name": "stdout",
     "output_type": "stream",
     "text": [
      "symbol: <\ts: []\n",
      "symbol: h\ts: []\n",
      "symbol: t\ts: []\n",
      "symbol: m\ts: []\n",
      "symbol: l\ts: []\n",
      "symbol: >\ts: ['html']\n",
      "symbol: <\ts: ['html']\n",
      "symbol: h\ts: ['html']\n",
      "symbol: e\ts: ['html']\n",
      "symbol: a\ts: ['html']\n",
      "symbol: d\ts: ['html']\n",
      "symbol: >\ts: ['html', 'head']\n",
      "symbol: <\ts: ['html', 'head']\n",
      "symbol: t\ts: ['html', 'head']\n",
      "symbol: i\ts: ['html', 'head']\n",
      "symbol: t\ts: ['html', 'head']\n",
      "symbol: l\ts: ['html', 'head']\n",
      "symbol: e\ts: ['html', 'head']\n",
      "symbol: >\ts: ['html', 'head', 'title']\n",
      "symbol: E\ts: ['html', 'head', 'title']\n",
      "symbol: x\ts: ['html', 'head', 'title']\n",
      "symbol: a\ts: ['html', 'head', 'title']\n",
      "symbol: m\ts: ['html', 'head', 'title']\n",
      "symbol: p\ts: ['html', 'head', 'title']\n",
      "symbol: l\ts: ['html', 'head', 'title']\n",
      "symbol: e\ts: ['html', 'head', 'title']\n",
      "symbol: <\ts: ['html', 'head', 'title']\n",
      "symbol: /\ts: ['html', 'head', 'title']\n",
      "symbol: t\ts: ['html', 'head', 'title']\n",
      "symbol: i\ts: ['html', 'head', 'title']\n",
      "symbol: t\ts: ['html', 'head', 'title']\n",
      "symbol: l\ts: ['html', 'head', 'title']\n",
      "symbol: e\ts: ['html', 'head', 'title']\n",
      "symbol: >\ts: ['html', 'head']\n",
      "symbol: <\ts: ['html', 'head']\n",
      "symbol: /\ts: ['html', 'head']\n",
      "symbol: h\ts: ['html', 'head']\n",
      "symbol: e\ts: ['html', 'head']\n",
      "symbol: a\ts: ['html', 'head']\n",
      "symbol: d\ts: ['html', 'head']\n",
      "symbol: >\ts: ['html']\n",
      "symbol: <\ts: ['html']\n",
      "symbol: b\ts: ['html']\n",
      "symbol: o\ts: ['html']\n",
      "symbol: d\ts: ['html']\n",
      "symbol: y\ts: ['html']\n",
      "symbol: >\ts: ['html', 'body']\n",
      "symbol: <\ts: ['html', 'body']\n",
      "symbol: h\ts: ['html', 'body']\n",
      "symbol: 1\ts: ['html', 'body']\n",
      "symbol: >\ts: ['html', 'body', 'h1']\n",
      "symbol: H\ts: ['html', 'body', 'h1']\n",
      "symbol: e\ts: ['html', 'body', 'h1']\n",
      "symbol: l\ts: ['html', 'body', 'h1']\n",
      "symbol: l\ts: ['html', 'body', 'h1']\n",
      "symbol: o\ts: ['html', 'body', 'h1']\n",
      "symbol: ,\ts: ['html', 'body', 'h1']\n",
      "symbol: w\ts: ['html', 'body', 'h1']\n",
      "symbol: o\ts: ['html', 'body', 'h1']\n",
      "symbol: r\ts: ['html', 'body', 'h1']\n",
      "symbol: l\ts: ['html', 'body', 'h1']\n",
      "symbol: d\ts: ['html', 'body', 'h1']\n",
      "symbol: <\ts: ['html', 'body', 'h1']\n",
      "symbol: /\ts: ['html', 'body', 'h1']\n",
      "symbol: h\ts: ['html', 'body', 'h1']\n",
      "symbol: 1\ts: ['html', 'body', 'h1']\n",
      "symbol: >\ts: ['html', 'body']\n",
      "symbol: <\ts: ['html', 'body']\n",
      "symbol: /\ts: ['html', 'body']\n",
      "symbol: b\ts: ['html', 'body']\n",
      "symbol: o\ts: ['html', 'body']\n",
      "symbol: d\ts: ['html', 'body']\n",
      "symbol: y\ts: ['html', 'body']\n",
      "symbol: >\ts: ['html']\n",
      "symbol: <\ts: ['html']\n",
      "symbol: /\ts: ['html']\n",
      "symbol: h\ts: ['html']\n",
      "symbol: t\ts: ['html']\n",
      "symbol: m\ts: ['html']\n",
      "symbol: l\ts: ['html']\n",
      "symbol: >\ts: []\n"
     ]
    },
    {
     "data": {
      "text/plain": [
       "True"
      ]
     },
     "execution_count": 8,
     "metadata": {},
     "output_type": "execute_result"
    }
   ],
   "source": [
    "html = '''\n",
    "<html>\n",
    "   <head>\n",
    "      <title>\n",
    "         Example\n",
    "      </title>\n",
    "   </head>\n",
    "\n",
    "   <body>\n",
    "      <h1>Hello,world</h1>\n",
    "   </body>\n",
    "</html>\n",
    "'''.replace('\\n', '').replace(' ', '')\n",
    "\n",
    "def htmlChecker(htmlString):\n",
    "    s = Stack()\n",
    "    balanced = True\n",
    "    index = 0\n",
    "    inTag = False\n",
    "    tagBuf = []\n",
    "    while index < len(htmlString) and balanced:\n",
    "        symbol = htmlString[index]\n",
    "        if symbol == '<': \n",
    "            inTag = True\n",
    "        elif symbol == '>':\n",
    "            tag = ''.join(tagBuf)\n",
    "            tagBuf.clear()\n",
    "            if '/' in tag:\n",
    "                if s.pop() != tag.replace('/', ''):\n",
    "                    balanced = False\n",
    "            else:\n",
    "                s.push(tag)\n",
    "            inTag = False\n",
    "        else:\n",
    "            if inTag:\n",
    "                tagBuf.append(symbol)\n",
    "\n",
    "        index = index + 1\n",
    "        print('symbol: {}\\ts: {}'.format(symbol, s))\n",
    "    if balanced and s.isEmpty():\n",
    "        return True\n",
    "    else:\n",
    "        return False\n",
    "\n",
    "htmlChecker(html)"
   ]
  }
 ],
 "metadata": {
  "celltoolbar": "Raw Cell Format",
  "kernelspec": {
   "display_name": "Python 3",
   "language": "python",
   "name": "python3"
  },
  "language_info": {
   "codemirror_mode": {
    "name": "ipython",
    "version": 3
   },
   "file_extension": ".py",
   "mimetype": "text/x-python",
   "name": "python",
   "nbconvert_exporter": "python",
   "pygments_lexer": "ipython3",
   "version": "3.6.1"
  }
 },
 "nbformat": 4,
 "nbformat_minor": 2
}
