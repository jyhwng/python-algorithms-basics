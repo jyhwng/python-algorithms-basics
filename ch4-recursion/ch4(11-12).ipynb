{
 "cells": [
  {
   "cell_type": "markdown",
   "metadata": {},
   "source": [
    "# 4.11 Exploring a Maze"
   ]
  },
  {
   "cell_type": "markdown",
   "metadata": {},
   "source": [
    "![image](http://interactivepython.org/runestone/static/pythonds/_images/maze.png)"
   ]
  },
  {
   "cell_type": "markdown",
   "metadata": {},
   "source": [
    "### Here is the procedure:\n",
    "• From our starting position we will first try going North one square and then recursively try our procedure from there.\n",
    "\n",
    "• If we are not successful by trying a Northern path as the first step then we will take a step to the South and recursively repeat our procedure.\n",
    "\n",
    "• If South does not work then we will try a step to the West as our first step and recursively apply our procedure.\n",
    "\n",
    "• If North, South, and West have not been successful then apply the procedure recursively from a position one step to our East.\n",
    "\n",
    "• If none of these directions works then there is no way to get out of the maze and we fail.\n",
    "\n",
    "-> \"북, 남, 서, 동\" 순차적으로 이동가능하고 4가지 방향 모두 이동 불가능하면 실패\n",
    "\n"
   ]
  },
  {
   "cell_type": "markdown",
   "metadata": {},
   "source": [
    "\n",
    "### In this algorithm, there are four base cases to consider:\n",
    "1.The turtle has run into a wall. Since the square is occupied by a wall no further exploration can take place.\n",
    "\n",
    "2.The turtle has found a square that has already been explored. We do not want to continue exploring from this position or we will get into a loop.\n",
    "\n",
    "3.We have found an outside edge, not occupied by a wall. In other words we have found an exit from the maze.\n",
    "\n",
    "4.We have explored a square unsuccessfully in all four directions.\n",
    "\n",
    "-> 이미 지나간 사각형은 지나갈 수 없음, 모든 방향이 막혀있으면 실패, 막히지 않은 가장자리 발견시 성공"
   ]
  },
  {
   "cell_type": "markdown",
   "metadata": {},
   "source": [
    "### algorithm:\n",
    "•__init__: Reads in a data file representing a maze, initializes the internal representation of the maze, and finds the starting position for the turtle. -> maze 불러오기&표현, 시작위치 설정\n",
    "\n",
    "•drawMaze: Draws the maze in a window on the screen. -> maze 그리기\n",
    "\n",
    "•updatePosition: Updates the internal representation of the maze and changes the position of the turtle in the window. -> maze&위치 변화\n",
    "\n",
    "•isExit: Checks to see if the current position is an exit from the maze. -> 탈출여부 확인"
   ]
  },
  {
   "cell_type": "code",
   "execution_count": 14,
   "metadata": {
    "collapsed": true
   },
   "outputs": [],
   "source": [
    "import turtle\n",
    "\n",
    "PART_OF_PATH = 'O'\n",
    "TRIED = '.'\n",
    "OBSTACLE = '+'\n",
    "DEAD_END = '-'"
   ]
  },
  {
   "cell_type": "code",
   "execution_count": 23,
   "metadata": {
    "collapsed": true
   },
   "outputs": [],
   "source": [
    "class Maze:\n",
    "    #The init method takes the name of a file as its only parameter. \n",
    "    #This file is a text file that represents a maze by using “+” characters for walls, spaces for open squares, and the letter “S” to indicate the starting position.\n",
    "    def __init__(self,mazeFileName):\n",
    "        rowsInMaze = 0\n",
    "        columnsInMaze = 0\n",
    "        self.mazelist = []\n",
    "        mazeFile = open(mazeFileName,'r')\n",
    "        rowsInMaze = 0\n",
    "        for line in mazeFile:\n",
    "            rowList = []\n",
    "            col = 0\n",
    "            for ch in line[:-1]:\n",
    "                rowList.append(ch)\n",
    "                if ch == 'S':\n",
    "                    self.startRow = rowsInMaze\n",
    "                    self.startCol = col\n",
    "                col = col + 1\n",
    "            rowsInMaze = rowsInMaze + 1\n",
    "            self.mazelist.append(rowList)\n",
    "            columnsInMaze = len(rowList)\n",
    "\n",
    "        self.rowsInMaze = rowsInMaze\n",
    "        self.columnsInMaze = columnsInMaze\n",
    "        self.xTranslate = -columnsInMaze/2\n",
    "        self.yTranslate = rowsInMaze/2\n",
    "        self.t = turtle.Turtle()\n",
    "        self.t.shape('turtle')\n",
    "        self.wn = turtle.Screen()\n",
    "        self.wn.setworldcoordinates(-(columnsInMaze-1)/2-.5,-(rowsInMaze-1)/2-.5,(columnsInMaze-1)/2+.5,(rowsInMaze-1)/2+.5) #좌표범위 설정\n",
    "\n",
    "        \n",
    "    #장애물을 주황색으로 칠해주는 함수\n",
    "    def drawMaze(self):\n",
    "        self.t.speed(10)\n",
    "        self.wn.tracer(0)\n",
    "        for y in range(self.rowsInMaze):\n",
    "            for x in range(self.columnsInMaze):\n",
    "                if self.mazelist[y][x] == OBSTACLE:\n",
    "                    self.drawCenteredBox(x+self.xTranslate,-y+self.yTranslate,'orange')\n",
    "        self.t.color('black')\n",
    "        self.t.fillcolor('blue')\n",
    "        self.wn.update()\n",
    "        self.wn.tracer(1)\n",
    "\n",
    "        \n",
    "    #(x,y)를 중심점으로 하는 사각형을 color로 색칠하는 함수\n",
    "    def drawCenteredBox(self,x,y,color):\n",
    "        self.t.up()\n",
    "        self.t.goto(x-.5,y-.5)\n",
    "        self.t.color(color)\n",
    "        self.t.fillcolor(color)\n",
    "        self.t.setheading(90)\n",
    "        self.t.down()\n",
    "        self.t.begin_fill()\n",
    "        for i in range(4):\n",
    "            self.t.forward(1)\n",
    "            self.t.right(90)\n",
    "        self.t.end_fill()\n",
    "\n",
    "        \n",
    "    #(x,y)에서 (x+self.xTranslate,-y+self.yTranslate)로 움직이는 함수\n",
    "    def moveTurtle(self,x,y):\n",
    "        self.t.up()\n",
    "        self.t.setheading(self.t.towards(x+self.xTranslate,-y+self.yTranslate)) #(x+self.xTranslate,-y+self.yTranslate)를 향하게 방향설정\n",
    "        self.t.goto(x+self.xTranslate,-y+self.yTranslate)\n",
    "\n",
    "        \n",
    "    #color 색의 사이즈가 10인 점그리는 함수   \n",
    "    def dropBreadcrumb(self,color):\n",
    "        self.t.dot(10,color)\n",
    "\n",
    "        \n",
    "    #(col,row)로 옮기고 PART_OF_PATH = 'green', OBSTACLE = 'red', TRIED = 'black', DEAD_END = 'red'으로 점그리는 함수\n",
    "    def updatePosition(self,row,col,val=None):\n",
    "        if val:\n",
    "            self.mazelist[row][col] = val\n",
    "        self.moveTurtle(col,row)\n",
    "\n",
    "        if val == PART_OF_PATH:\n",
    "            color = 'green'\n",
    "        elif val == OBSTACLE:\n",
    "            color = 'red'\n",
    "        elif val == TRIED:\n",
    "            color = 'black'\n",
    "        elif val == DEAD_END:\n",
    "            color = 'red'\n",
    "        else:\n",
    "            color = None\n",
    "\n",
    "        if color:\n",
    "            self.dropBreadcrumb(color)\n",
    "\n",
    "            \n",
    "    # 가장자리 위치시 TRUE를 반환하는 함수     \n",
    "    def isExit(self,row,col):\n",
    "        return (row == 0 or\n",
    "                row == self.rowsInMaze-1 or\n",
    "                col == 0 or\n",
    "                col == self.columnsInMaze-1 )\n",
    "\n",
    "    \n",
    "    #idx에 해당하는 row를 반환하는 함수\n",
    "    def __getitem__(self,idx):\n",
    "        return self.mazelist[idx]"
   ]
  },
  {
   "cell_type": "code",
   "execution_count": 3,
   "metadata": {
    "collapsed": true
   },
   "outputs": [],
   "source": [
    "def searchFrom(maze, startRow, startColumn):\n",
    "    # try each of four directions from this point until we find a way out.\n",
    "    # base Case return values:\n",
    "    #  1. We have run into an obstacle, return false\n",
    "    maze.updatePosition(startRow, startColumn)\n",
    "    if maze[startRow][startColumn] == OBSTACLE :\n",
    "        return False\n",
    "    #  2. We have found a square that has already been explored\n",
    "    if maze[startRow][startColumn] == TRIED or maze[startRow][startColumn] == DEAD_END:\n",
    "        return False\n",
    "    # 3. We have found an outside edge not occupied by an obstacle\n",
    "    if maze.isExit(startRow,startColumn):\n",
    "        maze.updatePosition(startRow, startColumn, PART_OF_PATH)\n",
    "        return True\n",
    "    maze.updatePosition(startRow, startColumn, TRIED)\n",
    "    # Otherwise, use logical short circuiting to try each direction\n",
    "    # in turn (if needed)\n",
    "    found = searchFrom(maze, startRow-1, startColumn) or \\\n",
    "            searchFrom(maze, startRow+1, startColumn) or \\\n",
    "            searchFrom(maze, startRow, startColumn-1) or \\\n",
    "            searchFrom(maze, startRow, startColumn+1)\n",
    "    if found:\n",
    "        maze.updatePosition(startRow, startColumn, PART_OF_PATH)\n",
    "    else:\n",
    "        maze.updatePosition(startRow, startColumn, DEAD_END)\n",
    "    return found"
   ]
  },
  {
   "cell_type": "code",
   "execution_count": 4,
   "metadata": {
    "collapsed": true
   },
   "outputs": [],
   "source": [
    "myMaze = Maze('maze2.txt')\n",
    "myMaze.drawMaze()\n",
    "myMaze.updatePosition(myMaze.startRow,myMaze.startCol)"
   ]
  },
  {
   "cell_type": "code",
   "execution_count": 5,
   "metadata": {
    "collapsed": false
   },
   "outputs": [
    {
     "data": {
      "text/plain": [
       "True"
      ]
     },
     "execution_count": 5,
     "metadata": {},
     "output_type": "execute_result"
    }
   ],
   "source": [
    "searchFrom(myMaze, myMaze.startRow, myMaze.startCol)"
   ]
  },
  {
   "cell_type": "markdown",
   "metadata": {},
   "source": [
    "# 4.12 Dynamic Programming"
   ]
  },
  {
   "cell_type": "markdown",
   "metadata": {},
   "source": [
    "### A classic example of an optimization problem involves making change using the fewest coins. \n",
    "numCoins = min{1+numCoins(originalamount-1),\n",
    "               1+numCoins(originalamount-5),\n",
    "               1+numCoins(originalamount-10),\n",
    "               1+numCoins(originalamount-25)"
   ]
  },
  {
   "cell_type": "code",
   "execution_count": 15,
   "metadata": {
    "collapsed": false
   },
   "outputs": [
    {
     "name": "stdout",
     "output_type": "stream",
     "text": [
      "6\n"
     ]
    }
   ],
   "source": [
    "def recMC(coinValueList,change):\n",
    "    minCoins = change\n",
    "    if change in coinValueList:\n",
    "        return 1\n",
    "    else:\n",
    "        for i in [c for c in coinValueList if c <= change]:\n",
    "            numCoins = 1 + recMC(coinValueList,change-i)\n",
    "            if numCoins < minCoins: #작은값으로 바꿔주기\n",
    "                minCoins = numCoins\n",
    "    return minCoins\n",
    "\n",
    "print(recMC([1,5,10,25],63))"
   ]
  },
  {
   "cell_type": "markdown",
   "metadata": {},
   "source": [
    "The trouble with the algorithm in Listing 7 is that it is extremely inefficient. The key to cutting down on the amount of work we do is to remember some of the past results so we can avoid recomputing results we already know. "
   ]
  },
  {
   "cell_type": "code",
   "execution_count": 16,
   "metadata": {
    "collapsed": false
   },
   "outputs": [
    {
     "name": "stdout",
     "output_type": "stream",
     "text": [
      "6\n"
     ]
    }
   ],
   "source": [
    "def recDC(coinValueList,change,knownResults): #knownResults:결과 저장할 공간 \n",
    "    minCoins = change\n",
    "    if change in coinValueList:\n",
    "        knownResults[change] = 1\n",
    "        return 1\n",
    "    elif knownResults[change] > 0: #결과 존재시 반환\n",
    "        return knownResults[change]\n",
    "    else:\n",
    "        for i in [c for c in coinValueList if c <= change]:\n",
    "            numCoins = 1 + recDC(coinValueList, change-i, knownResults)\n",
    "            if numCoins < minCoins:\n",
    "                minCoins = numCoins\n",
    "                knownResults[change] = minCoins\n",
    "    return minCoins\n",
    "\n",
    "print(recDC([1,5,10,25],63,[0]*64))"
   ]
  },
  {
   "cell_type": "markdown",
   "metadata": {},
   "source": [
    "![](http://interactivepython.org/runestone/static/pythonds/_images/changeTable.png)"
   ]
  },
  {
   "cell_type": "markdown",
   "metadata": {},
   "source": [
    "![image](http://interactivepython.org/runestone/static/pythonds/_images/elevenCents.png)"
   ]
  },
  {
   "cell_type": "markdown",
   "metadata": {},
   "source": [
    "Listing 8 is a dynamic programming algorithm to solve our change-making problem. "
   ]
  },
  {
   "cell_type": "code",
   "execution_count": 19,
   "metadata": {
    "collapsed": false
   },
   "outputs": [
    {
     "name": "stdout",
     "output_type": "stream",
     "text": [
      "6\n"
     ]
    }
   ],
   "source": [
    "def dpMakeChange(coinValueList,change,minCoins):\n",
    "    for cents in range(change+1): #cents: 1~change\n",
    "        coinCount = cents\n",
    "        for j in [c for c in coinValueList if c <= cents]:\n",
    "            if minCoins[cents-j] + 1 < coinCount:\n",
    "                coinCount = minCoins[cents-j]+1\n",
    "        minCoins[cents] = coinCount\n",
    "    return minCoins[change]\n",
    "\n",
    "print(dpMakeChange([1,5,10,25],63,[0]*64))"
   ]
  },
  {
   "cell_type": "markdown",
   "metadata": {},
   "source": [
    "ActiveCode 2 shows the dpMakeChange algorithm modified to keep track of the coins used, along with a function printCoins that walks backward through the table to print out the value of each coin used. "
   ]
  },
  {
   "cell_type": "code",
   "execution_count": 20,
   "metadata": {
    "collapsed": true
   },
   "outputs": [],
   "source": [
    "def dpMakeChange(coinValueList,change,minCoins,coinsUsed):\n",
    "    for cents in range(change+1):\n",
    "        coinCount = cents\n",
    "        newCoin = 1\n",
    "        for j in [c for c in coinValueList if c <= cents]:\n",
    "            if minCoins[cents-j] + 1 < coinCount:\n",
    "                coinCount = minCoins[cents-j]+1\n",
    "                newCoin = j\n",
    "        minCoins[cents] = coinCount\n",
    "        coinsUsed[cents] = newCoin\n",
    "    return minCoins[change]"
   ]
  },
  {
   "cell_type": "code",
   "execution_count": 21,
   "metadata": {
    "collapsed": true
   },
   "outputs": [],
   "source": [
    "def printCoins(coinsUsed,change):\n",
    "    coin = change\n",
    "    while coin > 0:\n",
    "        thisCoin = coinsUsed[coin]\n",
    "        print(thisCoin)\n",
    "        coin = coin - thisCoin"
   ]
  },
  {
   "cell_type": "code",
   "execution_count": 22,
   "metadata": {
    "collapsed": false
   },
   "outputs": [
    {
     "name": "stdout",
     "output_type": "stream",
     "text": [
      "Making change for 63 requires\n",
      "3 coins\n",
      "They are:\n",
      "21\n",
      "21\n",
      "21\n",
      "The used list is as follows:\n",
      "[1, 1, 1, 1, 1, 5, 1, 1, 1, 1, 10, 1, 1, 1, 1, 5, 1, 1, 1, 1, 10, 21, 1, 1, 1, 25, 1, 1, 1, 1, 5, 10, 1, 1, 1, 10, 1, 1, 1, 1, 5, 10, 21, 1, 1, 10, 21, 1, 1, 1, 25, 1, 10, 1, 1, 5, 10, 1, 1, 1, 10, 1, 10, 21]\n"
     ]
    }
   ],
   "source": [
    "def main():\n",
    "    amnt = 63\n",
    "    clist = [1,5,10,21,25]\n",
    "    coinsUsed = [0]*(amnt+1)\n",
    "    coinCount = [0]*(amnt+1)\n",
    "\n",
    "    print(\"Making change for\",amnt,\"requires\")\n",
    "    print(dpMakeChange(clist,amnt,coinCount,coinsUsed),\"coins\")\n",
    "    print(\"They are:\")\n",
    "    printCoins(coinsUsed,amnt)\n",
    "    print(\"The used list is as follows:\")\n",
    "    print(coinsUsed)\n",
    "\n",
    "main()"
   ]
  },
  {
   "cell_type": "code",
   "execution_count": null,
   "metadata": {
    "collapsed": true
   },
   "outputs": [],
   "source": []
  }
 ],
 "metadata": {
  "anaconda-cloud": {},
  "kernelspec": {
   "display_name": "Python [default]",
   "language": "python",
   "name": "python3"
  },
  "language_info": {
   "codemirror_mode": {
    "name": "ipython",
    "version": 3
   },
   "file_extension": ".py",
   "mimetype": "text/x-python",
   "name": "python",
   "nbconvert_exporter": "python",
   "pygments_lexer": "ipython3",
   "version": "3.5.2"
  }
 },
 "nbformat": 4,
 "nbformat_minor": 1
}
