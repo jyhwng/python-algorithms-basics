{
 "cells": [
  {
   "cell_type": "markdown",
   "metadata": {},
   "source": [
    "# 4.5. Converting an Integer to a String in Any Base\n"
   ]
  },
  {
   "cell_type": "markdown",
   "metadata": {},
   "source": [
    "###### To convert an integer to a string in some base between binary and hexadecimal. \n",
    "    : the recursive formulation of the problem is very elegant."
   ]
  },
  {
   "cell_type": "markdown",
   "metadata": {},
   "source": [
    "###### Knowing what our base is suggests that the overall algorithm will involve three components:\n",
    "\n",
    "1. Reduce the original number to a series of single-digit numbers.\n",
    "\n",
    "2. Convert the single digit-number to a string using a lookup.\n",
    "\n",
    "3. Concatenate the single-digit strings together to form the final result."
   ]
  },
  {
   "cell_type": "markdown",
   "metadata": {},
   "source": [
    "######  - mathematical operations might reduce a number. \n",
    "\t   : division and subtraction. \n",
    "     \n"
   ]
  },
  {
   "cell_type": "markdown",
   "metadata": {},
   "source": [
    "###### Integer division with remainders gives us a clear direction. "
   ]
  },
  {
   "cell_type": "markdown",
   "metadata": {},
   "source": [
    " ![](http://interactivepython.org/runestone/static/pythonds/_images/toStr.png)\n"
   ]
  },
  {
   "cell_type": "markdown",
   "metadata": {},
   "source": [
    "###### The Three Laws of Recursion\n",
    "\n",
    "1. A recursive algorithm must have a base case.\n",
    "2. A recursive algorithm must change its state and move toward the base case.\n",
    "3. A recursive algorithm must call itself, recursively."
   ]
  },
  {
   "cell_type": "markdown",
   "metadata": {},
   "source": [
    "![](http://interactivepython.org/runestone/static/pythonds/_images/toStrBase2.png)"
   ]
  },
  {
   "cell_type": "markdown",
   "metadata": {},
   "source": [
    "# 4.6. Stack Frames: Implementing Recursion\n",
    "\n",
    "\n",
    "\n",
    "\n"
   ]
  },
  {
   "cell_type": "markdown",
   "metadata": {
    "collapsed": true
   },
   "source": [
    "![](http://interactivepython.org/runestone/static/pythonds/_images/recstack.png)"
   ]
  },
  {
   "cell_type": "markdown",
   "metadata": {},
   "source": [
    " 1. simply pop the characters off the stack \n",
    " 2. concatenate them into the final result, \"1010\"."
   ]
  },
  {
   "cell_type": "markdown",
   "metadata": {},
   "source": [
    "![](http://interactivepython.org/runestone/static/pythonds/_images/newcallstack.png)"
   ]
  },
  {
   "cell_type": "markdown",
   "metadata": {},
   "source": [
    " Notice that the call to toStr(2//2,2) leaves a return value of \"1\" on the stack. \n",
    " This return value is then used in place of the function call (toStr(1,2)) in the expression \"1\" + convertString[2%2]\n",
    ", which will leave the string \"10\" on the top of the stack."
   ]
  },
  {
   "cell_type": "markdown",
   "metadata": {},
   "source": [
    "    In our list summing example,\n",
    "    you can think of the return value on the stack taking the place of an accumulator variable.\n",
    "\n",
    "    The stack frames also provide a scope for the variables used by the function. \n",
    "    Even though we are calling the same function over and over, \n",
    "    each call creates a new scope for the variables that are local to the function."
   ]
  }
 ],
 "metadata": {
  "kernelspec": {
   "display_name": "Python 3",
   "language": "python",
   "name": "python3"
  },
  "language_info": {
   "codemirror_mode": {
    "name": "ipython",
    "version": 3
   },
   "file_extension": ".py",
   "mimetype": "text/x-python",
   "name": "python",
   "nbconvert_exporter": "python",
   "pygments_lexer": "ipython3",
   "version": "3.5.3"
  }
 },
 "nbformat": 4,
 "nbformat_minor": 2
}
