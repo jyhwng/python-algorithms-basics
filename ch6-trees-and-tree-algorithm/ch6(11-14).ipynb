{
 "cells": [
  {
   "cell_type": "markdown",
   "metadata": {},
   "source": [
    "# Binary Search Trees"
   ]
  },
  {
   "cell_type": "markdown",
   "metadata": {},
   "source": [
    "<br>\n",
    "### 6.11 Bianry Search Trees <br>\n",
    "> 항목의 정확한 tree내 위치가 아닌 효율적인 검색을 위해 binary tree 구조 이용"
   ]
  },
  {
   "cell_type": "markdown",
   "metadata": {},
   "source": [
    "<br>\n",
    "<br>\n",
    "### 6.12 Search Tree Operations <br>\n",
    "> map ADT interface <br> \n",
    "> - Map(): 빈 map를 생성\n",
    "> - put(key,val): (key, val) map에 추가하고 이미 key가 map에 있으면 value 업데이트\n",
    "> - get(key): key가 주어지면 map에 저장된 value 값 또는 None 반환\n",
    "> - del: (key, val) 삭제 -> 형식: del map[key]\n",
    "> - len(): map에 저장된 (key, val) 쌍의 수 반환\n",
    "> - in: key가 map에 있으면 True -> 형식: key in map"
   ]
  },
  {
   "cell_type": "markdown",
   "metadata": {},
   "source": [
    "<br>\n",
    "<br>\n",
    "### 6.13 Search Tree Implementation <br>\n",
    "> bst property: 부모보다 작은 키는 왼쪽 subtree에 부모보다 큰 키는 오른쪽 subtree에 위치 <br> <br>\n",
    "> ![image](http://interactivepython.org/runestone/static/pythonds/_images/simpleBST.png)\n",
    "<br>\n",
    "> [ 70 , 31 , 93 , 94 , 14 , 23 , 73 ] 순서대로 넣어보자! <br><br>\n",
    "> 70: 트리에 삽입 된 첫 번째 키이므로 루트<br>\n",
    "> 31: 70보다 작으므로 70의 왼쪽 자식<br>\n",
    "> 93: 70보다 크므로 70의 오른쪽 자식<br>\n",
    "> 94: 70 및 93보다 크므로 93의 오른쪽 자식<br> \n",
    "> 14: 70 및 31보다 작으므로 31의 왼쪽 자식<br>\n",
    "> 23: 70 및 31보다 작으므로 31의 왼쪽 자식 but 14보다 크므로 14의 오른쪽 자식<br>\n",
    "> 73: 70보다 크므로 70의 오른쪽 자식 but 93보다 작으므로 93의 왼쪽 자식"
   ]
  },
  {
   "cell_type": "markdown",
   "metadata": {},
   "source": [
    "<br>Listing1) BinarySearchTree 클래스 생성<br><br>"
   ]
  },
  {
   "cell_type": "code",
   "execution_count": 1,
   "metadata": {
    "collapsed": true
   },
   "outputs": [],
   "source": [
    "class BinarySearchTree:\n",
    "\n",
    "    def __init__(self):\n",
    "        self.root = None\n",
    "        self.size = 0\n",
    "\n",
    "    def length(self):\n",
    "        return self.size\n",
    "\n",
    "    def __len__(self):\n",
    "        return self.size\n",
    "\n",
    "    def __iter__(self):\n",
    "        return self.root.__iter__()"
   ]
  },
  {
   "cell_type": "markdown",
   "metadata": {},
   "source": [
    "<br>Listing2) TreeNode 클래스 생성<br>\n",
    ": 각 노드의 속성으로 부모 추적, 선택적 매개 변수 사용<br><br>"
   ]
  },
  {
   "cell_type": "code",
   "execution_count": 2,
   "metadata": {
    "collapsed": true
   },
   "outputs": [],
   "source": [
    "class TreeNode:\n",
    "    def __init__(self,key,val,left=None,right=None,parent=None):\n",
    "        self.key = key\n",
    "        self.payload = val\n",
    "        self.leftChild = left\n",
    "        self.rightChild = right\n",
    "        self.parent = parent\n",
    "\n",
    "    def hasLeftChild(self):\n",
    "        return self.leftChild\n",
    "\n",
    "    def hasRightChild(self):\n",
    "        return self.rightChild\n",
    "\n",
    "    def isLeftChild(self):\n",
    "        return self.parent and self.parent.leftChild == self\n",
    "\n",
    "    def isRightChild(self):\n",
    "        return self.parent and self.parent.rightChild == self\n",
    "\n",
    "    def isRoot(self):\n",
    "        return not self.parent\n",
    "\n",
    "    def isLeaf(self):\n",
    "        return not (self.rightChild or self.leftChild)\n",
    "\n",
    "    def hasAnyChildren(self):\n",
    "        return self.rightChild or self.leftChild\n",
    "\n",
    "    def hasBothChildren(self):\n",
    "        return self.rightChild and self.leftChild\n",
    "\n",
    "    def replaceNodeData(self,key,value,lc,rc):\n",
    "        self.key = key\n",
    "        self.payload = value\n",
    "        self.leftChild = lc\n",
    "        self.rightChild = rc\n",
    "        if self.hasLeftChild(): #왼쪽 자식 존재하면 parent를 self로 변경\n",
    "            self.leftChild.parent = self\n",
    "        if self.hasRightChild():\n",
    "            self.rightChild.parent = self"
   ]
  },
  {
   "cell_type": "markdown",
   "metadata": {},
   "source": [
    "<br>Listing3) put method 생성 <br>\n",
    ": 트리가 루트를 가지고 있는지 확인<br>\n",
    "-> 루트 없으면 새로운 TreeNode 생성한 후 key를 트리의 루트로 설정<br>\n",
    "-> 루트 있으면 _put method로 아래 알고리즘 이용해 트리 search\n",
    "> - 트리 루트부터 이진 트리를 검색으로 새로운 키를 현재 노드의 키와 비교하며,<br> 새로운 키가 현재 노드보다 작은 경우 왼쪽 하위 트리를 검색하고 <br>새로운 키가 현재 노드보다 큰 경우 오른쪽 하위 트리 검색<br>\n",
    "> - 검색 할 왼쪽 (또는 오른쪽) 자식이 없으면 그 곳이 새로운 트리의 위치<br>\n",
    "> - 트리에 TreeNode객체를 만들고 이전 단계에서 발견 된 지점에 객체를 삽입<br><br>\n",
    "중복 key 처리: 중복 key는 오른쪽 하위 트리에 생성되므로 결과적으로 중복 key 노드는 검색 중에 절대로 발견되지 않음"
   ]
  },
  {
   "cell_type": "code",
   "execution_count": 3,
   "metadata": {
    "collapsed": true
   },
   "outputs": [],
   "source": [
    "def put(self,key,val):\n",
    "    if self.root: #루트 있으면 _put 이용\n",
    "        self._put(key,val,self.root)\n",
    "    else: #루트 없으면 TreeNode 생성하고 루트로 설정\n",
    "        self.root = TreeNode(key,val)\n",
    "    self.size = self.size + 1 #size 1증가\n",
    "\n",
    "def _put(self,key,val,currentNode):\n",
    "    if key < currentNode.key: #currentNode보다 작으면 왼쪽 자식 탐색 \n",
    "        if currentNode.hasLeftChild(): #왼쪽 자식 있으면 재귀적 탐색\n",
    "            self._put(key,val,currentNode.leftChild)\n",
    "        else: #왼쪽 자식 없으면 TreeNode 생성후 왼쪽 자식으로 설정\n",
    "            currentNode.leftChild = TreeNode(key,val,parent=currentNode)\n",
    "    else: #currentNode보다 크면 오른쪽 자식 탐색 \n",
    "        if currentNode.hasRightChild():\n",
    "            self._put(key,val,currentNode.rightChild)\n",
    "        else:\n",
    "            currentNode.rightChild = TreeNode(key,val,parent=currentNode)"
   ]
  },
  {
   "cell_type": "markdown",
   "metadata": {},
   "source": [
    "<br>Listing4) \\_\\_setitem\\_\\_ method 생성 <br>\n",
    ": \\_\\_setitem\\_\\_ method가 put method 부르게해서 [] operator를 overload<br>\n",
    "-> myZipTree['Plymouth'] = 55446 가능해짐<br><br>"
   ]
  },
  {
   "cell_type": "code",
   "execution_count": 5,
   "metadata": {
    "collapsed": true
   },
   "outputs": [],
   "source": [
    "def __setitem__(self,k,v):\n",
    "    self.put(k,v)"
   ]
  },
  {
   "cell_type": "markdown",
   "metadata": {},
   "source": [
    "<br>19 들어왔을 때 binary tree 탐색 경로<br> \n",
    ": 17보다 크므로 17의 오른쪽 자식, 35 및 29보다 작으므로 29의 왼쪽 자식<br>\n",
    "![image](http://interactivepython.org/runestone/static/pythonds/_images/bstput.png) <br>"
   ]
  },
  {
   "cell_type": "markdown",
   "metadata": {},
   "source": [
    "<br>Listing5) get method 생성 <br>\n",
    ": 주어진 키에 대한 값 검색, <br>\n",
    "-> z = myZipTree['Fargo'] 가능해짐<br><br>"
   ]
  },
  {
   "cell_type": "code",
   "execution_count": 6,
   "metadata": {
    "collapsed": true
   },
   "outputs": [],
   "source": [
    "def get(self,key):\n",
    "    if self.root: #루트있으면 _get 이용\n",
    "        res = self._get(key,self.root)\n",
    "        if res: #res 있으면 res의 value 반환\n",
    "            return res.payload\n",
    "        else: #없으면 None 반환\n",
    "            return None\n",
    "    else: #루트없으면 None 반환\n",
    "        return None\n",
    "\n",
    "def _get(self,key,currentNode):\n",
    "    if not currentNode: #currentNode 없으면 None 반환\n",
    "        return None\n",
    "    elif currentNode.key == key: #currentNode가 key와 동일하면 currentNode 반환\n",
    "        return currentNode\n",
    "    elif key < currentNode.key: #currentNode보다 작으면 왼쪽자식 탐색\n",
    "        return self._get(key,currentNode.leftChild)\n",
    "    else:\n",
    "        return self._get(key,currentNode.rightChild)\n",
    "\n",
    "def __getitem__(self,key):\n",
    "    return self.get(key)"
   ]
  },
  {
   "cell_type": "markdown",
   "metadata": {},
   "source": [
    "<br>Listing6) \\_\\_contains\\_\\_ method 생성 <br>\n",
    ": in operator를 overload<br><br>\n"
   ]
  },
  {
   "cell_type": "code",
   "execution_count": 7,
   "metadata": {
    "collapsed": true
   },
   "outputs": [],
   "source": [
    "def __contains__(self,key):\n",
    "    if self._get(key,self.root): #key 존재하면 True 아니면 False 반환\n",
    "        return True\n",
    "    else:\n",
    "        return False"
   ]
  },
  {
   "cell_type": "markdown",
   "metadata": {},
   "source": [
    "<br>Listing7) delete method 생성 <br><br>"
   ]
  },
  {
   "cell_type": "code",
   "execution_count": 8,
   "metadata": {
    "collapsed": true
   },
   "outputs": [],
   "source": [
    "def delete(self,key):\n",
    "    if self.size > 1:\n",
    "        nodeToRemove = self._get(key,self.root)\n",
    "        if nodeToRemove: #key값의 value 존재시 제거하고 size 1 줄임\n",
    "            self.remove(nodeToRemove)\n",
    "            self.size = self.size-1\n",
    "        else:\n",
    "            raise KeyError('Error, key not in tree') #key값의 value 존재 안하면 error 출력\n",
    "    elif self.size == 1 and self.root.key == key: #size가 1이거나 key가 루트이면 루트 None으로 대체 \n",
    "        self.root = None\n",
    "        self.size = self.size - 1\n",
    "    else:\n",
    "        raise KeyError('Error, key not in tree') #tree size가 0이면 error 출력\n",
    "\n",
    "def __delitem__(self,key):\n",
    "    self.delete(key)"
   ]
  },
  {
   "cell_type": "markdown",
   "metadata": {},
   "source": [
    "<br>삭제하려는 키가 포함 된 노드를 찾았을 때, 세 가지 경우 존재<br>\n",
    ">- 삭제할 노드에 자식 노드가 없는 경우<br>\n",
    ">- 삭제할 노드에 자식이 하나만 있는 경우<br>\n",
    ">- 삭제할 노드에 두 개의 하위 노드가 있는 경우<br>"
   ]
  },
  {
   "cell_type": "markdown",
   "metadata": {},
   "source": [
    "<br>Listing8) 삭제할 노드에 자식 노드가 없는 경우 <br>\n",
    ": 노드 찾으면 삭제<br>\n",
    "![image](http://interactivepython.org/runestone/static/pythonds/_images/bstdel1.png)<br><br>"
   ]
  },
  {
   "cell_type": "code",
   "execution_count": null,
   "metadata": {
    "collapsed": true
   },
   "outputs": [],
   "source": [
    "if currentNode.isLeaf(): #자식 노드 없으면 삭제\n",
    "    if currentNode == currentNode.parent.leftChild:\n",
    "        currentNode.parent.leftChild = None\n",
    "    else:\n",
    "        currentNode.parent.rightChild = None"
   ]
  },
  {
   "cell_type": "markdown",
   "metadata": {},
   "source": [
    "<br>Listing9) 삭제할 노드에 자식이 하나만 있는 경우 <br>\n",
    ": 노드 삭제하고 자식노드를 승격<br>\n",
    "![image](http://interactivepython.org/runestone/static/pythonds/_images/bstdel2.png)<br><br>"
   ]
  },
  {
   "cell_type": "code",
   "execution_count": null,
   "metadata": {
    "collapsed": true
   },
   "outputs": [],
   "source": [
    "else: # this node has one child\n",
    "    if currentNode.hasLeftChild(): #왼쪽 자식 노드 가지면\n",
    "        if currentNode.isLeftChild():\n",
    "            currentNode.leftChild.parent = currentNode.parent\n",
    "            currentNode.parent.leftChild = currentNode.leftChild #자식 승격\n",
    "        elif currentNode.isRightChild():\n",
    "            currentNode.leftChild.parent = currentNode.parent\n",
    "            currentNode.parent.rightChild = currentNode.leftChild\n",
    "        else: #현재 노드가 루트이면 \n",
    "            currentNode.replaceNodeData(currentNode.leftChild.key,currentNode.leftChild.payload,\n",
    "                                        currentNode.leftChild.leftChild,currentNode.leftChild.rightChild)\n",
    "    else:\n",
    "        if currentNode.isLeftChild():\n",
    "            currentNode.rightChild.parent = currentNode.parent\n",
    "            currentNode.parent.leftChild = currentNode.rightChild\n",
    "        elif currentNode.isRightChild():\n",
    "            currentNode.rightChild.parent = currentNode.parent\n",
    "            currentNode.parent.rightChild = currentNode.rightChild\n",
    "        else:\n",
    "            currentNode.replaceNodeData(currentNode.rightChild.key,currentNode.rightChild.payload,\n",
    "                                        currentNode.rightChild.leftChild,currentNode.rightChild.rightChild)"
   ]
  },
  {
   "cell_type": "markdown",
   "metadata": {},
   "source": [
    "<br>Listing10) 삭제할 노드에 두개의 하위 노드가 있는 경우 <br>\n",
    ": 노드 삭제하고 기존의 왼쪽 및 오른쪽 하위 트리 모두를 보존 할 노드인 successor 노드를 찾아서 승격<br>\n",
    "-> 후계 노드는 두번째로 큰 값을 가져야하며 트리 보존을 위해 둘 이상의 자식을 가질 수 없음<br>\n",
    "![image](http://interactivepython.org/runestone/static/pythonds/_images/bstdel3.png)<br><br>"
   ]
  },
  {
   "cell_type": "code",
   "execution_count": null,
   "metadata": {
    "collapsed": true
   },
   "outputs": [],
   "source": [
    "elif currentNode.hasBothChildren(): #interior\n",
    "    succ = currentNode.findSuccessor() #successor 노드 탐색\n",
    "    succ.spliceOut() #successor 노드 삭제\n",
    "    currentNode.key = succ.key #successor 노드 승격\n",
    "    currentNode.payload = succ.payload"
   ]
  },
  {
   "cell_type": "code",
   "execution_count": 10,
   "metadata": {
    "collapsed": true
   },
   "outputs": [],
   "source": [
    "def remove(self, currentNode):\n",
    "    if currentNode.isLeaf(): #자식 노드 없으면 삭제\n",
    "        if currentNode == currentNode.parent.leftChild:\n",
    "            currentNode.parent.leftChild = None\n",
    "        else:\n",
    "            currentNode.parent.rightChild = None\n",
    "    elif currentNode.hasBothChildren(): #interior\n",
    "        succ = currentNode.findSuccessor()\n",
    "        succ.spliceOut()\n",
    "        currentNode.key = succ.key\n",
    "        currentNode.payload = succ.payload\n",
    "    \n",
    "    else: # this node has one child\n",
    "        if currentNode.hasLeftChild(): #왼쪽 자식 노드 가지면\n",
    "            if currentNode.isLeftChild():\n",
    "                currentNode.leftChild.parent = currentNode.parent\n",
    "                currentNode.parent.leftChild = currentNode.leftChild #자식 승격\n",
    "            elif currentNode.isRightChild():\n",
    "                currentNode.leftChild.parent = currentNode.parent\n",
    "                currentNode.parent.rightChild = currentNode.leftChild\n",
    "            else: #현재 노드가 루트이면 \n",
    "                currentNode.replaceNodeData(currentNode.leftChild.key,currentNode.leftChild.payload,\n",
    "                                            currentNode.leftChild.leftChild,currentNode.leftChild.rightChild)\n",
    "        else:\n",
    "            if currentNode.isLeftChild():\n",
    "                currentNode.rightChild.parent = currentNode.parent\n",
    "                currentNode.parent.leftChild = currentNode.rightChild\n",
    "            elif currentNode.isRightChild():\n",
    "                currentNode.rightChild.parent = currentNode.parent\n",
    "                currentNode.parent.rightChild = currentNode.rightChild\n",
    "            else:\n",
    "                currentNode.replaceNodeData(currentNode.rightChild.key,currentNode.rightChild.payload,\n",
    "                                            currentNode.rightChild.leftChild,currentNode.rightChild.rightChild)"
   ]
  },
  {
   "cell_type": "markdown",
   "metadata": {},
   "source": [
    "<br>Listing11) findSuccessor & findMin method 생성 <br>\n",
    ": successor 탐색 시 주의사항\n",
    "> 1. 노드에 오른쪽 자식이 있는 경우 successor는 오른쪽 자식의 가장 작은 키 -> findMin 이용<br>\n",
    "> 2. 노드에 오른쪽 자식이 없고 해당 노드가 부모 노드의 왼쪽 자식인 경우 부모 노드가 successor<br>\n",
    "> 3. 노드가 부모 노드의 오른쪽 자식이고 해당 노드에 오른쪽 자식이 없는 경우 successor는 이 노드를 제외한 부모 노드의 successor 노드<br>"
   ]
  },
  {
   "cell_type": "code",
   "execution_count": null,
   "metadata": {
    "collapsed": true
   },
   "outputs": [],
   "source": [
    "def findSuccessor(self):\n",
    "    succ = None\n",
    "    if self.hasRightChild(): #경우 1\n",
    "        succ = self.rightChild.findMin()\n",
    "    else:\n",
    "        if self.parent: #경우 2\n",
    "            if self.isLeftChild():\n",
    "                succ = self.parent\n",
    "            else: #경우 3\n",
    "                self.parent.rightChild = None\n",
    "                succ = self.parent.findSuccessor()\n",
    "                self.parent.rightChild = self\n",
    "    return succ\n",
    "\n",
    "def findMin(self):\n",
    "    current = self\n",
    "    while current.hasLeftChild(): #왼쪽 노드에서 가장 마지막 값 찾기\n",
    "        current = current.leftChild\n",
    "    return current\n",
    "\n",
    "def spliceOut(self):\n",
    "    if self.isLeaf():\n",
    "        if self.isLeftChild():\n",
    "            self.parent.leftChild = None\n",
    "        else:\n",
    "            self.parent.rightChild = None\n",
    "    elif self.hasAnyChildren():\n",
    "        if self.hasLeftChild():\n",
    "            if self.isLeftChild():\n",
    "                self.parent.leftChild = self.leftChild\n",
    "            else:\n",
    "                self.parent.rightChild = self.leftChild\n",
    "            self.leftChild.parent = self.parent\n",
    "        else:\n",
    "            if self.isLeftChild():\n",
    "                self.parent.leftChild = self.rightChild\n",
    "            else:\n",
    "                self.parent.rightChild = self.rightChild\n",
    "            self.rightChild.parent = self.parent"
   ]
  },
  {
   "cell_type": "markdown",
   "metadata": {},
   "source": [
    "<br> whole code <br><br>"
   ]
  },
  {
   "cell_type": "code",
   "execution_count": 11,
   "metadata": {
    "collapsed": true
   },
   "outputs": [],
   "source": [
    "class TreeNode:\n",
    "    def __init__(self,key,val,left=None,right=None,parent=None):\n",
    "        self.key = key\n",
    "        self.payload = val\n",
    "        self.leftChild = left\n",
    "        self.rightChild = right\n",
    "        self.parent = parent\n",
    "\n",
    "    def hasLeftChild(self):\n",
    "        return self.leftChild\n",
    "\n",
    "    def hasRightChild(self):\n",
    "        return self.rightChild\n",
    "\n",
    "    def isLeftChild(self):\n",
    "        return self.parent and self.parent.leftChild == self\n",
    "\n",
    "    def isRightChild(self):\n",
    "        return self.parent and self.parent.rightChild == self\n",
    "\n",
    "    def isRoot(self):\n",
    "        return not self.parent\n",
    "\n",
    "    def isLeaf(self):\n",
    "        return not (self.rightChild or self.leftChild)\n",
    "\n",
    "    def hasAnyChildren(self):\n",
    "        return self.rightChild or self.leftChild\n",
    "\n",
    "    def hasBothChildren(self):\n",
    "        return self.rightChild and self.leftChild\n",
    "\n",
    "    def replaceNodeData(self,key,value,lc,rc):\n",
    "        self.key = key\n",
    "        self.payload = value\n",
    "        self.leftChild = lc\n",
    "        self.rightChild = rc\n",
    "        if self.hasLeftChild(): #왼쪽 자식 존재하면 parent를 self로 변경\n",
    "            self.leftChild.parent = self\n",
    "        if self.hasRightChild():\n",
    "            self.rightChild.parent = self\n",
    "\n",
    "            \n",
    "class BinarySearchTree:\n",
    "\n",
    "    def __init__(self):\n",
    "        self.root = None\n",
    "        self.size = 0\n",
    "\n",
    "    def length(self):\n",
    "        return self.size\n",
    "\n",
    "    def __len__(self):\n",
    "        return self.size\n",
    "\n",
    "    def put(self,key,val):\n",
    "        if self.root: #루트 있으면 _put 이용\n",
    "            self._put(key,val,self.root)\n",
    "        else: #루트 없으면 TreeNode 생성하고 루트로 설정\n",
    "            self.root = TreeNode(key,val)\n",
    "        self.size = self.size + 1 #size 1증가\n",
    "\n",
    "    def _put(self,key,val,currentNode):\n",
    "        if key < currentNode.key: #currentNode보다 작으면 왼쪽 자식 탐색 \n",
    "            if currentNode.hasLeftChild(): #왼쪽 자식 있으면 재귀적 탐색\n",
    "                self._put(key,val,currentNode.leftChild)\n",
    "            else: #왼쪽 자식 없으면 TreeNode 생성후 왼쪽 자식으로 설정\n",
    "                currentNode.leftChild = TreeNode(key,val,parent=currentNode)\n",
    "        else: #currentNode보다 크면 오른쪽 자식 탐색 \n",
    "            if currentNode.hasRightChild():\n",
    "                self._put(key,val,currentNode.rightChild)\n",
    "            else:\n",
    "                currentNode.rightChild = TreeNode(key,val,parent=currentNode)\n",
    "                \n",
    "    def __setitem__(self,k,v):\n",
    "        self.put(k,v)\n",
    "        \n",
    "    def get(self,key):\n",
    "        if self.root: #루트있으면 _get 이용\n",
    "            res = self._get(key,self.root)\n",
    "            if res: #res 있으면 res의 value 반환\n",
    "                return res.payload\n",
    "            else: #없으면 None 반환\n",
    "                return None\n",
    "        else: #루트없으면 None 반환\n",
    "            return None\n",
    "\n",
    "    def _get(self,key,currentNode):\n",
    "        if not currentNode: #currentNode 없으면 None 반환\n",
    "            return None\n",
    "        elif currentNode.key == key: #currentNode가 key와 동일하면 currentNode 반환\n",
    "            return currentNode\n",
    "        elif key < currentNode.key: #currentNode보다 작으면 왼쪽자식 탐색\n",
    "            return self._get(key,currentNode.leftChild)\n",
    "        else:\n",
    "            return self._get(key,currentNode.rightChild)\n",
    "\n",
    "    def __getitem__(self,key):\n",
    "        return self.get(key)\n",
    "    \n",
    "    def __contains__(self,key):\n",
    "        if self._get(key,self.root): #key 존재하면 True 아니면 False 반환\n",
    "            return True\n",
    "        else:\n",
    "            return False\n",
    "        \n",
    "    def delete(self,key):\n",
    "        if self.size > 1:\n",
    "            nodeToRemove = self._get(key,self.root)\n",
    "            if nodeToRemove: #key값의 value 존재시 제거하고 size 1 줄임\n",
    "                self.remove(nodeToRemove)\n",
    "                self.size = self.size-1\n",
    "            else:\n",
    "                raise KeyError('Error, key not in tree') #key값의 value 존재 안하면 error 출력\n",
    "        elif self.size == 1 and self.root.key == key: #size가 1이거나 key가 루트이면 루트 None으로 대체 \n",
    "            self.root = None\n",
    "            self.size = self.size - 1\n",
    "        else:\n",
    "            raise KeyError('Error, key not in tree') #tree size가 0이면 error 출력\n",
    "\n",
    "    def __delitem__(self,key):\n",
    "        self.delete(key)\n",
    "        \n",
    "    def spliceOut(self):\n",
    "        if self.isLeaf():\n",
    "            if self.isLeftChild():\n",
    "                self.parent.leftChild = None\n",
    "            else:\n",
    "                self.parent.rightChild = None\n",
    "        elif self.hasAnyChildren():\n",
    "            if self.hasLeftChild():\n",
    "                if self.isLeftChild():\n",
    "                    self.parent.leftChild = self.leftChild\n",
    "                else:\n",
    "                    self.parent.rightChild = self.leftChild\n",
    "                self.leftChild.parent = self.parent\n",
    "            else:\n",
    "                if self.isLeftChild():\n",
    "                    self.parent.leftChild = self.rightChild\n",
    "                else:\n",
    "                    self.parent.rightChild = self.rightChild\n",
    "                self.rightChild.parent = self.parent\n",
    "                \n",
    "    def findSuccessor(self):\n",
    "        succ = None\n",
    "        if self.hasRightChild(): #경우 1\n",
    "            succ = self.rightChild.findMin()\n",
    "        else:\n",
    "            if self.parent: #경우 2\n",
    "                if self.isLeftChild():\n",
    "                    succ = self.parent\n",
    "                else: #경우 3\n",
    "                    self.parent.rightChild = None\n",
    "                    succ = self.parent.findSuccessor()\n",
    "                    self.parent.rightChild = self\n",
    "        return succ\n",
    "\n",
    "    def findMin(self):\n",
    "        current = self\n",
    "        while current.hasLeftChild(): #왼쪽 노드에서 가장 마지막 값 찾기\n",
    "            current = current.leftChild\n",
    "        return current\n",
    "    \n",
    "    def remove(self, currentNode):\n",
    "        if currentNode.isLeaf(): #자식 노드 없으면 삭제\n",
    "            if currentNode == currentNode.parent.leftChild:\n",
    "                currentNode.parent.leftChild = None\n",
    "            else:\n",
    "                currentNode.parent.rightChild = None\n",
    "        elif currentNode.hasBothChildren(): #interior\n",
    "            succ = currentNode.findSuccessor()\n",
    "            succ.spliceOut()\n",
    "            currentNode.key = succ.key\n",
    "            currentNode.payload = succ.payload\n",
    "\n",
    "        else: # this node has one child\n",
    "            if currentNode.hasLeftChild(): #왼쪽 자식 노드 가지면\n",
    "                if currentNode.isLeftChild():\n",
    "                    currentNode.leftChild.parent = currentNode.parent\n",
    "                    currentNode.parent.leftChild = currentNode.leftChild #자식 승격\n",
    "                elif currentNode.isRightChild():\n",
    "                    currentNode.leftChild.parent = currentNode.parent\n",
    "                    currentNode.parent.rightChild = currentNode.leftChild\n",
    "                else: #현재 노드가 루트이면 \n",
    "                    currentNode.replaceNodeData(currentNode.leftChild.key,currentNode.leftChild.payload,\n",
    "                                                currentNode.leftChild.leftChild,currentNode.leftChild.rightChild)\n",
    "            else:\n",
    "                if currentNode.isLeftChild():\n",
    "                    currentNode.rightChild.parent = currentNode.parent\n",
    "                    currentNode.parent.leftChild = currentNode.rightChild\n",
    "                elif currentNode.isRightChild():\n",
    "                    currentNode.rightChild.parent = currentNode.parent\n",
    "                    currentNode.parent.rightChild = currentNode.rightChild\n",
    "                else:\n",
    "                    currentNode.replaceNodeData(currentNode.rightChild.key,currentNode.rightChild.payload,\n",
    "                                                currentNode.rightChild.leftChild,currentNode.rightChild.rightChild)"
   ]
  },
  {
   "cell_type": "code",
   "execution_count": 12,
   "metadata": {
    "collapsed": true
   },
   "outputs": [],
   "source": [
    "mytree = BinarySearchTree()\n",
    "mytree[3]=\"red\"\n",
    "mytree[4]=\"blue\"\n",
    "mytree[6]=\"yellow\"\n",
    "mytree[2]=\"at\""
   ]
  },
  {
   "cell_type": "code",
   "execution_count": 13,
   "metadata": {
    "collapsed": false
   },
   "outputs": [
    {
     "name": "stdout",
     "output_type": "stream",
     "text": [
      "yellow\n",
      "at\n"
     ]
    }
   ],
   "source": [
    "print(mytree[6])\n",
    "print(mytree[2])"
   ]
  },
  {
   "cell_type": "markdown",
   "metadata": {
    "collapsed": true
   },
   "source": [
    "<br>\n",
    "### 6.14 Search Tree Analysis <br>"
   ]
  },
  {
   "cell_type": "markdown",
   "metadata": {},
   "source": [
    "n = the number of nodes in the tree<br>\n",
    "height of the tree = log2n<br><br>\n",
    "d = the depth of the level<br>\n",
    "the number of nodes = 2^d <br><br>\n",
    "h= the height of the tree<br>\n",
    "the total number of nodes in a perfectly balanced binary tree = 2^(h+1) −1 <br>\n",
    "<br>\n",
    "-> the maximum number of comparisons to insert a new node = h = log2n<br> \n",
    "-> put method is limited by the height of the tree"
   ]
  },
  {
   "cell_type": "code",
   "execution_count": null,
   "metadata": {
    "collapsed": true
   },
   "outputs": [],
   "source": []
  }
 ],
 "metadata": {
  "anaconda-cloud": {},
  "kernelspec": {
   "display_name": "Python [default]",
   "language": "python",
   "name": "python3"
  },
  "language_info": {
   "codemirror_mode": {
    "name": "ipython",
    "version": 3
   },
   "file_extension": ".py",
   "mimetype": "text/x-python",
   "name": "python",
   "nbconvert_exporter": "python",
   "pygments_lexer": "ipython3",
   "version": "3.5.2"
  }
 },
 "nbformat": 4,
 "nbformat_minor": 1
}
