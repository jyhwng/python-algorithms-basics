{
 "cells": [
  {
   "cell_type": "markdown",
   "metadata": {},
   "source": [
    "## 6.15. Balanced Binary Search Trees\n",
    "\n",
    "__AVL Tree__는 Node가 계속 변경되어도 Tree가 계속 Balanced한 상태로 유지되도록 한다. AVL Tree는 __Balance Factor__를 Node에 저장해 Tree가 균형잡혀 있는지를 계속 추적한다.\n",
    "\n",
    "> balanceFactor = height(leftSubTree) − height(rightSubTree)\n",
    "\n",
    "![](http://interactivepython.org/runestone/static/pythonds/_images/unbalanced.png)\n",
    "\n",
    "AVL Tree가 Balanced한 상태로 유지되기 위해서는 Balance Factor가 -1, 0, 1 중 하나의 값을 가져야 한다. 위의 그림은 오른쪽으로 더 무거운 Tree의 예이다."
   ]
  },
  {
   "cell_type": "markdown",
   "metadata": {},
   "source": [
    "## 6.16. AVL Tree Performance\n",
    "\n",
    "Big-O performance에 대해 생각해 보기 위해 AVL Tree가 최악으로 한 쪽으로 치우친 경우를 살펴보면 다음과 같다.\n",
    "![](http://interactivepython.org/runestone/static/pythonds/_images/worstAVL.png)"
   ]
  },
  {
   "cell_type": "markdown",
   "metadata": {},
   "source": [
    "N<sub>k</sub>를 (위 그림처럼 최악의 상황에서) 깊이가 k일 때 Node의 갯수라 할 때,  \n",
    "N<sub>0</sub> = 1,  \n",
    "N<sub>1</sub> = 2,  \n",
    "N<sub>2</sub> = 4,  \n",
    "N<sub>3</sub> = 7이며 N<sub>h</sub> = 1 + N<sub>h−1</sub> + N<sub>h−2</sub> 의 관계가 성립한다.\n",
    "\n",
    "F가 피보나치 수열일 때,  \n",
    "N<sub>h</sub> = F<sub>h+2</sub> − 1, h≥1\n",
    "\n",
    "F<sub>i</sub> / F<sub>i−1</sub>가 (1+sqrt(5)) / 2에 수렴하므로,   \n",
    "h = 1.44logN<sub>h</sub>\n",
    "\n",
    "깊이가 깊어져도 노드 수가 log하게 증가하므로, 탐색시간이 O(logN)임을 보장할 수 있다"
   ]
  },
  {
   "cell_type": "markdown",
   "metadata": {},
   "source": [
    "## 6.17. AVL Tree Implementation\n",
    "\n",
    "Balanced 한 상태를 유지하기 위해, AVL Tree에 Node를 추가할 때에는 생각할 것이 많다.\n",
    "- Update 시에 Parent의 Balance Factor를 바꾸어야 한다\n",
    "- Recursive하게 변경사항을 Parent에 반영해야 한다\n",
    "- Parent Node의 Balance Factor가 0이 되었을 때엔, 그 위의 Ancestor들에는 영향이 없다\n"
   ]
  },
  {
   "cell_type": "code",
   "execution_count": 1,
   "metadata": {},
   "outputs": [],
   "source": [
    "def _put(self,key,val,currentNode):\n",
    "    if key < currentNode.key:\n",
    "        if currentNode.hasLeftChild():\n",
    "                self._put(key,val,currentNode.leftChild)\n",
    "        else:\n",
    "                currentNode.leftChild = TreeNode(key,val,parent=currentNode)\n",
    "                self.updateBalance(currentNode.leftChild) # 변경된 부분\n",
    "    else:\n",
    "        if currentNode.hasRightChild():\n",
    "                self._put(key,val,currentNode.rightChild)\n",
    "        else:\n",
    "                currentNode.rightChild = TreeNode(key,val,parent=currentNode)\n",
    "                self.updateBalance(currentNode.rightChild) # 변경된 부분\n",
    "\n",
    "def updateBalance(self,node):\n",
    "    if node.balanceFactor > 1 or node.balanceFactor < -1:\n",
    "        self.rebalance(node) # Tree를 재구성하여 좌우균형을 맞춤\n",
    "        return\n",
    "    \n",
    "    if node.parent != None:\n",
    "        if node.isLeftChild():\n",
    "                node.parent.balanceFactor += 1\n",
    "        elif node.isRightChild():\n",
    "                node.parent.balanceFactor -= 1\n",
    "\n",
    "        if node.parent.balanceFactor != 0: # 위의 Ancestor들에게 depth 변경을 전파할 필요가 없다\n",
    "                self.updateBalance(node.parent)"
   ]
  },
  {
   "cell_type": "markdown",
   "metadata": {},
   "source": [
    "Tree를 Rebalance하는 방법은 더 치우치지 않은 방향으로 Tree를 회전하는 것이다.\n",
    "\n",
    "#### Left Rotation\n",
    "![](http://interactivepython.org/runestone/static/pythonds/_images/simpleunbalanced.png)\n",
    "\n",
    "- Root의 오른쪽 Child를 Root로 만든다\n",
    "- 원래 Root를 새로운 Root의 Left Child로 만든다\n",
    "- 새로운 Root에 이미 Left Child가 있다면, 새로운 Left Child의 Right Child로 만든다(새로운 Left Child는 Right Child가 없음이 보장됨)\n",
    "\n",
    "#### Right Rotation\n",
    "![](http://interactivepython.org/runestone/static/pythonds/_images/rightrotate1.png)\n",
    "\n",
    "- Left Rotation의 거울반전\n",
    "\n"
   ]
  },
  {
   "cell_type": "code",
   "execution_count": 2,
   "metadata": {},
   "outputs": [],
   "source": [
    "def rotateLeft(self,rotRoot):\n",
    "    newRoot = rotRoot.rightChild\n",
    "    rotRoot.rightChild = newRoot.leftChild\n",
    "    \n",
    "    if newRoot.leftChild != None:\n",
    "        newRoot.leftChild.parent = rotRoot\n",
    "        \n",
    "    newRoot.parent = rotRoot.parent\n",
    "    \n",
    "    if rotRoot.isRoot():\n",
    "        self.root = newRoot\n",
    "    else:\n",
    "        if rotRoot.isLeftChild():\n",
    "                rotRoot.parent.leftChild = newRoot\n",
    "        else:\n",
    "            rotRoot.parent.rightChild = newRoot\n",
    "            \n",
    "    newRoot.leftChild = rotRoot\n",
    "    rotRoot.parent = newRoot\n",
    "    \n",
    "    # 이 부분은 아래 Cell에서 설명\n",
    "    rotRoot.balanceFactor = rotRoot.balanceFactor + 1 - min(newRoot.balanceFactor, 0) \n",
    "    newRoot.balanceFactor = newRoot.balanceFactor + 1 + max(rotRoot.balanceFactor, 0)"
   ]
  },
  {
   "cell_type": "markdown",
   "metadata": {},
   "source": [
    "![](http://interactivepython.org/runestone/static/pythonds/_images/bfderive.png)\n",
    "newBal(B) = h<sub>A</sub> − h<sub>C</sub>  \n",
    "oldBal(B) = h<sub>A</sub> − h<sub>D</sub>\n",
    "\n",
    "h<sub>D</sub>는 1 + max(h<sub>C</sub>, h<sub>E</sub>)이기 때문에 (아직 바뀌기 전이니 왼쪽 그림 참고),  \n",
    "oldBal(B) = h<sub>A</sub> − (1 + max(h<sub>C</sub>, h<sub>E</sub>))  \n",
    "newBal(B) − oldBal(B) = h<sub>A</sub> − h<sub>A</sub> + 1 + max(h<sub>C</sub>, h<sub>E</sub>) − h<sub>C</sub>  \n",
    "newBal(B) = oldBal(B) + 1 + max(h<sub>C</sub> - h<sub>C</sub>, h<sub>E</sub> - h<sub>C</sub>)\n",
    "\n",
    "h<sub>E</sub> - h<sub>C</sub>는 −oldBal(D)이므로,  \n",
    "newBal(B) = oldBal(B) + 1 + max(0,−oldBal(D))  \n",
    "newBal(B) = oldBal(B) + 1 − min(0, oldBal(D))\n"
   ]
  },
  {
   "cell_type": "markdown",
   "metadata": {},
   "source": [
    "왼쪽으로 치우쳐졌다고 반드시 Right Rotation을 하고, 오른쪽으로 치우쳐 졌다고 바로 Left Rotation을 하면 안 된다.\n",
    "\n",
    "![](http://interactivepython.org/runestone/static/pythonds/_images/hardunbalanced.png)\n",
    "위와 같은 그림이 오른쪽으로 치우쳐 졌다고 Left Rotation을 해버리면\n",
    "\n",
    "![](http://interactivepython.org/runestone/static/pythonds/_images/badrotate.png)\n",
    "이렇게 되어버린다\n",
    "\n",
    "이러한 상황을 방지하기 위해서는\n",
    "- Left Rotation이 필요한 상황이라면, Right Child의 Balace Factor를 확인한다. BF가 양수면 Right Child를 기준으로 Right Rotation을 하고, 음수라면 Left Rotation을 한다\n",
    "- Right Rotation이 필요한 상황이라면, Left Child의 Balace Factor를 확인한다. BF가 양수면 Left Child를 기준으로 Right Rotation을 하고, 음수라면 Left Rotation을 한다\n",
    "\n",
    "위를 그림으로 나타내면 다음과 같다\n",
    "![](http://interactivepython.org/runestone/static/pythonds/_images/rotatelr.png)"
   ]
  },
  {
   "cell_type": "markdown",
   "metadata": {},
   "source": [
    "Tree가 항상 Balanced인 상태 이므로, 이제 get은 O(log<sub>2</sub>n)이며, put의 경우에도 Ancestor들의 balance factor들을 변경하는 것이 최대 log<sub>2</sub>n번 일어나며, rebalancing은 O(1)이므로 결국 O(log<sub>2</sub>n)이다."
   ]
  },
  {
   "cell_type": "markdown",
   "metadata": {},
   "source": [
    "## 6.18. Summary of Map ADT Implementations\n",
    "\n",
    "| operation | Sorted List        | Hash Table | Binary Search Tree | AVL Tree           |\n",
    "| --------- | ------------------ | ---------- | ------------------ | ------------------ |\n",
    "| put       | O(n)               | O(1)       | O(n)               | O(log<sub2</sub>n) |\n",
    "| get       | O(log<sub>2</sub>n) | O(1)       | O(n)               | O(log<sub>2</sub>n) |\n",
    "| in        | O(log<sub>2</sub>n) | O(1)       | O(n)               | O(log<sub>2</sub>n) |\n",
    "| del       | O(n)               | O(1)       | O(n)               | O(log<sub2</sub>n) |"
   ]
  }
 ],
 "metadata": {
  "kernelspec": {
   "display_name": "Python 3",
   "language": "python",
   "name": "python3"
  },
  "language_info": {
   "codemirror_mode": {
    "name": "ipython",
    "version": 3
   },
   "file_extension": ".py",
   "mimetype": "text/x-python",
   "name": "python",
   "nbconvert_exporter": "python",
   "pygments_lexer": "ipython3",
   "version": "3.6.2"
  }
 },
 "nbformat": 4,
 "nbformat_minor": 2
}
