{
 "cells": [
  {
   "cell_type": "markdown",
   "metadata": {},
   "source": [
    "# 7.15. General Depth First Search\n",
    "The knight’s tour is a special case of a depth first search where the goal is to create the deepest depth first tree, without any branches. The more general depth first search is actually easier. Its goal is to search as deeply as possible, connecting as many nodes in the graph as possible and branching where necessary.\n",
    "\n",
    "\n",
    "It is even possible that a depth first search will create more than one tree. When the depth first search algorithm creates a group of trees we call this a depth first forest. As with the breadth first search our depth first search makes use of predecessor links to construct the tree. In addition, the depth first search will make use of two additional instance variables in the Vertex class. The new instance variables are the discovery and finish times. The discovery time tracks the number of steps in the algorithm before a vertex is first encountered. The finish time is the number of steps in the algorithm before a vertex is colored black. As we will see after looking at the algorithm, the discovery and finish times of the nodes provide some interesting properties we can use in later algorithms."
   ]
  },
  {
   "cell_type": "markdown",
   "metadata": {},
   "source": [
    "## DFS 주요 특징\n",
    "\n",
    "- 자유롭게 node 간 연결 가능. 복수의 tree 가능 (\"depth first forest\")\n",
    "\n",
    "\n",
    "- 갈림길이 나타날 때마다 '다른 길이 있다'는 정보만 기록하면서**(\"grey\")** 자신이 지나간 길을 지워나간다. 그러다 막다른 곳에 도달하면 직전 갈림길까지 돌아가면서 '이 길은 아님'이라는 표식**(\"black\")**을 남긴다. 그렇게 갈림길을 순차적으로 탐색해 나가다 목적지를 발견하면 그대로 해답을 내고 종료.\n",
    "\n",
    "\n",
    "- 자동 미로 생성에 많이 사용되는 알고리즘이기도 하다. \n",
    " 방향은 무작위로 해서 계속 뚫다가 막혀서 못 뚫으면 뚫을 수 있는 곳이 발견될 때까지 되돌아가서 다시 뚫고, \n",
    "  또 막히면 되돌아가고 이런 식으로 무한히 반복하다 보면 생긴다. \n",
    "  게다가 이 방식으로 미로를 만들면 빠져나가는 경로 또한 단 하나만 생긴다. 직접 보고 싶다면 이 동영상을 보자.\n",
    " https://youtu.be/0kaHIfrB3T4\n",
    " "
   ]
  },
  {
   "cell_type": "code",
   "execution_count": 9,
   "metadata": {
    "collapsed": true
   },
   "outputs": [],
   "source": [
    "# Vertex Class\n",
    "\n",
    "class Vertex:\n",
    "    def __init__(self,key):\n",
    "        self.id = key\n",
    "        self.connectedTo = {}\n",
    "\n",
    "    def addNeighbor(self,nbr,weight=0):\n",
    "        self.connectedTo[nbr] = weight\n",
    "\n",
    "    def __str__(self):\n",
    "        return str(self.id) + ' connectedTo: ' + str([x.id for x in self.connectedTo])\n",
    "\n",
    "    def getConnections(self):\n",
    "        return self.connectedTo.keys()\n",
    "\n",
    "    def getId(self):\n",
    "        return self.id\n",
    "\n",
    "    def getWeight(self,nbr):\n",
    "        return self.connectedTo[nbr]\n",
    "    \n",
    "# Graph Class\n",
    "\n",
    "class Graph:\n",
    "    def __init__(self):\n",
    "        self.vertList = {}\n",
    "        self.numVertices = 0\n",
    "\n",
    "    def addVertex(self,key):\n",
    "        self.numVertices = self.numVertices + 1\n",
    "        newVertex = Vertex(key)\n",
    "        self.vertList[key] = newVertex\n",
    "        return newVertex\n",
    "\n",
    "    def getVertex(self,n):\n",
    "        if n in self.vertList:\n",
    "            return self.vertList[n]\n",
    "        else:\n",
    "            return None\n",
    "\n",
    "    def __contains__(self,n):\n",
    "        return n in self.vertList\n",
    "\n",
    "    def addEdge(self,f,t,cost=0):\n",
    "        if f not in self.vertList:\n",
    "            nv = self.addVertex(f)\n",
    "        if t not in self.vertList:\n",
    "            nv = self.addVertex(t)\n",
    "        self.vertList[f].addNeighbor(self.vertList[t], cost)\n",
    "\n",
    "    def getVertices(self):\n",
    "        return self.vertList.keys()\n",
    "\n",
    "    def __iter__(self):\n",
    "        return iter(self.vertList.values())"
   ]
  },
  {
   "cell_type": "markdown",
   "metadata": {},
   "source": [
    "The code for our depth first search is shown in Listing 5. Since the two functions dfs and its helper dfsvisit use a variable to keep track of the time across calls to dfsvisit we chose to implement the code as methods of a class that inherits from the Graph class. This implementation extends the graph class by adding a time instance variable and the two methods dfs and dfsvisit. Looking at line 11 you will notice that the dfs method iterates over all of the vertices in the graph calling dfsvisit on the nodes that are white. The reason we iterate over all the nodes, rather than simply searching from a chosen starting node, is to make sure that all nodes in the graph are considered and that no vertices are left out of the depth first forest. It may look unusual to see the statement for aVertex in self, but remember that in this case self is an instance of the DFSGraph class, and iterating over all the vertices in an instance of a graph is a natural thing to do."
   ]
  },
  {
   "cell_type": "code",
   "execution_count": null,
   "metadata": {
    "collapsed": true
   },
   "outputs": [],
   "source": [
    "from pythonds.graphs import Graph\n",
    "\n",
    "class DFSGraph(Graph):\n",
    "    def __init__(self):\n",
    "        super().__init__()    #super()???\n",
    "        self.time = 0\n",
    "\n",
    "    def dfs(self):\n",
    "        for aVertex in self:\n",
    "            aVertex.setColor('white')       #모든 vertex에 대해서 초기화 \n",
    "            aVertex.setPred(-1)             # 색상: white, 이전연결: -1\n",
    "            \n",
    "            \n",
    "        for aVertex in self:                # white인 모든 vertex 에 대해서  dfsvisit ==> vertex에 대해서 시작점으로 점검함\n",
    "            if aVertex.getColor() == 'white':\n",
    "                self.dfsvisit(aVertex)\n",
    "\n",
    "    def dfsvisit(self,startVertex):\n",
    "        startVertex.setColor('gray')        # 시작vertex 색상 white\n",
    "        self.time += 1                      # 탐색 횟수 +1\n",
    "        startVertex.setDiscovery(self.time) # 시작 vertex의 Discoverytime(첫 탐색시까지의 소요 step)\n",
    "        \n",
    "        for nextVertex in startVertex.getConnections():    #시작 vertex에서 연결 가능한 next vertex에 대해\n",
    "            if nextVertex.getColor() == 'white':           # 미 탐색 vertex의  setPred로 연결함\n",
    "                nextVertex.setPred(startVertex)\n",
    "                self.dfsvisit(nextVertex)                  # next vertex 기준. 재귀  ==> 깊이 있게 끝까지 가봄(Depth First Search)\n",
    "                \n",
    "        startVertex.setColor('black')                       # 더이상 연결할 vertex가 없다면 black으로, 탐색횟수 +1\n",
    "        self.time += 1\n",
    "        startVertex.setFinish(self.time)"
   ]
  },
  {
   "cell_type": "markdown",
   "metadata": {},
   "source": [
    "<img src='https://upload.wikimedia.org/wikipedia/commons/2/2c/Depthfirst.png', width=200, height=300>"
   ]
  },
  {
   "attachments": {},
   "cell_type": "markdown",
   "metadata": {},
   "source": [
    "### Color\n",
    " - grey : 탐색중 \n",
    " - white: 미탐색  \n",
    " - black: 탐색완료(연결가능한 vertex가 남아있지 않음)\n",
    "\n",
    "### step\n",
    " - starting time: vertex에 처음으로 도달하기 전 필요한 step 수\n",
    " - finishing time : vertex가 black으로 칠해지기전 필요한 step 수\n"
   ]
  },
  {
   "cell_type": "markdown",
   "metadata": {},
   "source": [
    "<img src='http://interactivepython.org/runestone/static/pythonds/_images/gendfsa.png'>"
   ]
  },
  {
   "cell_type": "markdown",
   "metadata": {},
   "source": [
    "<img src='http://interactivepython.org/runestone/static/pythonds/_images/gendfsb.png'>\n",
    "<img src='http://interactivepython.org/runestone/static/pythonds/_images/gendfsc.png'>\n",
    "<img src='http://interactivepython.org/runestone/static/pythonds/_images/gendfsd.png'>\n",
    "<img src='http://interactivepython.org/runestone/static/pythonds/_images/gendfse.png'>\n",
    "<img src='http://interactivepython.org/runestone/static/pythonds/_images/gendfsf.png'>\n",
    "<img src='http://interactivepython.org/runestone/static/pythonds/_images/gendfsg.png'>\n",
    "<img src='http://interactivepython.org/runestone/static/pythonds/_images/gendfsh.png'>\n",
    "<img src='http://interactivepython.org/runestone/static/pythonds/_images/gendfsi.png'>\n",
    "<img src='http://interactivepython.org/runestone/static/pythonds/_images/gendfsj.png'>\n",
    "<img src='http://interactivepython.org/runestone/static/pythonds/_images/gendfsk.png'>\n",
    "<img src='http://interactivepython.org/runestone/static/pythonds/_images/gendfsl.png'>"
   ]
  },
  {
   "cell_type": "markdown",
   "metadata": {},
   "source": [
    "The starting and finishing times for each node display a property called the parenthesis property. This property means that all the children of a particular node in the depth first tree have a later discovery time and an earlier finish time than their parent. Figure 26 shows the tree constructed by the depth first search algorithm."
   ]
  },
  {
   "cell_type": "markdown",
   "metadata": {},
   "source": [
    "##  DFS's Big(O) :  O(V+E)   \n",
    " * V: Vertex 개수(초기화 진행시)\n",
    " * E: Edge 개수(모든 Edge 에 대해서 탐색)"
   ]
  },
  {
   "cell_type": "markdown",
   "metadata": {},
   "source": [
    "# 7.17 Topological Sorting\n",
    "\n",
    "## Process 상에서 어떤 순서로 진행해야 하는지..  ex) 팬케잌 \n",
    "### Critical Path Point 와 유사할 듯?¶"
   ]
  },
  {
   "cell_type": "markdown",
   "metadata": {},
   "source": [
    "The topological sort is a simple but useful adaptation of a depth first search. The algorithm for the topological sort is as follows:\n",
    "\n",
    "1. 시작지점을 선택하여 dfs 그래프 그린다: vertex별 finish time 확인 필요함. \n",
    "   (시작지점 선택시 incomming edge 가 없어야 함)\n",
    "2. sorting: finish time의 역순\n",
    "3. 리스트 생성 (1차원으로 표시)\n",
    "※ directed acyclic graph에서만 가능: Cycle이 없어야만 함. / edge (v,w) : v 이후에 w 진행. v--> w"
   ]
  },
  {
   "cell_type": "code",
   "execution_count": null,
   "metadata": {
    "collapsed": true
   },
   "outputs": [],
   "source": []
  },
  {
   "cell_type": "markdown",
   "metadata": {},
   "source": [
    "<img src = 'http://interactivepython.org/runestone/static/pythonds/_images/pancakesDFS.png'>\n",
    "\n",
    "<img src = 'http://interactivepython.org/runestone/static/pythonds/_images/pancakesTS.png'>"
   ]
  },
  {
   "cell_type": "markdown",
   "metadata": {},
   "source": [
    "# 참고) DFS Vs Topological Sorting\n",
    "\n"
   ]
  },
  {
   "cell_type": "markdown",
   "metadata": {},
   "source": [
    "<img src = 'http://www.geeksforgeeks.org/wp-content/uploads/graph.png', width=300, height=400>"
   ]
  },
  {
   "cell_type": "markdown",
   "metadata": {},
   "source": [
    " - 5 - 2 - 3 - 1 - 0 - 4   : DFS (O)   Vs  Topological Sorting(X)\n",
    " \n",
    " - 5 - 4 - 2 - 3 - 1 - 0   : DFS (X)   Vs  Topological Sorting(O)\n",
    " \n",
    " - 4 - 5 - 2 - 3 - 1 - 0   : DFS (X)   Vs  Topological Sorting(O)\n",
    "\n",
    "\n",
    "*source: http://www.geeksforgeeks.org/topological-sorting/"
   ]
  },
  {
   "cell_type": "markdown",
   "metadata": {},
   "source": [
    "# 7.18. Strongly Connected Components"
   ]
  },
  {
   "cell_type": "markdown",
   "metadata": {},
   "source": [
    "<img src = ' http://interactivepython.org/runestone/static/pythonds/_images/scc1.png'>\n",
    "<img src = 'http://interactivepython.org/runestone/static/pythonds/_images/scc2.png'>"
   ]
  },
  {
   "cell_type": "markdown",
   "metadata": {},
   "source": [
    "## strongly connected components algorithm (SCC) 만드는 법\n",
    "\n",
    "\n",
    "### Kosaraju's algorithm\n",
    "\n",
    " 1. graph G의 dfs 계산 --> finish time 필요함\n",
    " \n",
    " \n",
    " 2. GT 구함 : G에서 Edge의 방향이 반대.   \n",
    "      ex)G :  1 --> 2 --> 3                 GT:   1 <-- 2 <-- 3\n",
    "      ex)             --> 4                               <-- 4\n",
    "      \n",
    "      \n",
    " 3. GT 의 dfs 계산( 1번에서 계산한 finish time 의 역순으로 진행)\n",
    " \n",
    " \n",
    " 4. 3번에서 도출된 트리는  strongly connected components 임. "
   ]
  },
  {
   "cell_type": "markdown",
   "metadata": {},
   "source": [
    "### 예제"
   ]
  },
  {
   "cell_type": "markdown",
   "metadata": {},
   "source": [
    "1. Graph G \n",
    "<img src = 'http://interactivepython.org/runestone/static/pythonds/_images/scc1a.png'>"
   ]
  },
  {
   "cell_type": "markdown",
   "metadata": {},
   "source": [
    "2-3. GT \n",
    "<img src = 'http://interactivepython.org/runestone/static/pythonds/_images/scc1b.png'>"
   ]
  },
  {
   "cell_type": "markdown",
   "metadata": {},
   "source": [
    "/4. strongly connected components\n",
    "<img src = 'http://interactivepython.org/runestone/static/pythonds/_images/sccforest.png'>"
   ]
  }
 ],
 "metadata": {
  "kernelspec": {
   "display_name": "Python 3",
   "language": "python",
   "name": "python3"
  },
  "language_info": {
   "codemirror_mode": {
    "name": "ipython",
    "version": 3
   },
   "file_extension": ".py",
   "mimetype": "text/x-python",
   "name": "python",
   "nbconvert_exporter": "python",
   "pygments_lexer": "ipython3",
   "version": "3.6.1"
  }
 },
 "nbformat": 4,
 "nbformat_minor": 2
}
