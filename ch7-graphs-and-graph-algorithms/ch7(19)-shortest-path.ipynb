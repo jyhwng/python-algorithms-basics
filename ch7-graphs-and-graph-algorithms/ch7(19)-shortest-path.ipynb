{
 "cells": [
  {
   "cell_type": "markdown",
   "metadata": {},
   "source": [
    "## 7.19. Shortest Path Problems\n",
    "\n",
    "인터넷도 weighted graph algorithm의 원리로 돌아간다. (BFS)\n",
    "\n",
    "![](http://interactivepython.org/courselib/static/pythonds/_images/Internet.png)\n",
    "\n",
    "my local area network - (request) -> router -> internet -> router -> local area - server - (response) - ... -> my local area network"
   ]
  },
  {
   "cell_type": "code",
   "execution_count": null,
   "metadata": {
    "collapsed": true
   },
   "outputs": [],
   "source": [
    "Usage: traceroute [-adDeFInrSvx] [-A as_server] [-f first_ttl] [-g gateway] [-i iface]\n",
    "\t[-M first_ttl] [-m max_ttl] [-p port] [-P proto] [-q nqueries] [-s src_addr]\n",
    "\t[-t tos] [-w waittime] [-z pausemsecs] host [packetlen]"
   ]
  },
  {
   "cell_type": "code",
   "execution_count": null,
   "metadata": {
    "collapsed": true
   },
   "outputs": [],
   "source": [
    "$ traceroute -p 80 Www.Github.Com"
   ]
  },
  {
   "cell_type": "code",
   "execution_count": null,
   "metadata": {
    "collapsed": true
   },
   "outputs": [],
   "source": [
    "traceroute: Warning: Www.Github.Com has multiple addresses; using 192.30.255.112\n",
    "traceroute to github.com (192.30.255.112), 64 hops max, 52 byte packets\n",
    "\n",
    " 1  10.130.96.1 (10.130.96.1)  1.936 ms  1.372 ms  1.077 ms\n",
    " 2  211.48.51.33 (211.48.51.33)  1.622 ms  2.104 ms  1.882 ms\n",
    " 3  * * *\n",
    " 4  112.188.1.137 (112.188.1.137)  2.682 ms  14.331 ms  2.569 ms\n",
    " 5  112.174.105.29 (112.174.105.29)  2.092 ms\n",
    "    112.174.105.89 (112.174.105.89)  2.730 ms\n",
    "    112.174.18.109 (112.174.18.109)  2.437 ms\n",
    " 6  112.174.8.234 (112.174.8.234)  4.251 ms\n",
    "    112.174.8.194 (112.174.8.194)  2.036 ms  1.935 ms\n",
    " 7  112.174.83.14 (112.174.83.14)  2.191 ms\n",
    "    112.174.83.106 (112.174.83.106)  2.721 ms\n",
    "    112.174.83.6 (112.174.83.6)  2.374 ms\n",
    " 8  112.174.87.62 (112.174.87.62)  139.995 ms\n",
    "    112.174.88.170 (112.174.88.170)  142.210 ms\n",
    "    112.174.87.70 (112.174.87.70)  224.734 ms\n",
    " 9  206.111.11.92.ptr.us.xo.net (206.111.11.92)  135.942 ms  135.660 ms  136.115 ms\n",
    "10  vb2001.rar3.nyc-ny.us.xo.net (207.88.13.10)  144.178 ms  140.232 ms  145.222 ms\n",
    "11  207.88.12.156.ptr.us.xo.net (207.88.12.156)  140.732 ms  140.899 ms  163.293 ms\n",
    "12  207.88.12.158.ptr.us.xo.net (207.88.12.158)  138.706 ms  139.263 ms  139.149 ms\n",
    "13  207.88.12.227.ptr.us.xo.net (207.88.12.227)  140.507 ms  139.704 ms  136.904 ms\n",
    "14  ae0d0.cir1.sanjose2-ca.us.xo.net (207.88.13.97)  139.193 ms  143.144 ms  138.098 ms\n",
    "15  * * *\n",
    "16  * * *\n",
    "17  * * *\n",
    "18  * * *\n",
    "19  * * *\n",
    "20  * * *\n",
    "Routers from One Host to the Next over the Internet"
   ]
  },
  {
   "cell_type": "code",
   "execution_count": null,
   "metadata": {
    "collapsed": true
   },
   "outputs": [],
   "source": []
  }
 ],
 "metadata": {
  "kernelspec": {
   "display_name": "Python 3",
   "language": "python",
   "name": "python3"
  },
  "language_info": {
   "codemirror_mode": {
    "name": "ipython",
    "version": 3
   },
   "file_extension": ".py",
   "mimetype": "text/x-python",
   "name": "python",
   "nbconvert_exporter": "python",
   "pygments_lexer": "ipython3",
   "version": "3.6.1"
  }
 },
 "nbformat": 4,
 "nbformat_minor": 2
}
