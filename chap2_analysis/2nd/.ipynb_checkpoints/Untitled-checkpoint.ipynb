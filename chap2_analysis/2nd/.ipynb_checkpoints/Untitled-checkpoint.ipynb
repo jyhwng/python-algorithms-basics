{
 "cells": [
  {
   "cell_type": "markdown",
   "metadata": {
    "slideshow": {
     "slide_type": "slide"
    }
   },
   "source": [
    "# 2.5. Performance of Python Data Structures\n",
    "- Big-O performance for the operations on Python lists and dictionaries.\n",
    "- timing experiments that illustrate the costs and benefits of using certain operations on each data structure.\n",
    "- efficiency of these Python data structures because they are the building blocks we will use as we implement other data structures in the remainder of the book."
   ]
  },
  {
   "cell_type": "markdown",
   "metadata": {
    "slideshow": {
     "slide_type": "slide"
    }
   },
   "source": [
    "# 2.6. Lists\n"
   ]
  },
  {
   "cell_type": "code",
   "execution_count": 1,
   "metadata": {
    "slideshow": {
     "slide_type": "subslide"
    }
   },
   "outputs": [
    {
     "name": "stdout",
     "output_type": "stream",
     "text": [
      "concat  1.377389392364736 milliseconds\n",
      "append  0.08099359778913762 milliseconds\n",
      "comprehension  0.03240312814509494 milliseconds\n",
      "list range  0.01239416645748248 milliseconds\n"
     ]
    }
   ],
   "source": [
    "import timeit\n",
    " \n",
    " \n",
    "def test1():\n",
    "    l = []\n",
    "    for i in range(1000):\n",
    "        l = l + [i]\n",
    " \n",
    "def test2():\n",
    "    l = []\n",
    "    for i in range(1000):\n",
    "        l.append(i)\n",
    " \n",
    "def test3():\n",
    "    l = [i for i in range(1000)]\n",
    " \n",
    "def test4():\n",
    "    l = list(range(1000)) #range(int)는 이미 list이다.\n",
    " \n",
    "t1 = timeit.Timer(\"test1()\", \"from __main__ import test1\")\n",
    "print(\"concat \",t1.timeit(number=1000), \"milliseconds\")\n",
    "t2 = timeit.Timer(\"test2()\", \"from __main__ import test2\")\n",
    "print(\"append \",t2.timeit(number=1000), \"milliseconds\")\n",
    "t3 = timeit.Timer(\"test3()\", \"from __main__ import test3\")\n",
    "print(\"comprehension \",t3.timeit(number=1000), \"milliseconds\")\n",
    "t4 = timeit.Timer(\"test4()\", \"from __main__ import test4\")\n",
    "print(\"list range \",t4.timeit(number=1000), \"milliseconds\")"
   ]
  },
  {
   "cell_type": "markdown",
   "metadata": {
    "slideshow": {
     "slide_type": "subslide"
    }
   },
   "source": [
    "reference: https://docs.python.org/3.4/library/timeit.html#\n",
    "\n",
    "The profiler shows that with respect to speed, the forth method is the fastest, followed by the third (using generator).\n",
    "append is much more efficient than 'extend'. The former is O(1) while the latter is O(n)."
   ]
  },
  {
   "cell_type": "code",
   "execution_count": 4,
   "metadata": {
    "slideshow": {
     "slide_type": "subslide"
    }
   },
   "outputs": [
    {
     "name": "stdout",
     "output_type": "stream",
     "text": [
      "1.8139707900595567\n",
      "7.947046279355163e-05\n"
     ]
    }
   ],
   "source": [
    "popzero = timeit.Timer(\"x.pop(0)\",\n",
    "                       \"from __main__ import x\")\n",
    "popend = timeit.Timer(\"x.pop()\",\n",
    "                      \"from __main__ import x\")\n",
    "\n",
    "x = list(range(2000000))\n",
    "print (popzero.timeit(number=1000))\n",
    "\n",
    "x = list(range(2000000))\n",
    "print (popend.timeit(number=1000))"
   ]
  },
  {
   "cell_type": "markdown",
   "metadata": {
    "slideshow": {
     "slide_type": "subslide"
    }
   },
   "source": [
    "- pop()은 $O(0)$ 이지만, pop(0)의 경우 0번째 인덱스를 다시 찾아가는 과정에서 $O(n)$로 표현된다."
   ]
  },
  {
   "cell_type": "markdown",
   "metadata": {
    "slideshow": {
     "slide_type": "slide"
    }
   },
   "source": [
    "### Operation <-> Big-O Efficiency\n",
    "|Operation|Big-O Efficiency|\n",
    "|-----|-----|\n",
    "|index []|$O(1)$|\n",
    "|index assignment|$O(1)$|\n",
    "|append|$O(1)$|\n",
    "|pop()|$O(1)$|\n",
    "|pop(i)|$O(n)$|\n",
    "|insert(i,item)|$O(n)$|\n",
    "|del operator|$O(n)$|\n",
    "|iteration|$O(n)$|\n",
    "|contains (in)|$O(n)$|\n",
    "|get slice [x:y]|$O(k)$|\n",
    "|del slice|$O(n)$|\n",
    "|set slice|$O(n+k)$|\n",
    "|reverse|$O(n)$|\n",
    "|concatenate|$O(k)$|\n",
    "|sort|$O(n\\log{}n)$|\n",
    "|multiply|$O(nk)|"
   ]
  },
  {
   "cell_type": "code",
   "execution_count": 11,
   "metadata": {
    "slideshow": {
     "slide_type": "subslide"
    }
   },
   "outputs": [
    {
     "name": "stdout",
     "output_type": "stream",
     "text": [
      "pop(0)   pop()\n",
      "        0.00000,         0.00000\n",
      "        0.00000,         0.00000\n",
      "        0.00001,         0.00000\n",
      "        0.00001,         0.00000\n",
      "        0.00001,         0.00000\n",
      "        0.00002,         0.00000\n",
      "        0.00002,         0.00000\n",
      "        0.00002,         0.00000\n",
      "        0.00002,         0.00000\n",
      "        0.00003,         0.00000\n",
      "        0.00003,         0.00000\n",
      "        0.00003,         0.00000\n",
      "        0.00004,         0.00000\n",
      "        0.00004,         0.00000\n",
      "        0.00005,         0.00000\n",
      "        0.00004,         0.00000\n",
      "        0.00006,         0.00000\n",
      "        0.00006,         0.00000\n",
      "        0.00005,         0.00000\n",
      "        0.00006,         0.00000\n",
      "        0.00007,         0.00000\n",
      "        0.00006,         0.00000\n",
      "        0.00006,         0.00000\n",
      "        0.00008,         0.00000\n",
      "        0.00006,         0.00000\n",
      "        0.00006,         0.00000\n",
      "        0.00008,         0.00000\n",
      "        0.00007,         0.00000\n",
      "        0.00007,         0.00000\n",
      "        0.00012,         0.00000\n",
      "        0.00012,         0.00000\n",
      "        0.00009,         0.00000\n",
      "        0.00010,         0.00000\n",
      "        0.00010,         0.00000\n",
      "        0.00010,         0.00000\n",
      "        0.00009,         0.00000\n",
      "        0.00009,         0.00000\n",
      "        0.00010,         0.00000\n",
      "        0.00010,         0.00000\n",
      "        0.00012,         0.00000\n",
      "        0.00019,         0.00000\n",
      "        0.00013,         0.00000\n",
      "        0.00025,         0.00000\n",
      "        0.00014,         0.00000\n",
      "        0.00015,         0.00000\n",
      "        0.00017,         0.00000\n",
      "        0.00018,         0.00000\n",
      "        0.00019,         0.00000\n",
      "        0.00014,         0.00000\n",
      "        0.00014,         0.00000\n",
      "        0.00015,         0.00000\n",
      "        0.00018,         0.00000\n",
      "        0.00015,         0.00000\n",
      "        0.00015,         0.00000\n",
      "        0.00015,         0.00000\n",
      "        0.00017,         0.00000\n",
      "        0.00018,         0.00000\n",
      "        0.00016,         0.00000\n",
      "        0.00017,         0.00000\n",
      "        0.00018,         0.00000\n",
      "        0.00018,         0.00000\n",
      "        0.00020,         0.00000\n",
      "        0.00019,         0.00000\n",
      "        0.00027,         0.00000\n",
      "        0.00022,         0.00000\n",
      "        0.00024,         0.00000\n",
      "        0.00020,         0.00000\n",
      "        0.00021,         0.00000\n",
      "        0.00020,         0.00000\n",
      "        0.00020,         0.00000\n",
      "        0.00021,         0.00000\n",
      "        0.00035,         0.00000\n",
      "        0.00023,         0.00000\n",
      "        0.00021,         0.00000\n",
      "        0.00022,         0.00000\n",
      "        0.00023,         0.00000\n",
      "        0.00026,         0.00000\n",
      "        0.00026,         0.00000\n",
      "        0.00024,         0.00000\n",
      "        0.00024,         0.00000\n",
      "        0.00028,         0.00000\n",
      "        0.00026,         0.00000\n",
      "        0.00025,         0.00000\n",
      "        0.00024,         0.00000\n",
      "        0.00025,         0.00000\n",
      "        0.00025,         0.00000\n",
      "        0.00026,         0.00000\n",
      "        0.00025,         0.00000\n",
      "        0.00028,         0.00000\n",
      "        0.00027,         0.00000\n",
      "        0.00027,         0.00000\n",
      "        0.00035,         0.00000\n",
      "        0.00056,         0.00000\n",
      "        0.00029,         0.00000\n",
      "        0.00044,         0.00000\n",
      "        0.00036,         0.00000\n",
      "        0.00034,         0.00000\n",
      "        0.00035,         0.00000\n",
      "        0.00034,         0.00000\n",
      "        0.00042,         0.00000\n"
     ]
    }
   ],
   "source": [
    "popzero = timeit.Timer(\"x.pop(0)\",\n",
    "                \"from __main__ import x\")\n",
    "popend = timeit.Timer(\"x.pop()\",\n",
    "               \"from __main__ import x\")\n",
    "print(\"pop(0)   pop()\")\n",
    "ptlist=[]\n",
    "pzlist=[]\n",
    "for i in range(1000,100001,1000):\n",
    "    x = list(range(i))\n",
    "    pt = popend.timeit(number=10)\n",
    "    ptlist.append(pt)\n",
    "    x = list(range(i))\n",
    "    pz = popzero.timeit(number=10)\n",
    "    pzlist.append(pz)\n",
    "    print(\"%15.5f, %15.5f\" %(pz,pt))"
   ]
  },
  {
   "cell_type": "code",
   "execution_count": 18,
   "metadata": {
    "slideshow": {
     "slide_type": "subslide"
    }
   },
   "outputs": [
    {
     "data": {
      "text/plain": [
       "<matplotlib.legend.Legend at 0x21ae57a0e10>"
      ]
     },
     "execution_count": 18,
     "metadata": {},
     "output_type": "execute_result"
    },
    {
     "data": {
      "image/png": "[encoded data removed]",
      "text/plain": [
       "<matplotlib.figure.Figure at 0x21a9c596710>"
      ]
     },
     "metadata": {},
     "output_type": "display_data"
    }
   ],
   "source": [
    "%matplotlib inline\n",
    "\n",
    "from matplotlib import pyplot as pl\n",
    "import numpy as np\n",
    "\n",
    "fig = pl.figure()\n",
    "t = range(1000,100001,1000)\n",
    "pl.plot(t, pzlist, 'bo', label=u'pop(0)')\n",
    "pl.plot(t, ptlist, 'r-', label=u'pop( )')\n",
    "\n",
    "\n",
    "pl.xlabel('list size')\n",
    "pl.ylabel('time(sec)')\n",
    "\n",
    "pl.legend(loc='upper left')"
   ]
  },
  {
   "cell_type": "markdown",
   "metadata": {
    "slideshow": {
     "slide_type": "slide"
    }
   },
   "source": [
    "# 2.7. Dictionaries\n",
    "- **As you probably recall, dictionaries differ from lists in that you can access items in a dictionary by a key rather than a position.**\n",
    "- The thing that is most important to notice right now is that the get item and set item operations on a dictionary are $O(1)$.\n",
    "- Another important dictionary operation is the contains operation. => $O(1)$\n",
    "- Checking to see whether a key is in the dictionary or not is also $O(1)$"
   ]
  },
  {
   "cell_type": "markdown",
   "metadata": {
    "slideshow": {
     "slide_type": "subslide"
    }
   },
   "source": [
    "|Operation|Big-O Efficiency|\n",
    "|-----|-----|\n",
    "|copy|$O(1)$|\n",
    "|get item|$O(1)$|\n",
    "|set item|$O(1)$|\n",
    "|delete item|$O(1)$|\n",
    "|contains (in)|$O(1)$|\n",
    "|iteration|$O(n)$|"
   ]
  },
  {
   "cell_type": "code",
   "execution_count": 30,
   "metadata": {},
   "outputs": [
    {
     "name": "stdout",
     "output_type": "stream",
     "text": [
      "1000,     0.000,     0.000\n",
      "3000,     0.000,     0.000\n",
      "5000,     0.000,     0.000\n",
      "7000,     0.001,     0.000\n",
      "9000,     0.001,     0.000\n",
      "11000,     0.001,     0.000\n",
      "13000,     0.001,     0.000\n",
      "15000,     0.001,     0.000\n",
      "17000,     0.001,     0.000\n",
      "19000,     0.001,     0.000\n",
      "21000,     0.001,     0.000\n",
      "23000,     0.002,     0.000\n",
      "25000,     0.002,     0.000\n",
      "27000,     0.001,     0.000\n",
      "29000,     0.002,     0.000\n",
      "31000,     0.002,     0.000\n",
      "33000,     0.002,     0.000\n",
      "35000,     0.003,     0.000\n",
      "37000,     0.003,     0.000\n",
      "39000,     0.003,     0.000\n",
      "41000,     0.003,     0.000\n",
      "43000,     0.003,     0.000\n",
      "45000,     0.004,     0.000\n",
      "47000,     0.003,     0.000\n",
      "49000,     0.004,     0.000\n",
      "51000,     0.004,     0.000\n",
      "53000,     0.004,     0.000\n",
      "55000,     0.004,     0.000\n",
      "57000,     0.003,     0.000\n",
      "59000,     0.004,     0.000\n",
      "61000,     0.003,     0.000\n",
      "63000,     0.006,     0.000\n",
      "65000,     0.004,     0.000\n",
      "67000,     0.004,     0.000\n",
      "69000,     0.005,     0.000\n",
      "71000,     0.006,     0.000\n",
      "73000,     0.004,     0.000\n",
      "75000,     0.005,     0.000\n",
      "77000,     0.007,     0.000\n",
      "79000,     0.005,     0.000\n",
      "81000,     0.006,     0.000\n",
      "83000,     0.006,     0.000\n",
      "85000,     0.007,     0.000\n",
      "87000,     0.010,     0.000\n",
      "89000,     0.007,     0.000\n",
      "91000,     0.007,     0.000\n",
      "93000,     0.007,     0.000\n",
      "95000,     0.007,     0.000\n",
      "97000,     0.007,     0.000\n",
      "99000,     0.007,     0.000\n"
     ]
    }
   ],
   "source": [
    "import random\n",
    "\n",
    "\n",
    "lstlist=[]\n",
    "diclist=[]\n",
    "\n",
    "for i in range(1000,100001,2000):\n",
    "    t = timeit.Timer(\"random.randrange(%d) in x\"%i,\n",
    "                     \"from __main__ import random,x\")\n",
    "    x = list(range(i))\n",
    "    lst_time = t.timeit(number=10)\n",
    "    lstlist.append(lst_time)\n",
    "    x = {j:None for j in range(i)}\n",
    "    dic_time = t.timeit(number=10)\n",
    "    diclist.append(dic_time)\n",
    "    print(\"%d,%10.3f,%10.3f\" % (i, lst_time, dic_time))"
   ]
  },
  {
   "cell_type": "code",
   "execution_count": 31,
   "metadata": {},
   "outputs": [
    {
     "data": {
      "text/plain": [
       "<matplotlib.legend.Legend at 0x21afb122f60>"
      ]
     },
     "execution_count": 31,
     "metadata": {},
     "output_type": "execute_result"
    },
    {
     "data": {
      "image/png": "[encoded data removed]",
      "text/plain": [
       "<matplotlib.figure.Figure at 0x21a825c63c8>"
      ]
     },
     "metadata": {},
     "output_type": "display_data"
    }
   ],
   "source": [
    "fig = pl.figure()\n",
    "t = range(1000,100001,2000)\n",
    "pl.plot(t, lstlist, 'bo', label=u'list')\n",
    "pl.plot(t, diclist, 'r-', label=u'dictionary')\n",
    "\n",
    "\n",
    "pl.xlabel('size')\n",
    "pl.ylabel('time(sec)')\n",
    "\n",
    "pl.legend(loc='upper left')"
   ]
  },
  {
   "cell_type": "markdown",
   "metadata": {
    "slideshow": {
     "slide_type": "slide"
    }
   },
   "source": [
    "Q-4: Which of the list operations shown below is not O(1)?\n",
    "(A) list.pop(0)\n",
    "(B) list.pop()\n",
    "(C) list.append()\n",
    "(D) list[10]\n",
    "(E) all of the above are O(1)\n",
    "---\n",
    "Q-5: Which of the dictionary operations shown below is O(1)?\n",
    "(A) 'x' in mydict\n",
    "(B) del mydict['x']\n",
    "(C) mydict['x'] == 10\n",
    "(D) mydict['x'] = mydict['x'] + 1\n",
    "(E) all of the above are O(1)"
   ]
  },
  {
   "cell_type": "markdown",
   "metadata": {
    "slideshow": {
     "slide_type": "slide"
    }
   },
   "source": [
    "# 2.8. Summary\n",
    "- Algorithm analysis is an implementation-independent way of measuring an algorithm.\n",
    "- Big-O notation allows algorithms to be classified by their dominant process with respect to the size of the problem."
   ]
  },
  {
   "cell_type": "code",
   "execution_count": 39,
   "metadata": {
    "slideshow": {
     "slide_type": "slide"
    }
   },
   "outputs": [
    {
     "name": "stdout",
     "output_type": "stream",
     "text": [
      "0.0007342953467741609 milliseconds\n",
      "0.0004105485168111045 milliseconds\n",
      "0.00017917510194820352 milliseconds\n",
      "0.0009656687598180724 milliseconds\n",
      "0.00017888185357151087 milliseconds\n",
      "0.0011114134831586853 milliseconds\n"
     ]
    }
   ],
   "source": [
    "# 2.10. Discussion Question\n",
    "\n",
    "#1. Give the Big-O performance of the following code fragment:\n",
    "\n",
    "def test1(n):\n",
    "    for i in range(n):\n",
    "       for j in range(n):\n",
    "          k = 2 + 2\n",
    "#2. Give the Big-O performance of the following code fragment:\n",
    "\n",
    "def test2(n):\n",
    "    for i in range(n):\n",
    "         k = 2 + 2\n",
    "            \n",
    "#3. Give the Big-O performance of the following code fragment:\n",
    "\n",
    "def test3(n):\n",
    "    i = n\n",
    "    while i > 0:\n",
    "        k = 2 + 2\n",
    "        i = i // 2\n",
    "        \n",
    "#4. Give the Big-O performance of the following code fragment:\n",
    "\n",
    "def test4(n):\n",
    "    for i in range(n):\n",
    "       for j in range(n):\n",
    "          for k in range(n):\n",
    "             k = 2 + 2\n",
    "\n",
    "#5. Give the Big-O performance of the following code fragment:\n",
    "\n",
    "def test5(n):\n",
    "    i = n\n",
    "    while i > 0:\n",
    "       k = 2 + 2\n",
    "       i = i // 2\n",
    "    \n",
    "#6. Give the Big-O performance of the following code fragment:\n",
    "\n",
    "def test6(n):\n",
    "    for i in range(n):\n",
    "       k = 2 + 2\n",
    "    for j in range(n):\n",
    "       k = 2 + 2\n",
    "    for k in range(n):\n",
    "       k = 2 + 2\n",
    "    \n",
    "t = timeit.Timer(\"test1(1)\", \"from __main__ import test1\")\n",
    "print(t.timeit(number=1000), \"milliseconds\")\n",
    "t = timeit.Timer(\"test2(1)\", \"from __main__ import test2\")\n",
    "print(t.timeit(number=1000), \"milliseconds\")\n",
    "t = timeit.Timer(\"test3(1)\", \"from __main__ import test3\")\n",
    "print(t.timeit(number=1000), \"milliseconds\")\n",
    "t = timeit.Timer(\"test4(1)\", \"from __main__ import test4\")\n",
    "print(t.timeit(number=1000), \"milliseconds\")\n",
    "t = timeit.Timer(\"test5(1)\", \"from __main__ import test5\")\n",
    "print(t.timeit(number=1000), \"milliseconds\")\n",
    "t = timeit.Timer(\"test6(1)\", \"from __main__ import test6\")\n",
    "print(t.timeit(number=1000), \"milliseconds\")"
   ]
  }
 ],
 "metadata": {
  "celltoolbar": "Slideshow",
  "kernelspec": {
   "display_name": "Python 3",
   "language": "python",
   "name": "python3"
  },
  "language_info": {
   "codemirror_mode": {
    "name": "ipython",
    "version": 3
   },
   "file_extension": ".py",
   "mimetype": "text/x-python",
   "name": "python",
   "nbconvert_exporter": "python",
   "pygments_lexer": "ipython3",
   "version": "3.6.1"
  }
 },
 "nbformat": 4,
 "nbformat_minor": 2
}
