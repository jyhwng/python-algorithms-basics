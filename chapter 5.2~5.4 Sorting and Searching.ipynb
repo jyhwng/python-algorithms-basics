{
 "cells": [
  {
   "cell_type": "markdown",
   "metadata": {},
   "source": [
    "# 5.2. Searching\n",
    "\n",
    "- 5장 초반은 Searching, 후반은 Sorting에 대해 알아볼 예정\n",
    "- 일반적인 Searching의 결과값은 True(찾음)/False(못찾음) or Index(어디에 위치하고 있는지)\n",
    "- Python에서는 간단하게 'in' 연산자를 이용해 Search 가능"
   ]
  },
  {
   "cell_type": "code",
   "execution_count": 1,
   "metadata": {},
   "outputs": [
    {
     "data": {
      "text/plain": [
       "False"
      ]
     },
     "execution_count": 1,
     "metadata": {},
     "output_type": "execute_result"
    }
   ],
   "source": [
    "15 in [1,2,3,4]"
   ]
  },
  {
   "cell_type": "code",
   "execution_count": 2,
   "metadata": {},
   "outputs": [
    {
     "data": {
      "text/plain": [
       "True"
      ]
     },
     "execution_count": 2,
     "metadata": {},
     "output_type": "execute_result"
    }
   ],
   "source": [
    "3 in [1,2,3,4]"
   ]
  },
  {
   "cell_type": "markdown",
   "metadata": {},
   "source": [
    "- 사용법이 어렵지 않지만, 어떻게 동작하는지 알아봐야 함\n",
    "- Search에는 다양한 방법이 있으며 어떻게 동작하는지, 어떤 차이가 있는지 알아볼것\n"
   ]
  },
  {
   "cell_type": "markdown",
   "metadata": {},
   "source": [
    "# Search에 관련된 간단한 동영상\n",
    "\n",
    "https://www.youtube.com/watch?v=x1d1b6Rb--E\n"
   ]
  },
  {
   "cell_type": "markdown",
   "metadata": {},
   "source": [
    "# 5.3. The Sequential Search"
   ]
  },
  {
   "cell_type": "markdown",
   "metadata": {},
   "source": [
    "- List같은 Collection은 각각의 데이터가 위치(Index)를 갖고 있음\n",
    "- Index값이 정렬되어 있다면, 순차적으로 접근해 볼 수 있음"
   ]
  },
  {
   "cell_type": "markdown",
   "metadata": {},
   "source": [
    "<img src=\"http://interactivepython.org/runestone/static/pythonds/_images/seqsearch.png\">"
   ]
  },
  {
   "cell_type": "code",
   "execution_count": 4,
   "metadata": {},
   "outputs": [
    {
     "name": "stdout",
     "output_type": "stream",
     "text": [
      "False\n",
      "True\n"
     ]
    }
   ],
   "source": [
    "def sequentialSearch(alist, item):\n",
    "    pos = 0\n",
    "    found = False\n",
    "    while pos < len(alist) and not found:\n",
    "        if alist[pos] == item:\n",
    "            found = True\n",
    "        else:\n",
    "            pos = pos+1\n",
    "\n",
    "    return found\n",
    "\n",
    "testlist = [1, 2, 32, 8, 17, 19, 42, 13, 0]\n",
    "print(sequentialSearch(testlist, 3))\n",
    "print(sequentialSearch(testlist, 13))"
   ]
  },
  {
   "cell_type": "markdown",
   "metadata": {},
   "source": [
    "# 5.3.1. Analysis of Sequential Search"
   ]
  },
  {
   "cell_type": "markdown",
   "metadata": {},
   "source": [
    "| Case                | Best Case | Worst Case | Average Case |\n",
    "|---------------------|-----------|------------|--------------|\n",
    "| item is present     |\t1         | n          | n/2          |\n",
    "| item is not present | n         |\tn          |\tn         |\n",
    "\n",
    "Complexity of the sequential search: O(n)"
   ]
  },
  {
   "cell_type": "markdown",
   "metadata": {},
   "source": [
    "- 탐색에서의 성능비교: 몇 번 비교했는지를 Count\n",
    "- List의 값들은 정렬되지 않은 상태\n",
    "- List내에 찾는 값이 있는 경우: 비교횟수 <= n\n",
    "- List내에 찾는 값이 없는 경우: 비교횟수 == n"
   ]
  },
  {
   "cell_type": "markdown",
   "metadata": {},
   "source": [
    "[ 정렬된 List의 경우 ]"
   ]
  },
  {
   "cell_type": "markdown",
   "metadata": {},
   "source": [
    "<img src=\"http://interactivepython.org/runestone/static/pythonds/_images/seqsearch2.png\">"
   ]
  },
  {
   "cell_type": "code",
   "execution_count": 5,
   "metadata": {},
   "outputs": [
    {
     "name": "stdout",
     "output_type": "stream",
     "text": [
      "False\n",
      "True\n"
     ]
    }
   ],
   "source": [
    "def orderedSequentialSearch(alist, item):\n",
    "    pos = 0\n",
    "    found = False\n",
    "    stop = False\n",
    "    while pos < len(alist) and not found and not stop:\n",
    "        if alist[pos] == item:\n",
    "            found = True\n",
    "        else:\n",
    "            if alist[pos] > item:\n",
    "                stop = True\n",
    "            else:\n",
    "                pos = pos+1\n",
    "\n",
    "    return found\n",
    "testlist = [0, 1, 2, 8, 13, 17, 19, 32, 42,]\n",
    "print(orderedSequentialSearch(testlist, 3))\n",
    "print(orderedSequentialSearch(testlist, 13))"
   ]
  },
  {
   "cell_type": "markdown",
   "metadata": {},
   "source": [
    "| Case                | Best Case | Worst Case | Average Case |\n",
    "|---------------------|-----------|------------|--------------|\n",
    "| item is present     |\t1         | n          | n/2          |\n",
    "| item is not present | 1         |\tn          | n/2          |\n",
    "\n",
    "- Complexity of the sequential search: O(n). 비정렬된 List와 동일\n",
    "\n",
    "## Question\n",
    " 1. [3,5,6,8,11,12,14,15,17,18]의 값을 가진 정렬된 List가 있을때, 13을 찾기 위해서는 몇번 비교해야 하나?\n",
    " (A) 10  (B) 5  (C) 7  (D) 6"
   ]
  },
  {
   "cell_type": "markdown",
   "metadata": {},
   "source": [
    "# 5.4. The Binary Search"
   ]
  },
  {
   "cell_type": "markdown",
   "metadata": {},
   "source": [
    "- 5.3절에서 나타낸 것 처럼 정렬된 List의 경우 비교횟수를 줄일 수 있었음\n",
    "- 순차적 접근 대신 중간부터 시작하는 binary search에 대해 알아볼 것\n",
    "- 찾는 값 > 중간 값(접근한 index의 값) : 중간 값 이하의 List는 버림\n",
    "- 찾는 값 < 중간 값(접근한 index의 값) : 중간 값 이상의 List는 버림\n",
    "!!! 중요점: List는 Search하기 전에 정렬되어 있어야 함 !!!"
   ]
  },
  {
   "cell_type": "markdown",
   "metadata": {},
   "source": [
    "<img src=\"http://interactivepython.org/runestone/static/pythonds/_images/binsearch.png\">"
   ]
  },
  {
   "cell_type": "code",
   "execution_count": 6,
   "metadata": {},
   "outputs": [
    {
     "name": "stdout",
     "output_type": "stream",
     "text": [
      "False\n",
      "True\n"
     ]
    }
   ],
   "source": [
    "def binarySearch(alist, item):\n",
    "    first = 0\n",
    "    last = len(alist)-1\n",
    "    found = False\n",
    "\n",
    "    while first<=last and not found:\n",
    "        midpoint = (first + last)//2\n",
    "        if alist[midpoint] == item:\n",
    "            found = True\n",
    "        else:\n",
    "            if item < alist[midpoint]:\n",
    "                last = midpoint-1\n",
    "            else:\n",
    "                first = midpoint+1\n",
    "\n",
    "    return found\n",
    "\n",
    "testlist = [0, 1, 2, 8, 13, 17, 19, 32, 42,]\n",
    "print(binarySearch(testlist, 3))\n",
    "print(binarySearch(testlist, 13))"
   ]
  },
  {
   "cell_type": "markdown",
   "metadata": {},
   "source": [
    "- Binary search 알고리즘은 Divide and Conquer Strategy의 좋은 예\n",
    "- Divide and Conquer(분할 정복): 문제를 최대한 작은 조각으로 만들어 풀고, 그 결과들을 합치는 기법\n",
    "- 찾는 값 > 중간 값(접근한 index의 값) \n",
    "  : 새로운 List(중간 값 초과 index ~ 현재 List의 마지막 index)로 다시 탐색\n",
    "- 찾는 값 < 중간 값(접근한 index의 값) \n",
    "  : 새로운 List(현재 List의 처음 index ~ 중간 값 미만 index)로 다시 탐색\n",
    "  \n",
    "- 따라서 4장에서 배운 Recursive를 이용해서 다음과 같이 작성 가능"
   ]
  },
  {
   "cell_type": "code",
   "execution_count": 7,
   "metadata": {},
   "outputs": [
    {
     "name": "stdout",
     "output_type": "stream",
     "text": [
      "False\n",
      "True\n"
     ]
    }
   ],
   "source": [
    "def binarySearch(alist, item):\n",
    "    if len(alist) == 0:\n",
    "        return False\n",
    "    else:\n",
    "        midpoint = len(alist)//2\n",
    "        if alist[midpoint]==item:\n",
    "          return True\n",
    "        else:\n",
    "          if item<alist[midpoint]:\n",
    "            return binarySearch(alist[:midpoint],item)\n",
    "          else:\n",
    "            return binarySearch(alist[midpoint+1:],item)\n",
    "\n",
    "testlist = [0, 1, 2, 8, 13, 17, 19, 32, 42,]\n",
    "print(binarySearch(testlist, 3))\n",
    "print(binarySearch(testlist, 13))"
   ]
  },
  {
   "cell_type": "markdown",
   "metadata": {},
   "source": [
    "# 5.4.1. Analysis of Binary Search"
   ]
  },
  {
   "cell_type": "markdown",
   "metadata": {},
   "source": [
    "| Comparisons         | Approximate Number of Items Left |\n",
    "|-|-|\n",
    "| 1 | n/2 |\n",
    "| 2 | n/4 |\n",
    "| 3 | n/8 |\n",
    "|...| ... |\n",
    "|i  | n/2^i|\n",
    "\n",
    "- i가 1일 때(남은 item의 갯수가 1개일때), 탐색 완료. n = 2^i, i = logn\n",
    "- Complexity of the binary search: O(logn).\n",
    "\n",
    "------------------------------------------------------\n",
    "\n",
    "- 작은 n(list가 작은 경우)에는 binary search가 별 의미가 없음.. search전에 정렬을 해야 하기 때문\n",
    "- binary search를 사용할 경우, 단순히 비교에 대한 cost만 따질게 아니라 비교하기 전에 list 정렬을 하는데 사용되는 cost를 따져야 함\n",
    "- list가 계속 업데이트 될 경우, 업데이트 될 때마다 정렬을 해야하는 단점이 있음\n",
    "- 단순히 sequential search를 하는게 더 좋은 경우도 있음\n",
    "\n",
    "\n",
    "\n",
    "## Question\n",
    "\n",
    " 1. [3,5,6,8,11,12,14,15,17,18]의 값을 가진 정렬된 List가 있을때, 8을 찾는 과정에서 선택되는 값들은 순서대로 나열한 것은? (binary search)\n",
    " (A) 11, 5, 6, 8  \n",
    " (B) 12, 6, 11, 8\n",
    " (C) 3, 5, 6, 8\n",
    " (D) 18, 12, 6, 8\n",
    " \n",
    " 2. [3,5,6,8,11,12,14,15,17,18]의 값을 가진 정렬된 List가 있을때, 16을 찾는 과정에서 선택되는 값들은 순서대로 나열한 것은? (binary search)\n",
    " (A) 11, 14, 17  \n",
    " (B) 18, 17, 15\n",
    " (C) 14, 17, 15\n",
    " (D) 12, 17, 15"
   ]
  }
 ],
 "metadata": {
  "kernelspec": {
   "display_name": "Python 3",
   "language": "python",
   "name": "python3"
  },
  "language_info": {
   "codemirror_mode": {
    "name": "ipython",
    "version": 3
   },
   "file_extension": ".py",
   "mimetype": "text/x-python",
   "name": "python",
   "nbconvert_exporter": "python",
   "pygments_lexer": "ipython3",
   "version": "3.5.1"
  }
 },
 "nbformat": 4,
 "nbformat_minor": 2
}
